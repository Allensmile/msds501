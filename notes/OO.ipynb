{
 "cells": [
  {
   "cell_type": "markdown",
   "metadata": {},
   "source": [
    "# Object-oriented programming"
   ]
  },
  {
   "cell_type": "markdown",
   "metadata": {},
   "source": [
    "# The big reveal"
   ]
  },
  {
   "cell_type": "markdown",
   "metadata": {},
   "source": [
    "So far we've been working with functions and packages of functions, as well as defining our own functions.  It turns out, though, that we've been working with objects all along, we just haven't recognize them as such. For example,"
   ]
  },
  {
   "cell_type": "code",
   "execution_count": 113,
   "metadata": {},
   "outputs": [
    {
     "data": {
      "text/plain": [
       "'hi'"
      ]
     },
     "execution_count": 113,
     "metadata": {},
     "output_type": "execute_result"
    }
   ],
   "source": [
    "x = 'Hi'\n",
    "x.lower()"
   ]
  },
  {
   "cell_type": "markdown",
   "metadata": {},
   "source": [
    "The string `x` is an object that we can send messages to."
   ]
  },
  {
   "cell_type": "code",
   "execution_count": 114,
   "metadata": {
    "scrolled": true
   },
   "outputs": [
    {
     "name": "stdout",
     "output_type": "stream",
     "text": [
      "<class 'str'>\n"
     ]
    }
   ],
   "source": [
    "print( type(x) )"
   ]
  },
  {
   "cell_type": "markdown",
   "metadata": {},
   "source": [
    "Even integers are objects:"
   ]
  },
  {
   "cell_type": "code",
   "execution_count": 115,
   "metadata": {},
   "outputs": [
    {
     "name": "stdout",
     "output_type": "stream",
     "text": [
      "['__abs__', '__add__', '__and__', '__bool__', '__ceil__', '__class__', '__delattr__', '__dir__', '__divmod__', '__doc__', '__eq__', '__float__', '__floor__', '__floordiv__', '__format__', '__ge__', '__getattribute__', '__getnewargs__', '__gt__', '__hash__', '__index__', '__init__', '__init_subclass__', '__int__', '__invert__', '__le__', '__lshift__', '__lt__', '__mod__', '__mul__', '__ne__', '__neg__', '__new__', '__or__', '__pos__', '__pow__', '__radd__', '__rand__', '__rdivmod__', '__reduce__', '__reduce_ex__', '__repr__', '__rfloordiv__', '__rlshift__', '__rmod__', '__rmul__', '__ror__', '__round__', '__rpow__', '__rrshift__', '__rshift__', '__rsub__', '__rtruediv__', '__rxor__', '__setattr__', '__sizeof__', '__str__', '__sub__', '__subclasshook__', '__truediv__', '__trunc__', '__xor__', 'bit_length', 'conjugate', 'denominator', 'from_bytes', 'imag', 'numerator', 'real', 'to_bytes']\n"
     ]
    }
   ],
   "source": [
    "print(dir(99))"
   ]
  },
  {
   "cell_type": "markdown",
   "metadata": {},
   "source": [
    "A *class* is the blueprint for an object and is basically the name of the type, `str` in this case. An object is called an *instance* of the class.\n",
    "\n",
    "In `x.lower()` we are sending the `lower` message to the `x` string object. Messages are really just functions associated with classes/objects."
   ]
  },
  {
   "cell_type": "code",
   "execution_count": 116,
   "metadata": {},
   "outputs": [
    {
     "data": {
      "text/plain": [
       "<function str.lower>"
      ]
     },
     "execution_count": 116,
     "metadata": {},
     "output_type": "execute_result"
    }
   ],
   "source": [
    "x.lower"
   ]
  },
  {
   "cell_type": "markdown",
   "metadata": {},
   "source": [
    "In a language that does not support object learning programming, we would do something like:\n",
    "\n",
    "```python\n",
    "lower(x)\n",
    "```\n",
    "\n",
    "Python has both functions and object reprogramming which is why there is both `x.lower()` and:"
   ]
  },
  {
   "cell_type": "code",
   "execution_count": 117,
   "metadata": {},
   "outputs": [
    {
     "data": {
      "text/plain": [
       "2"
      ]
     },
     "execution_count": 117,
     "metadata": {},
     "output_type": "execute_result"
    }
   ],
   "source": [
    "len(x)"
   ]
  },
  {
   "cell_type": "markdown",
   "metadata": {},
   "source": [
    "The choice of function or \"message\" is up to the library designer, but `lower` only makes sense for strings so it makes sense to group it with the definition of `str`.\n",
    "\n",
    "In terms of implementation, however, `x.lower()` is actually implemented as `str.lower(x)` where `str` is the class definition for strings. Computer processors understand function calls; they do not understand objects and so we performed this translation within the Python interpreter itself."
   ]
  },
  {
   "cell_type": "markdown",
   "metadata": {},
   "source": [
    "# Package vs object members\n",
    "\n",
    "Let's get another thing straight. The dot `.` operator is overloaded in Python to mean both package member and object member access.  You are familiar with this already:"
   ]
  },
  {
   "cell_type": "code",
   "execution_count": 118,
   "metadata": {
    "scrolled": false
   },
   "outputs": [
    {
     "data": {
      "text/plain": [
       "array([1, 2, 3])"
      ]
     },
     "execution_count": 118,
     "metadata": {},
     "output_type": "execute_result"
    }
   ],
   "source": [
    "import numpy as np\n",
    "np.array([1,2,3])"
   ]
  },
  {
   "cell_type": "code",
   "execution_count": 119,
   "metadata": {},
   "outputs": [
    {
     "data": {
      "text/plain": [
       "8.006367567650246"
      ]
     },
     "execution_count": 119,
     "metadata": {},
     "output_type": "execute_result"
    }
   ],
   "source": [
    "import math\n",
    "math.log(3000)"
   ]
  },
  {
   "cell_type": "markdown",
   "metadata": {},
   "source": [
    "This is a common point of confusion when reading code. When we see `a.f()`, we don't know whether that function `f` is a member of the package identified by `a` or an object referred to by `a`.\n",
    "\n",
    "In the wordsim project, you defined a file called `wordsim.py` and then my `test_wordsim.py` file did `from wordsim import *` to pull in all your functions in `wordsim.py`."
   ]
  },
  {
   "cell_type": "markdown",
   "metadata": {},
   "source": [
    "## Exercise"
   ]
  },
  {
   "cell_type": "markdown",
   "metadata": {},
   "source": [
    "In the following, identify the *identifiers* (words) as package or function or field:\n",
    "\n",
    "1. `np.log(3)`\n",
    "1. `np.linalg.norm(v)`\n",
    "1. `from sklearn.ensemble import RandomForestRegressor`\n",
    "1. `pd.read_csv(\"foo.csv\")`\n",
    "1. `pd.read_csv`\n",
    "1. `'hi'.lower()`\n",
    "1. `'hi'.lower`\n",
    "1. `df_train.columns`\n",
    "1. `np.pi`\n",
    "1. `img = img.convert(\"L\")`\n",
    "\n",
    "Now, identify the data types of subexpressions and identify the *identifiers* (words) as package or function or field:\n",
    "\n",
    "1. `df[\"saledate\"].dt.year`\n",
    "1. `df_train.isnull().any().head(60)`"
   ]
  },
  {
   "cell_type": "markdown",
   "metadata": {},
   "source": [
    "# Fields versus methods\n",
    "\n",
    "Objects have functions, which we call *methods* to distinguish them from functions not associated with objects. Objects also have variables, which we call *fields* or *instance variables*.  \n",
    "\n",
    "Fields are the *state* of the object.  Methods are the *behavior* of the object.\n",
    "\n",
    "We've also been using fields all along, such as `df.columns` that gets the list of columns in a data frame."
   ]
  },
  {
   "cell_type": "code",
   "execution_count": 120,
   "metadata": {},
   "outputs": [
    {
     "name": "stdout",
     "output_type": "stream",
     "text": [
      "<class 'datetime.date'>\n",
      "2018\n",
      "8\n"
     ]
    }
   ],
   "source": [
    "import datetime\n",
    "now = datetime.date.today()\n",
    "print( type(now) )\n",
    "print( now.year ) # access field year\n",
    "print( now.month )"
   ]
  },
  {
   "cell_type": "markdown",
   "metadata": {},
   "source": [
    "If you try to access an objects function without the parentheses, the expression evaluates to the function object itself instead of calling it:"
   ]
  },
  {
   "cell_type": "code",
   "execution_count": 121,
   "metadata": {},
   "outputs": [
    {
     "data": {
      "text/plain": [
       "<function str.title>"
      ]
     },
     "execution_count": 121,
     "metadata": {},
     "output_type": "execute_result"
    }
   ],
   "source": [
    "s='hi'\n",
    "s.title"
   ]
  },
  {
   "cell_type": "markdown",
   "metadata": {},
   "source": [
    "# A simple class definition"
   ]
  },
  {
   "cell_type": "markdown",
   "metadata": {},
   "source": [
    "A class is a blueprint for multiple objects, often called *instances*.  The class *encapsulates* the state and behavior of an object.\n",
    "\n",
    "Imagine an alien lands in your backyard and asks you to describe a car. You would probably describe its attributes, such as the number of wheels, and its functionality, such as can start and stop. These are the state and behavior. By defining them, we effectively define the object. The class name is just giving a name to the entity.\n",
    "\n",
    "By convention, class names should be capitalized like `Point`."
   ]
  },
  {
   "cell_type": "markdown",
   "metadata": {},
   "source": [
    "## Tuples as object substitutes\n",
    "\n",
    "The fields of an object are the data items we want to associate together. For example, if I want to track book titles/authors, I can use a list of tuples:"
   ]
  },
  {
   "cell_type": "code",
   "execution_count": 122,
   "metadata": {},
   "outputs": [
    {
     "data": {
      "image/svg+xml": [
       "<?xml version=\"1.0\" encoding=\"UTF-8\" standalone=\"no\"?>\n",
       "<!DOCTYPE svg PUBLIC \"-//W3C//DTD SVG 1.1//EN\"\n",
       " \"http://www.w3.org/Graphics/SVG/1.1/DTD/svg11.dtd\">\n",
       "<!-- Generated by graphviz version 2.40.1 (20161225.0304)\n",
       " -->\n",
       "<!-- Title: G Pages: 1 -->\n",
       "<svg width=\"184pt\" height=\"75pt\"\n",
       " viewBox=\"0.00 0.00 184.00 75.00\" xmlns=\"http://www.w3.org/2000/svg\" xmlns:xlink=\"http://www.w3.org/1999/xlink\">\n",
       "<g id=\"graph0\" class=\"graph\" transform=\"scale(1 1) rotate(0) translate(4 71)\">\n",
       "<title>G</title>\n",
       "<polygon fill=\"#ffffff\" stroke=\"transparent\" points=\"-4,4 -4,-71 180,-71 180,4 -4,4\"/>\n",
       "<!-- node4660184264 -->\n",
       "<g id=\"node1\" class=\"node\">\n",
       "<title>node4660184264</title>\n",
       "<polygon fill=\"#cfe2d4\" stroke=\"#444443\" stroke-width=\".5\" points=\"13,-49 0,-49 0,-17 13,-17 13,-49\"/>\n",
       "<polygon fill=\"#cfe2d4\" stroke=\"transparent\" points=\"1.5,-33 1.5,-48 12.5,-48 12.5,-33 1.5,-33\"/>\n",
       "<polyline fill=\"none\" stroke=\"#444443\" points=\"1.5,-33 12.5,-33 \"/>\n",
       "<text text-anchor=\"start\" x=\"4.4973\" y=\"-37.8\" font-family=\"Helvetica,sans-Serif\" font-size=\"9.00\" fill=\"#444443\">0</text>\n",
       "<polygon fill=\"#cfe2d4\" stroke=\"transparent\" points=\"1.5,-18 1.5,-33 12.5,-33 12.5,-18 1.5,-18\"/>\n",
       "<text text-anchor=\"start\" x=\"4.4973\" y=\"-22.8\" font-family=\"Helvetica,sans-Serif\" font-size=\"9.00\" fill=\"#444443\">1</text>\n",
       "</g>\n",
       "<!-- node4659494024 -->\n",
       "<g id=\"node2\" class=\"node\">\n",
       "<title>node4659494024</title>\n",
       "<polygon fill=\"none\" stroke=\"#000000\" stroke-width=\".5\" points=\"167,-67 44,-67 44,-37 167,-37 167,-67\"/>\n",
       "<polygon fill=\"#fefecd\" stroke=\"transparent\" points=\"45.5,-55 45.5,-66 104.5,-66 104.5,-55 45.5,-55\"/>\n",
       "<polyline fill=\"none\" stroke=\"#000000\" points=\"45.5,-55 104.5,-55 104.5,-66 \"/>\n",
       "<text text-anchor=\"start\" x=\"72.4973\" y=\"-57.8\" font-family=\"Helvetica,sans-Serif\" font-size=\"9.00\" fill=\"#444443\">0</text>\n",
       "<polygon fill=\"#fefecd\" stroke=\"transparent\" points=\"104.5,-55 104.5,-66 166.5,-66 166.5,-55 104.5,-55\"/>\n",
       "<polyline fill=\"none\" stroke=\"#000000\" points=\"104.5,-55 166.5,-55 \"/>\n",
       "<text text-anchor=\"start\" x=\"132.9973\" y=\"-57.8\" font-family=\"Helvetica,sans-Serif\" font-size=\"9.00\" fill=\"#444443\">1</text>\n",
       "<polygon fill=\"#fefecd\" stroke=\"transparent\" points=\"45.5,-38 45.5,-55 104.5,-55 104.5,-38 45.5,-38\"/>\n",
       "<polyline fill=\"none\" stroke=\"#000000\" points=\"104.5,-38 104.5,-55 \"/>\n",
       "<text text-anchor=\"start\" x=\"48.1392\" y=\"-43.2\" font-family=\"Helvetica,sans-Serif\" font-size=\"11.00\" fill=\"#444443\">&#39;Gridlinked&#39;</text>\n",
       "<polygon fill=\"#fefecd\" stroke=\"transparent\" points=\"104.5,-38 104.5,-55 166.5,-55 166.5,-38 104.5,-38\"/>\n",
       "<text text-anchor=\"start\" x=\"106.4934\" y=\"-43.2\" font-family=\"Helvetica,sans-Serif\" font-size=\"11.00\" fill=\"#444443\">&#39;Neal Asher&#39;</text>\n",
       "</g>\n",
       "<!-- node4660184264&#45;&gt;node4659494024 -->\n",
       "<g id=\"edge1\" class=\"edge\">\n",
       "<title>node4660184264:0&#45;&gt;node4659494024:w</title>\n",
       "<path fill=\"none\" stroke=\"#444443\" stroke-width=\".5\" d=\"M12.5,-41C25.6347,-41 28.3902,-49.8791 39.4166,-51.6827\"/>\n",
       "<polygon fill=\"#444443\" stroke=\"#444443\" stroke-width=\".5\" points=\"39.4035,-53.0858 43.5,-52 39.6205,-50.2942 39.4035,-53.0858\"/>\n",
       "</g>\n",
       "<!-- node4659494280 -->\n",
       "<g id=\"node3\" class=\"node\">\n",
       "<title>node4659494280</title>\n",
       "<polygon fill=\"none\" stroke=\"#000000\" stroke-width=\".5\" points=\"176,-30 35,-30 35,0 176,0 176,-30\"/>\n",
       "<polygon fill=\"#fefecd\" stroke=\"transparent\" points=\"36.5,-18 36.5,-29 117.5,-29 117.5,-18 36.5,-18\"/>\n",
       "<polyline fill=\"none\" stroke=\"#000000\" points=\"36.5,-18 117.5,-18 117.5,-29 \"/>\n",
       "<text text-anchor=\"start\" x=\"74.4973\" y=\"-20.8\" font-family=\"Helvetica,sans-Serif\" font-size=\"9.00\" fill=\"#444443\">0</text>\n",
       "<polygon fill=\"#fefecd\" stroke=\"transparent\" points=\"117.5,-18 117.5,-29 175.5,-29 175.5,-18 117.5,-18\"/>\n",
       "<polyline fill=\"none\" stroke=\"#000000\" points=\"117.5,-18 175.5,-18 \"/>\n",
       "<text text-anchor=\"start\" x=\"143.9973\" y=\"-20.8\" font-family=\"Helvetica,sans-Serif\" font-size=\"9.00\" fill=\"#444443\">1</text>\n",
       "<polygon fill=\"#fefecd\" stroke=\"transparent\" points=\"36.5,-1 36.5,-18 117.5,-18 117.5,-1 36.5,-1\"/>\n",
       "<polyline fill=\"none\" stroke=\"#000000\" points=\"117.5,-1 117.5,-18 \"/>\n",
       "<text text-anchor=\"start\" x=\"39.1338\" y=\"-6.2\" font-family=\"Helvetica,sans-Serif\" font-size=\"11.00\" fill=\"#444443\">&#39;Startide Rising&#39;</text>\n",
       "<polygon fill=\"#fefecd\" stroke=\"transparent\" points=\"117.5,-1 117.5,-18 175.5,-18 175.5,-1 117.5,-1\"/>\n",
       "<text text-anchor=\"start\" x=\"119.0295\" y=\"-6.2\" font-family=\"Helvetica,sans-Serif\" font-size=\"11.00\" fill=\"#444443\">&#39;David Brin&#39;</text>\n",
       "</g>\n",
       "<!-- node4660184264&#45;&gt;node4659494280 -->\n",
       "<g id=\"edge2\" class=\"edge\">\n",
       "<title>node4660184264:1&#45;&gt;node4659494280:w</title>\n",
       "<path fill=\"none\" stroke=\"#444443\" stroke-width=\".5\" d=\"M12.5,-25C21.9043,-25 23.68,-17.6147 30.9387,-15.5376\"/>\n",
       "<polygon fill=\"#444443\" stroke=\"#444443\" stroke-width=\".5\" points=\"31.2184,-16.9129 35,-15 30.8508,-14.1371 31.2184,-16.9129\"/>\n",
       "</g>\n",
       "</g>\n",
       "</svg>\n"
      ],
      "text/plain": [
       "<graphviz.files.Source at 0x115c51a58>"
      ]
     },
     "execution_count": 122,
     "metadata": {},
     "output_type": "execute_result"
    }
   ],
   "source": [
    "from lolviz import *\n",
    "books = [\n",
    "    ('Gridlinked', 'Neal Asher'),\n",
    "    ('Startide Rising', 'David Brin')\n",
    "]\n",
    "\n",
    "objviz(books)"
   ]
  },
  {
   "cell_type": "code",
   "execution_count": 123,
   "metadata": {},
   "outputs": [
    {
     "name": "stdout",
     "output_type": "stream",
     "text": [
      "Neal Asher: Gridlinked\n",
      "David Brin: Startide Rising\n"
     ]
    }
   ],
   "source": [
    "for b in books:\n",
    "    print(f\"{b[1]}: {b[0]}\")"
   ]
  },
  {
   "cell_type": "code",
   "execution_count": 124,
   "metadata": {},
   "outputs": [
    {
     "name": "stdout",
     "output_type": "stream",
     "text": [
      "Neal Asher: Gridlinked\n",
      "David Brin: Startide Rising\n"
     ]
    }
   ],
   "source": [
    "# Or, more fancy\n",
    "for title, author in books:\n",
    "    print(f\"{author}: {title}\")"
   ]
  },
  {
   "cell_type": "markdown",
   "metadata": {},
   "source": [
    "To access the elements of the tuple in both cases, we have to keep track of the order in our heads. In other words, we have to access the tuple elements like they are list elements, which they are."
   ]
  },
  {
   "cell_type": "markdown",
   "metadata": {},
   "source": [
    "## Formal objects\n",
    "\n",
    "A better way is to formally declare that author and title data elements should be encapsulated into a single entity called a book. Python has what I consider an extremely quirky specification but it is extremely flexible. For example, we can define an object that has no methods and no fields but then can add fields dynamically with assignment statements:"
   ]
  },
  {
   "cell_type": "code",
   "execution_count": 125,
   "metadata": {},
   "outputs": [
    {
     "name": "stdout",
     "output_type": "stream",
     "text": [
      "<__main__.Book object at 0x115c51fd0>\n",
      "Gridlinked Neal Asher\n"
     ]
    },
    {
     "data": {
      "image/svg+xml": [
       "<?xml version=\"1.0\" encoding=\"UTF-8\" standalone=\"no\"?>\n",
       "<!DOCTYPE svg PUBLIC \"-//W3C//DTD SVG 1.1//EN\"\n",
       " \"http://www.w3.org/Graphics/SVG/1.1/DTD/svg11.dtd\">\n",
       "<!-- Generated by graphviz version 2.40.1 (20161225.0304)\n",
       " -->\n",
       "<!-- Title: G Pages: 1 -->\n",
       "<svg width=\"111pt\" height=\"55pt\"\n",
       " viewBox=\"0.00 0.00 111.00 55.00\" xmlns=\"http://www.w3.org/2000/svg\" xmlns:xlink=\"http://www.w3.org/1999/xlink\">\n",
       "<g id=\"graph0\" class=\"graph\" transform=\"scale(1 1) rotate(0) translate(4 51)\">\n",
       "<title>G</title>\n",
       "<polygon fill=\"#ffffff\" stroke=\"transparent\" points=\"-4,4 -4,-51 107,-51 107,4 -4,4\"/>\n",
       "<!-- node4660207568 -->\n",
       "<g id=\"node1\" class=\"node\">\n",
       "<title>node4660207568</title>\n",
       "<polygon fill=\"#fefecd\" stroke=\"#444443\" stroke-width=\".5\" points=\"103,-47 0,-47 0,0 103,0 103,-47\"/>\n",
       "<polygon fill=\"#fefecd\" stroke=\"transparent\" points=\"2.5,-31.5 2.5,-44.5 101.5,-44.5 101.5,-31.5 2.5,-31.5\"/>\n",
       "<polyline fill=\"none\" stroke=\"#444443\" points=\"2.5,-31.5 101.5,-31.5 \"/>\n",
       "<text text-anchor=\"start\" x=\"40.6992\" y=\"-34.7\" font-family=\"Times,serif\" font-style=\"italic\" font-size=\"11.00\" fill=\"#444443\">Book</text>\n",
       "<polygon fill=\"#fefecd\" stroke=\"transparent\" points=\"2.5,-29.5 2.5,-31.5 101.5,-31.5 101.5,-29.5 2.5,-29.5\"/>\n",
       "<polygon fill=\"#fefecd\" stroke=\"transparent\" points=\"2.5,-16.5 2.5,-29.5 38.5,-29.5 38.5,-16.5 2.5,-16.5\"/>\n",
       "<polyline fill=\"none\" stroke=\"#444443\" points=\"38.5,-16.5 38.5,-29.5 \"/>\n",
       "<text text-anchor=\"start\" x=\"17.3262\" y=\"-19.7\" font-family=\"Helvetica,sans-Serif\" font-size=\"11.00\" fill=\"#444443\">title </text>\n",
       "<polygon fill=\"#fefecd\" stroke=\"transparent\" points=\"38.5,-16.5 38.5,-29.5 101.5,-29.5 101.5,-16.5 38.5,-16.5\"/>\n",
       "<text text-anchor=\"start\" x=\"39.5\" y=\"-19.7\" font-family=\"Helvetica,sans-Serif\" font-size=\"11.00\" fill=\"#444443\"> &#39;Gridlinked&#39;</text>\n",
       "<polygon fill=\"#fefecd\" stroke=\"transparent\" points=\"2.5,-14.5 2.5,-16.5 101.5,-16.5 101.5,-14.5 2.5,-14.5\"/>\n",
       "<polygon fill=\"#fefecd\" stroke=\"transparent\" points=\"2.5,-1.5 2.5,-14.5 38.5,-14.5 38.5,-1.5 2.5,-1.5\"/>\n",
       "<polyline fill=\"none\" stroke=\"#444443\" points=\"38.5,-1.5 38.5,-14.5 \"/>\n",
       "<text text-anchor=\"start\" x=\"3.377\" y=\"-4.7\" font-family=\"Helvetica,sans-Serif\" font-size=\"11.00\" fill=\"#444443\">author </text>\n",
       "<polygon fill=\"#fefecd\" stroke=\"transparent\" points=\"38.5,-1.5 38.5,-14.5 101.5,-14.5 101.5,-1.5 38.5,-1.5\"/>\n",
       "<text text-anchor=\"start\" x=\"39.4653\" y=\"-4.7\" font-family=\"Helvetica,sans-Serif\" font-size=\"11.00\" fill=\"#444443\"> &#39;Neal Asher&#39;</text>\n",
       "</g>\n",
       "</g>\n",
       "</svg>\n"
      ],
      "text/plain": [
       "<graphviz.files.Source at 0x115bd5080>"
      ]
     },
     "execution_count": 125,
     "metadata": {},
     "output_type": "execute_result"
    }
   ],
   "source": [
    "class Book:\n",
    "    pass\n",
    "\n",
    "b = Book()\n",
    "print(b)\n",
    "b.title = 'Gridlinked'\n",
    "b.author = 'Neal Asher'\n",
    "print(b.title, b.author)\n",
    "objviz(b)"
   ]
  },
  {
   "cell_type": "markdown",
   "metadata": {},
   "source": [
    "But this doesn't let us define methods associated with that object (easily). Let's take a look at our first real class definition that contains a function called a *constructor*."
   ]
  },
  {
   "cell_type": "code",
   "execution_count": 126,
   "metadata": {},
   "outputs": [],
   "source": [
    "class Book:\n",
    "    def __init__(self, title, author):\n",
    "        self.title = title\n",
    "        self.author = author\n",
    "        self.chapters = []"
   ]
  },
  {
   "cell_type": "markdown",
   "metadata": {},
   "source": [
    "The constructor typically sets initial and default field values based upon the arguments.\n",
    "\n",
    "All methods, functions defined within an object, must have an explicit first argument called `self`.  This is the object under consideration.\n",
    "\n",
    "Then we can make a list of book objects or instances of class `Book` using instance creation syntax `Book(...,...)`:"
   ]
  },
  {
   "cell_type": "code",
   "execution_count": 127,
   "metadata": {},
   "outputs": [],
   "source": [
    "books = [\n",
    "    Book('Gridlinked', 'Neal Asher'),\n",
    "    Book(title='David Brin', author='Startide Rising')\n",
    "]"
   ]
  },
  {
   "cell_type": "code",
   "execution_count": 128,
   "metadata": {},
   "outputs": [
    {
     "data": {
      "image/svg+xml": [
       "<?xml version=\"1.0\" encoding=\"UTF-8\" standalone=\"no\"?>\n",
       "<!DOCTYPE svg PUBLIC \"-//W3C//DTD SVG 1.1//EN\"\n",
       " \"http://www.w3.org/Graphics/SVG/1.1/DTD/svg11.dtd\">\n",
       "<!-- Generated by graphviz version 2.40.1 (20161225.0304)\n",
       " -->\n",
       "<!-- Title: G Pages: 1 -->\n",
       "<svg width=\"235pt\" height=\"139pt\"\n",
       " viewBox=\"0.00 0.00 234.74 139.00\" xmlns=\"http://www.w3.org/2000/svg\" xmlns:xlink=\"http://www.w3.org/1999/xlink\">\n",
       "<g id=\"graph0\" class=\"graph\" transform=\"scale(1 1) rotate(0) translate(4 135)\">\n",
       "<title>G</title>\n",
       "<polygon fill=\"#ffffff\" stroke=\"transparent\" points=\"-4,4 -4,-135 230.7432,-135 230.7432,4 -4,4\"/>\n",
       "<!-- node4660237000 -->\n",
       "<g id=\"node1\" class=\"node\">\n",
       "<title>node4660237000</title>\n",
       "<polygon fill=\"#cfe2d4\" stroke=\"#444443\" stroke-width=\".5\" points=\"13,-81 0,-81 0,-49 13,-49 13,-81\"/>\n",
       "<polygon fill=\"#cfe2d4\" stroke=\"transparent\" points=\"1.5,-65 1.5,-80 12.5,-80 12.5,-65 1.5,-65\"/>\n",
       "<polyline fill=\"none\" stroke=\"#444443\" points=\"1.5,-65 12.5,-65 \"/>\n",
       "<text text-anchor=\"start\" x=\"4.4973\" y=\"-69.8\" font-family=\"Helvetica,sans-Serif\" font-size=\"9.00\" fill=\"#444443\">0</text>\n",
       "<polygon fill=\"#cfe2d4\" stroke=\"transparent\" points=\"1.5,-50 1.5,-65 12.5,-65 12.5,-50 1.5,-50\"/>\n",
       "<text text-anchor=\"start\" x=\"4.4973\" y=\"-54.8\" font-family=\"Helvetica,sans-Serif\" font-size=\"9.00\" fill=\"#444443\">1</text>\n",
       "</g>\n",
       "<!-- node4660207288 -->\n",
       "<g id=\"node2\" class=\"node\">\n",
       "<title>node4660207288</title>\n",
       "<polygon fill=\"#fefecd\" stroke=\"#444443\" stroke-width=\".5\" points=\"157.5,-131 43.5,-131 43.5,-69 157.5,-69 157.5,-131\"/>\n",
       "<polygon fill=\"#fefecd\" stroke=\"transparent\" points=\"45.5,-116 45.5,-129 155.5,-129 155.5,-116 45.5,-116\"/>\n",
       "<polyline fill=\"none\" stroke=\"#444443\" points=\"45.5,-116 155.5,-116 \"/>\n",
       "<text text-anchor=\"start\" x=\"89.1992\" y=\"-119.2\" font-family=\"Times,serif\" font-style=\"italic\" font-size=\"11.00\" fill=\"#444443\">Book</text>\n",
       "<polygon fill=\"#fefecd\" stroke=\"transparent\" points=\"45.5,-114 45.5,-116 155.5,-116 155.5,-114 45.5,-114\"/>\n",
       "<polygon fill=\"#fefecd\" stroke=\"transparent\" points=\"45.5,-101 45.5,-114 92.5,-114 92.5,-101 45.5,-101\"/>\n",
       "<polyline fill=\"none\" stroke=\"#444443\" points=\"92.5,-101 92.5,-114 \"/>\n",
       "<text text-anchor=\"start\" x=\"71.3262\" y=\"-104.2\" font-family=\"Helvetica,sans-Serif\" font-size=\"11.00\" fill=\"#444443\">title </text>\n",
       "<polygon fill=\"#fefecd\" stroke=\"transparent\" points=\"92.5,-101 92.5,-114 155.5,-114 155.5,-101 92.5,-101\"/>\n",
       "<text text-anchor=\"start\" x=\"93.5\" y=\"-104.2\" font-family=\"Helvetica,sans-Serif\" font-size=\"11.00\" fill=\"#444443\"> &#39;Gridlinked&#39;</text>\n",
       "<polygon fill=\"#fefecd\" stroke=\"transparent\" points=\"45.5,-99 45.5,-101 155.5,-101 155.5,-99 45.5,-99\"/>\n",
       "<polygon fill=\"#fefecd\" stroke=\"transparent\" points=\"45.5,-86 45.5,-99 92.5,-99 92.5,-86 45.5,-86\"/>\n",
       "<polyline fill=\"none\" stroke=\"#444443\" points=\"92.5,-86 92.5,-99 \"/>\n",
       "<text text-anchor=\"start\" x=\"57.2539\" y=\"-89.2\" font-family=\"Helvetica,sans-Serif\" font-size=\"11.00\" fill=\"#444443\">author </text>\n",
       "<polygon fill=\"#fefecd\" stroke=\"transparent\" points=\"92.5,-86 92.5,-99 155.5,-99 155.5,-86 92.5,-86\"/>\n",
       "<text text-anchor=\"start\" x=\"93.4653\" y=\"-89.2\" font-family=\"Helvetica,sans-Serif\" font-size=\"11.00\" fill=\"#444443\"> &#39;Neal Asher&#39;</text>\n",
       "<polygon fill=\"#fefecd\" stroke=\"transparent\" points=\"45.5,-84 45.5,-86 155.5,-86 155.5,-84 45.5,-84\"/>\n",
       "<polygon fill=\"#fefecd\" stroke=\"transparent\" points=\"45.5,-71 45.5,-84 92.5,-84 92.5,-71 45.5,-71\"/>\n",
       "<polyline fill=\"none\" stroke=\"#444443\" points=\"92.5,-71 92.5,-84 \"/>\n",
       "<text text-anchor=\"start\" x=\"46.377\" y=\"-74.2\" font-family=\"Helvetica,sans-Serif\" font-size=\"11.00\" fill=\"#444443\">chapters </text>\n",
       "<polygon fill=\"#fefecd\" stroke=\"transparent\" points=\"92.5,-71 92.5,-84 155.5,-84 155.5,-71 92.5,-71\"/>\n",
       "<text text-anchor=\"start\" x=\"93.5\" y=\"-74.2\" font-family=\"Helvetica,sans-Serif\" font-size=\"11.00\" fill=\"#444443\"> &#160;&#160;&#160;</text>\n",
       "</g>\n",
       "<!-- node4660237000&#45;&gt;node4660207288 -->\n",
       "<g id=\"edge1\" class=\"edge\">\n",
       "<title>node4660237000:0&#45;&gt;node4660207288:w</title>\n",
       "<path fill=\"none\" stroke=\"#444443\" stroke-width=\".5\" d=\"M12.5,-73C29.2008,-73 26.0057,-95.5588 39.2869,-99.4361\"/>\n",
       "<polygon fill=\"#444443\" stroke=\"#444443\" stroke-width=\".5\" points=\"39.3496,-100.8569 43.5,-100 39.7211,-98.0816 39.3496,-100.8569\"/>\n",
       "</g>\n",
       "<!-- node4660207176 -->\n",
       "<g id=\"node4\" class=\"node\">\n",
       "<title>node4660207176</title>\n",
       "<polygon fill=\"#fefecd\" stroke=\"#444443\" stroke-width=\".5\" points=\"166,-62 35,-62 35,0 166,0 166,-62\"/>\n",
       "<polygon fill=\"#fefecd\" stroke=\"transparent\" points=\"37.5,-47 37.5,-60 164.5,-60 164.5,-47 37.5,-47\"/>\n",
       "<polyline fill=\"none\" stroke=\"#444443\" points=\"37.5,-47 164.5,-47 \"/>\n",
       "<text text-anchor=\"start\" x=\"89.6992\" y=\"-50.2\" font-family=\"Times,serif\" font-style=\"italic\" font-size=\"11.00\" fill=\"#444443\">Book</text>\n",
       "<polygon fill=\"#fefecd\" stroke=\"transparent\" points=\"37.5,-45 37.5,-47 164.5,-47 164.5,-45 37.5,-45\"/>\n",
       "<polygon fill=\"#fefecd\" stroke=\"transparent\" points=\"37.5,-32 37.5,-45 84.5,-45 84.5,-32 37.5,-32\"/>\n",
       "<polyline fill=\"none\" stroke=\"#444443\" points=\"84.5,-32 84.5,-45 \"/>\n",
       "<text text-anchor=\"start\" x=\"63.3262\" y=\"-35.2\" font-family=\"Helvetica,sans-Serif\" font-size=\"11.00\" fill=\"#444443\">title </text>\n",
       "<polygon fill=\"#fefecd\" stroke=\"transparent\" points=\"84.5,-32 84.5,-45 164.5,-45 164.5,-32 84.5,-32\"/>\n",
       "<text text-anchor=\"start\" x=\"85.5\" y=\"-35.2\" font-family=\"Helvetica,sans-Serif\" font-size=\"11.00\" fill=\"#444443\"> &#39;David Brin&#39;</text>\n",
       "<polygon fill=\"#fefecd\" stroke=\"transparent\" points=\"37.5,-30 37.5,-32 164.5,-32 164.5,-30 37.5,-30\"/>\n",
       "<polygon fill=\"#fefecd\" stroke=\"transparent\" points=\"37.5,-17 37.5,-30 84.5,-30 84.5,-17 37.5,-17\"/>\n",
       "<polyline fill=\"none\" stroke=\"#444443\" points=\"84.5,-17 84.5,-30 \"/>\n",
       "<text text-anchor=\"start\" x=\"49.2539\" y=\"-20.2\" font-family=\"Helvetica,sans-Serif\" font-size=\"11.00\" fill=\"#444443\">author </text>\n",
       "<polygon fill=\"#fefecd\" stroke=\"transparent\" points=\"84.5,-17 84.5,-30 164.5,-30 164.5,-17 84.5,-17\"/>\n",
       "<text text-anchor=\"start\" x=\"85.1057\" y=\"-20.2\" font-family=\"Helvetica,sans-Serif\" font-size=\"11.00\" fill=\"#444443\"> &#39;Startide Rising&#39;</text>\n",
       "<polygon fill=\"#fefecd\" stroke=\"transparent\" points=\"37.5,-15 37.5,-17 164.5,-17 164.5,-15 37.5,-15\"/>\n",
       "<polygon fill=\"#fefecd\" stroke=\"transparent\" points=\"37.5,-2 37.5,-15 84.5,-15 84.5,-2 37.5,-2\"/>\n",
       "<polyline fill=\"none\" stroke=\"#444443\" points=\"84.5,-2 84.5,-15 \"/>\n",
       "<text text-anchor=\"start\" x=\"38.377\" y=\"-5.2\" font-family=\"Helvetica,sans-Serif\" font-size=\"11.00\" fill=\"#444443\">chapters </text>\n",
       "<polygon fill=\"#fefecd\" stroke=\"transparent\" points=\"84.5,-2 84.5,-15 164.5,-15 164.5,-2 84.5,-2\"/>\n",
       "<text text-anchor=\"start\" x=\"85.5\" y=\"-5.2\" font-family=\"Helvetica,sans-Serif\" font-size=\"11.00\" fill=\"#444443\"> &#160;&#160;&#160;</text>\n",
       "</g>\n",
       "<!-- node4660237000&#45;&gt;node4660207176 -->\n",
       "<g id=\"edge2\" class=\"edge\">\n",
       "<title>node4660237000:1&#45;&gt;node4660207176:w</title>\n",
       "<path fill=\"none\" stroke=\"#444443\" stroke-width=\".5\" d=\"M12.5,-57C26.2297,-57 21.1154,-36.0131 31.0174,-31.7501\"/>\n",
       "<polygon fill=\"#444443\" stroke=\"#444443\" stroke-width=\".5\" points=\"31.3283,-33.1162 35,-31 30.81,-30.3646 31.3283,-33.1162\"/>\n",
       "</g>\n",
       "<!-- node4660184264 -->\n",
       "<g id=\"node3\" class=\"node\">\n",
       "<title>node4660184264</title>\n",
       "<text text-anchor=\"start\" x=\"190\" y=\"-74.3\" font-family=\"Times,serif\" font-style=\"italic\" font-size=\"9.00\" fill=\"#444443\">empty list</text>\n",
       "</g>\n",
       "<!-- node4660207288&#45;&gt;node4660184264 -->\n",
       "<g id=\"edge3\" class=\"edge\">\n",
       "<title>node4660207288:c&#45;&gt;node4660184264</title>\n",
       "<path fill=\"none\" stroke=\"#444443\" stroke-width=\".5\" d=\"M127.9439,-77C137.293,-77 163.7753,-77 183.6093,-77\"/>\n",
       "<ellipse fill=\"#444443\" stroke=\"#444443\" stroke-width=\".5\" cx=\"126.1\" cy=\"-77\" rx=\"1.6\" ry=\"1.6\"/>\n",
       "<polygon fill=\"#444443\" stroke=\"#444443\" stroke-width=\".5\" points=\"183.7322,-78.4001 187.7322,-77 183.7321,-75.6001 183.7322,-78.4001\"/>\n",
       "</g>\n",
       "<!-- node4660186312 -->\n",
       "<g id=\"node5\" class=\"node\">\n",
       "<title>node4660186312</title>\n",
       "<text text-anchor=\"start\" x=\"190\" y=\"-5.3\" font-family=\"Times,serif\" font-style=\"italic\" font-size=\"9.00\" fill=\"#444443\">empty list</text>\n",
       "</g>\n",
       "<!-- node4660207176&#45;&gt;node4660186312 -->\n",
       "<g id=\"edge4\" class=\"edge\">\n",
       "<title>node4660207176:c&#45;&gt;node4660186312</title>\n",
       "<path fill=\"none\" stroke=\"#444443\" stroke-width=\".5\" d=\"M127.9439,-8C137.293,-8 163.7753,-8 183.6093,-8\"/>\n",
       "<ellipse fill=\"#444443\" stroke=\"#444443\" stroke-width=\".5\" cx=\"126.1\" cy=\"-8\" rx=\"1.6\" ry=\"1.6\"/>\n",
       "<polygon fill=\"#444443\" stroke=\"#444443\" stroke-width=\".5\" points=\"183.7322,-9.4001 187.7322,-8 183.7321,-6.6001 183.7322,-9.4001\"/>\n",
       "</g>\n",
       "</g>\n",
       "</svg>\n"
      ],
      "text/plain": [
       "<graphviz.files.Source at 0x115c51ef0>"
      ]
     },
     "execution_count": 128,
     "metadata": {},
     "output_type": "execute_result"
    }
   ],
   "source": [
    "objviz(books)"
   ]
  },
  {
   "cell_type": "code",
   "execution_count": 129,
   "metadata": {},
   "outputs": [
    {
     "name": "stdout",
     "output_type": "stream",
     "text": [
      "Neal Asher: Gridlinked\n",
      "Startide Rising: David Brin\n"
     ]
    }
   ],
   "source": [
    "for b in books:\n",
    "    print(f\"{b.author}: {b.title}\") # access fields"
   ]
  },
  {
   "cell_type": "markdown",
   "metadata": {},
   "source": [
    "Notice that we do not pass the `self` parameter to the constructor. **It's implicit at the call site but explicit at the definition site!**"
   ]
  },
  {
   "cell_type": "markdown",
   "metadata": {},
   "source": [
    "## Naughty behavior\n",
    "\n",
    "Also notice that we have been setting fields of objects using the constructor, by Python in its infinite flexibility allows you to do very **naughty** things such as setting fields on arbitrary objects:"
   ]
  },
  {
   "cell_type": "code",
   "execution_count": 130,
   "metadata": {},
   "outputs": [],
   "source": [
    "class Foo:\n",
    "    pass # just says \"empty\"\n",
    "\n",
    "x = Foo()\n",
    "x.foo = 3"
   ]
  },
  {
   "cell_type": "markdown",
   "metadata": {},
   "source": [
    "That does not get an error even though the class itself does not define foo!\n",
    "\n",
    "You can even [add methods on the fly](https://stackoverflow.com/questions/972/adding-a-method-to-an-existing-object-instance)."
   ]
  },
  {
   "cell_type": "markdown",
   "metadata": {},
   "source": [
    "# Defining methods"
   ]
  },
  {
   "cell_type": "markdown",
   "metadata": {},
   "source": [
    "If you try to print out a book you will see just the type information and the physical memory address:"
   ]
  },
  {
   "cell_type": "code",
   "execution_count": 131,
   "metadata": {},
   "outputs": [
    {
     "name": "stdout",
     "output_type": "stream",
     "text": [
      "<__main__.Book object at 0x115c51eb8>\n"
     ]
    }
   ],
   "source": [
    "print(books[0])"
   ]
  },
  {
   "cell_type": "code",
   "execution_count": 175,
   "metadata": {},
   "outputs": [],
   "source": [
    "class Book:\n",
    "    def __init__(self, title, author):\n",
    "        self.title = title\n",
    "        self.author = author\n",
    "        \n",
    "    def __str__(self): # called when conversion to string needed like print\n",
    "        return f\"Book({self.title}, {self.author})\"\n",
    "    \n",
    "    def __repr__(self): # called in interactive mode\n",
    "        return self.__str__() # call the string\n",
    "    \n",
    "books = [\n",
    "    Book('Gridlinked', 'Neal Asher'),\n",
    "    Book('Startide Rising', 'David Brin')\n",
    "]"
   ]
  },
  {
   "cell_type": "code",
   "execution_count": 176,
   "metadata": {},
   "outputs": [
    {
     "name": "stdout",
     "output_type": "stream",
     "text": [
      "Book(Gridlinked, Neal Asher)\n"
     ]
    },
    {
     "data": {
      "text/plain": [
       "Book(Gridlinked, Neal Asher)"
      ]
     },
     "execution_count": 176,
     "metadata": {},
     "output_type": "execute_result"
    }
   ],
   "source": [
    "print(books[0]) # calls __str__()\n",
    "books[0]        # calls __repr__()"
   ]
  },
  {
   "cell_type": "markdown",
   "metadata": {},
   "source": [
    "Make sure that you use `self.x` to refer to field `x`, otherwise you are creating a local variable inside a method:"
   ]
  },
  {
   "cell_type": "code",
   "execution_count": 134,
   "metadata": {},
   "outputs": [],
   "source": [
    "class Foo:\n",
    "    def __init__(self):\n",
    "        self.x = 0\n",
    "    def foo(self):\n",
    "        x = 3 # WARNING: does not alter the field! should be self.x"
   ]
  },
  {
   "cell_type": "markdown",
   "metadata": {},
   "source": [
    "Let's create another method that sets the count of book sold."
   ]
  },
  {
   "cell_type": "code",
   "execution_count": 178,
   "metadata": {},
   "outputs": [],
   "source": [
    "class Book:\n",
    "    def __init__(self, title, author):\n",
    "        self.title = title\n",
    "        self.author = author\n",
    "        self.sold = 0 # set default\n",
    "        \n",
    "    def sell(self, n):\n",
    "        self.sold += n\n",
    "        \n",
    "    def __str__(self): # called when conversion to string needed like print\n",
    "        return f\"Book({self.title}, {self.author}, sold={self.sold})\"\n",
    "    \n",
    "    def __repr__(self): # called in interactive mode\n",
    "        return self.__str__() # call the string"
   ]
  },
  {
   "cell_type": "code",
   "execution_count": 179,
   "metadata": {},
   "outputs": [
    {
     "name": "stdout",
     "output_type": "stream",
     "text": [
      "Book(Gridlinked, Neal Asher, sold=0)\n",
      "Book(Gridlinked, Neal Asher, sold=100)\n"
     ]
    }
   ],
   "source": [
    "b = Book('Gridlinked', 'Neal Asher')\n",
    "print(b)\n",
    "b.sell(100) # Book.sell(b, 100)\n",
    "print(b)"
   ]
  },
  {
   "cell_type": "markdown",
   "metadata": {},
   "source": [
    "**Note**: that from *within* a method definition, we call other methods on the same object using `self.foo(...)` for method `foo`."
   ]
  },
  {
   "cell_type": "markdown",
   "metadata": {},
   "source": [
    "## The key to understanding methods versus functions\n",
    "\n",
    "`b.sell(100)` **method call** is translated and executed by the Python interpreter as **function call** `Book.sell(b,100)`. `b` becomes parameter `self` and so the `sell()` function is updating book `b`.\n",
    "\n",
    "Why we prefer `b.sell(100)` over `Book.sell(b,100)`: Instead of just functions, we send messages back and forth between objects. Instead of bark(dog) we say dog.bark() or instead of inflate(ball) we say ball.inflate()."
   ]
  },
  {
   "cell_type": "markdown",
   "metadata": {},
   "source": [
    "## Exercise"
   ]
  },
  {
   "cell_type": "markdown",
   "metadata": {},
   "source": [
    "Real-world objects contain ... and ...\n",
    "\n",
    "A software object's state is stored in ...\n",
    "\n",
    "A software object's behavior is exposed through ...\n",
    "\n",
    "A blueprint for a software object is called a ..."
   ]
  },
  {
   "cell_type": "markdown",
   "metadata": {},
   "source": [
    "## Exercise"
   ]
  },
  {
   "cell_type": "markdown",
   "metadata": {},
   "source": [
    "Define a class called `Point` that has a constructor taking x, y coordinates and make them fields of the class.\n",
    "\n",
    "Define method `distance(q)` that takes a `Point` and returns the Euclidean distance  from `self` to `q`.\n",
    "\n",
    "Test with\n",
    "\n",
    "```\n",
    "p = Point(3,4)\n",
    "q = Point(5,6)\n",
    "print(p.distance(q))\n",
    "```\n",
    "\n",
    "Add method `__str__` so that `print(q)` prints something nice like `(3,4)`."
   ]
  },
  {
   "cell_type": "markdown",
   "metadata": {},
   "source": [
    "### Solution"
   ]
  },
  {
   "cell_type": "code",
   "execution_count": 137,
   "metadata": {},
   "outputs": [],
   "source": [
    "import numpy as np\n",
    "\n",
    "class Point:\n",
    "    def __init__(self, x, y):\n",
    "        self.x = x\n",
    "        self.y = y\n",
    "        \n",
    "    def distance(self, other):\n",
    "        return np.sqrt( (self.x - other.x)**2 + (self.y - other.y)**2 )\n",
    "    \n",
    "    def __str__(self):\n",
    "        return f\"({self.x},{self.y})\""
   ]
  },
  {
   "cell_type": "code",
   "execution_count": 138,
   "metadata": {},
   "outputs": [
    {
     "name": "stdout",
     "output_type": "stream",
     "text": [
      "(3,4) (5,6)\n",
      "2.8284271247461903\n"
     ]
    }
   ],
   "source": [
    "p = Point(3,4)\n",
    "q = Point(5,6)\n",
    "print(p, q)\n",
    "print(p.distance(q))"
   ]
  },
  {
   "cell_type": "markdown",
   "metadata": {},
   "source": [
    "# Inheritance"
   ]
  },
  {
   "cell_type": "markdown",
   "metadata": {},
   "source": [
    "Defining something new as it relates to something we already understand is usually a lot easier. The same thing is true in programming. Let's start with an account object:"
   ]
  },
  {
   "cell_type": "code",
   "execution_count": 139,
   "metadata": {},
   "outputs": [],
   "source": [
    "class Account:\n",
    "    def __init__(self, starting):\n",
    "        self.balance = starting\n",
    "\n",
    "    def add(self, value):\n",
    "        self.balance += value\n",
    "\n",
    "    def total(self):\n",
    "        return self.balance"
   ]
  },
  {
   "cell_type": "code",
   "execution_count": 140,
   "metadata": {},
   "outputs": [
    {
     "data": {
      "text/plain": [
       "115.0"
      ]
     },
     "execution_count": 140,
     "metadata": {},
     "output_type": "execute_result"
    }
   ],
   "source": [
    "a = Account(100.0)\n",
    "a.add(15)\n",
    "a.total()"
   ]
  },
  {
   "cell_type": "code",
   "execution_count": 141,
   "metadata": {},
   "outputs": [
    {
     "data": {
      "image/svg+xml": [
       "<?xml version=\"1.0\" encoding=\"UTF-8\" standalone=\"no\"?>\n",
       "<!DOCTYPE svg PUBLIC \"-//W3C//DTD SVG 1.1//EN\"\n",
       " \"http://www.w3.org/Graphics/SVG/1.1/DTD/svg11.dtd\">\n",
       "<!-- Generated by graphviz version 2.40.1 (20161225.0304)\n",
       " -->\n",
       "<!-- Title: G Pages: 1 -->\n",
       "<svg width=\"86pt\" height=\"40pt\"\n",
       " viewBox=\"0.00 0.00 86.00 40.00\" xmlns=\"http://www.w3.org/2000/svg\" xmlns:xlink=\"http://www.w3.org/1999/xlink\">\n",
       "<g id=\"graph0\" class=\"graph\" transform=\"scale(1 1) rotate(0) translate(4 36)\">\n",
       "<title>G</title>\n",
       "<polygon fill=\"#ffffff\" stroke=\"transparent\" points=\"-4,4 -4,-36 82,-36 82,4 -4,4\"/>\n",
       "<!-- node4659646248 -->\n",
       "<g id=\"node1\" class=\"node\">\n",
       "<title>node4659646248</title>\n",
       "<polygon fill=\"#fefecd\" stroke=\"#444443\" stroke-width=\".5\" points=\"78,-32 0,-32 0,0 78,0 78,-32\"/>\n",
       "<polygon fill=\"#fefecd\" stroke=\"transparent\" points=\"2,-17 2,-30 76,-30 76,-17 2,-17\"/>\n",
       "<polyline fill=\"none\" stroke=\"#444443\" points=\"2,-17 76,-17 \"/>\n",
       "<text text-anchor=\"start\" x=\"20.98\" y=\"-20.2\" font-family=\"Times,serif\" font-style=\"italic\" font-size=\"11.00\" fill=\"#444443\">Account</text>\n",
       "<polygon fill=\"#fefecd\" stroke=\"transparent\" points=\"2,-15 2,-17 76,-17 76,-15 2,-15\"/>\n",
       "<polygon fill=\"#fefecd\" stroke=\"transparent\" points=\"2,-2 2,-15 45,-15 45,-2 2,-2\"/>\n",
       "<polyline fill=\"none\" stroke=\"#444443\" points=\"45,-2 45,-15 \"/>\n",
       "<text text-anchor=\"start\" x=\"2.7058\" y=\"-5.2\" font-family=\"Helvetica,sans-Serif\" font-size=\"11.00\" fill=\"#444443\">balance </text>\n",
       "<polygon fill=\"#fefecd\" stroke=\"transparent\" points=\"45,-2 45,-15 76,-15 76,-2 45,-2\"/>\n",
       "<text text-anchor=\"start\" x=\"45.614\" y=\"-5.2\" font-family=\"Helvetica,sans-Serif\" font-size=\"11.00\" fill=\"#444443\"> 115.0</text>\n",
       "</g>\n",
       "</g>\n",
       "</svg>\n"
      ],
      "text/plain": [
       "<graphviz.files.Source at 0x115c51d68>"
      ]
     },
     "execution_count": 141,
     "metadata": {},
     "output_type": "execute_result"
    }
   ],
   "source": [
    "objviz(a)"
   ]
  },
  {
   "cell_type": "markdown",
   "metadata": {},
   "source": [
    "Inheritance behaves like an `import` or include operation from another class into a new class. (*Note that this is not really true, but we can think of it as an include for our purposes.*)\n",
    "\n",
    "If we do not specify a superclass, class `object` is the implicit superclass.  That class is called the root of the class hierarchy and defines a number of standard methods:"
   ]
  },
  {
   "cell_type": "code",
   "execution_count": 142,
   "metadata": {},
   "outputs": [
    {
     "name": "stdout",
     "output_type": "stream",
     "text": [
      "['__class__', '__delattr__', '__dir__', '__doc__', '__eq__', '__format__', '__ge__', '__getattribute__', '__gt__', '__hash__', '__init__', '__init_subclass__', '__le__', '__lt__', '__ne__', '__new__', '__reduce__', '__reduce_ex__', '__repr__', '__setattr__', '__sizeof__', '__str__', '__subclasshook__']\n"
     ]
    }
   ],
   "source": [
    "x = object() # yes, we can make a generic object\n",
    "print(dir(x))"
   ]
  },
  {
   "cell_type": "markdown",
   "metadata": {},
   "source": [
    "We could define an interest-bearing account as it differs from a regular account:"
   ]
  },
  {
   "cell_type": "code",
   "execution_count": 180,
   "metadata": {},
   "outputs": [],
   "source": [
    "class InterestingAccount(Account): # derive from super class to get subclass\n",
    "    def __init__(self, starting, rate):\n",
    "        self.balance = starting # super().__init__(starting)\n",
    "        self.rate = rate\n",
    "    def total(self): # OVERRIDE method\n",
    "        return self.balance + self.balance * self.rate\n",
    "\n",
    "b = InterestingAccount(100.0, 0.15)\n",
    "b.add(15)\n",
    "b.total()"
   ]
  },
  {
   "cell_type": "code",
   "execution_count": 145,
   "metadata": {},
   "outputs": [
    {
     "data": {
      "image/svg+xml": [
       "<?xml version=\"1.0\" encoding=\"UTF-8\" standalone=\"no\"?>\n",
       "<!DOCTYPE svg PUBLIC \"-//W3C//DTD SVG 1.1//EN\"\n",
       " \"http://www.w3.org/Graphics/SVG/1.1/DTD/svg11.dtd\">\n",
       "<!-- Generated by graphviz version 2.40.1 (20161225.0304)\n",
       " -->\n",
       "<!-- Title: G Pages: 1 -->\n",
       "<svg width=\"97pt\" height=\"55pt\"\n",
       " viewBox=\"0.00 0.00 97.00 55.00\" xmlns=\"http://www.w3.org/2000/svg\" xmlns:xlink=\"http://www.w3.org/1999/xlink\">\n",
       "<g id=\"graph0\" class=\"graph\" transform=\"scale(1 1) rotate(0) translate(4 51)\">\n",
       "<title>G</title>\n",
       "<polygon fill=\"#ffffff\" stroke=\"transparent\" points=\"-4,4 -4,-51 93,-51 93,4 -4,4\"/>\n",
       "<!-- node4660203760 -->\n",
       "<g id=\"node1\" class=\"node\">\n",
       "<title>node4660203760</title>\n",
       "<polygon fill=\"#fefecd\" stroke=\"#444443\" stroke-width=\".5\" points=\"89,-47 0,-47 0,0 89,0 89,-47\"/>\n",
       "<polygon fill=\"#fefecd\" stroke=\"transparent\" points=\"2.5,-31.5 2.5,-44.5 87.5,-44.5 87.5,-31.5 2.5,-31.5\"/>\n",
       "<polyline fill=\"none\" stroke=\"#444443\" points=\"2.5,-31.5 87.5,-31.5 \"/>\n",
       "<text text-anchor=\"start\" x=\"3.3525\" y=\"-34.7\" font-family=\"Times,serif\" font-style=\"italic\" font-size=\"11.00\" fill=\"#444443\">InterestingAccount</text>\n",
       "<polygon fill=\"#fefecd\" stroke=\"transparent\" points=\"2.5,-29.5 2.5,-31.5 87.5,-31.5 87.5,-29.5 2.5,-29.5\"/>\n",
       "<polygon fill=\"#fefecd\" stroke=\"transparent\" points=\"2.5,-16.5 2.5,-29.5 50.5,-29.5 50.5,-16.5 2.5,-16.5\"/>\n",
       "<polyline fill=\"none\" stroke=\"#444443\" points=\"50.5,-16.5 50.5,-29.5 \"/>\n",
       "<text text-anchor=\"start\" x=\"7.9116\" y=\"-19.7\" font-family=\"Helvetica,sans-Serif\" font-size=\"11.00\" fill=\"#444443\">balance </text>\n",
       "<polygon fill=\"#fefecd\" stroke=\"transparent\" points=\"53.5,-16.5 53.5,-29.5 87.5,-29.5 87.5,-16.5 53.5,-16.5\"/>\n",
       "<text text-anchor=\"start\" x=\"54.5\" y=\"-19.7\" font-family=\"Helvetica,sans-Serif\" font-size=\"11.00\" fill=\"#444443\"> 115.0</text>\n",
       "<polygon fill=\"#fefecd\" stroke=\"transparent\" points=\"2.5,-14.5 2.5,-16.5 87.5,-16.5 87.5,-14.5 2.5,-14.5\"/>\n",
       "<polygon fill=\"#fefecd\" stroke=\"transparent\" points=\"2.5,-1.5 2.5,-14.5 50.5,-14.5 50.5,-1.5 2.5,-1.5\"/>\n",
       "<polyline fill=\"none\" stroke=\"#444443\" points=\"50.5,-1.5 50.5,-14.5 \"/>\n",
       "<text text-anchor=\"start\" x=\"27.4893\" y=\"-4.7\" font-family=\"Helvetica,sans-Serif\" font-size=\"11.00\" fill=\"#444443\">rate </text>\n",
       "<polygon fill=\"#fefecd\" stroke=\"transparent\" points=\"53.5,-1.5 53.5,-14.5 87.5,-14.5 87.5,-1.5 53.5,-1.5\"/>\n",
       "<text text-anchor=\"start\" x=\"54.5\" y=\"-4.7\" font-family=\"Helvetica,sans-Serif\" font-size=\"11.00\" fill=\"#444443\"> 0.15</text>\n",
       "</g>\n",
       "</g>\n",
       "</svg>\n"
      ],
      "text/plain": [
       "<graphviz.files.Source at 0x115c51eb8>"
      ]
     },
     "execution_count": 145,
     "metadata": {},
     "output_type": "execute_result"
    }
   ],
   "source": [
    "objviz(b)"
   ]
  },
  {
   "cell_type": "markdown",
   "metadata": {},
   "source": [
    "The key is that we get to use `add()` without having to redefine it in `InterestingAccount` and `InterestingAccount` also gets to override what the `total()` of the account is.  We have *reused* and *refined* previous functionality. You can think of the superclass as defining some initial functions that we can reuse or override in the subclass.\n",
    "\n",
    "We can also *extend* the functionality by adding a method that is not in the superclass."
   ]
  },
  {
   "cell_type": "code",
   "execution_count": 146,
   "metadata": {},
   "outputs": [],
   "source": [
    "class InterestingAccount(Account): # derive from super class to get subclass\n",
    "    def __init__(self, starting, rate):\n",
    "        super().__init__(starting) # does self.balance = starting above\n",
    "        self.rate = rate\n",
    "\n",
    "    def total(self): # OVERRIDE method\n",
    "        return self.balance + self.balance * self.rate\n",
    "    \n",
    "    def profit(self):\n",
    "        return self.balance * self.rate"
   ]
  },
  {
   "cell_type": "code",
   "execution_count": 147,
   "metadata": {},
   "outputs": [
    {
     "data": {
      "text/plain": [
       "17.25"
      ]
     },
     "execution_count": 147,
     "metadata": {},
     "output_type": "execute_result"
    }
   ],
   "source": [
    "b = InterestingAccount(100.0, 0.15)\n",
    "b.add(15)\n",
    "b.profit()"
   ]
  },
  {
   "cell_type": "code",
   "execution_count": 148,
   "metadata": {
    "scrolled": true
   },
   "outputs": [
    {
     "name": "stdout",
     "output_type": "stream",
     "text": [
      "<class '__main__.Account'>\n",
      "<class '__main__.InterestingAccount'>\n"
     ]
    }
   ],
   "source": [
    "a = Account(100.0)\n",
    "b = InterestingAccount(100.0, 0.15)\n",
    "print(type(a))\n",
    "print(type(b))"
   ]
  },
  {
   "cell_type": "markdown",
   "metadata": {},
   "source": [
    "The class definitions are actually objects themselves that you can access with a secret field of any object:"
   ]
  },
  {
   "cell_type": "code",
   "execution_count": 149,
   "metadata": {},
   "outputs": [
    {
     "name": "stdout",
     "output_type": "stream",
     "text": [
      "<class '__main__.InterestingAccount'>\n",
      "<class '__main__.Account'>\n"
     ]
    }
   ],
   "source": [
    "print(b.__class__)\n",
    "print(b.__class__.__base__)"
   ]
  },
  {
   "cell_type": "markdown",
   "metadata": {},
   "source": [
    "## Exercise"
   ]
  },
  {
   "cell_type": "markdown",
   "metadata": {},
   "source": [
    "1. What is a class?\n",
    "1. What's the difference between a class and an instance?\n",
    "1. Define a new instance of class `Foo` using a constructor that takes no arguments.\n",
    "1. What is the syntax to access a field of an object?\n",
    "1. How does a method differ from a function?\n",
    "1. What does the `__init__` method do?\n",
    "1. Given classes `Employee` and `Manager`, which is the superclass in which is the subclass?\n",
    "1. Can a method in a subclass call a method defined in the superclass?\n",
    "1. How do you override a method inherited from your superclass?"
   ]
  },
  {
   "cell_type": "markdown",
   "metadata": {},
   "source": [
    "## Dynamic dispatch (Advanced)"
   ]
  },
  {
   "cell_type": "markdown",
   "metadata": {},
   "source": [
    "When you call `b.add(15)`, Python looks up function `add` within the object definition for `b` (`InterestingAccount`).  Because we have inherited that method from the superclass, subclass knows about it. When we call `b.total()`, Python again looks up method within `InterestingAccount` and finds an overridden method. That is why `b.total()` doesn't invoke the `Account` version.\n",
    "\n",
    "This behavior is desirable but extremely confusing at first. Here is an example of it in action where I have added a `__str__` method to the superclass:"
   ]
  },
  {
   "cell_type": "code",
   "execution_count": 150,
   "metadata": {},
   "outputs": [],
   "source": [
    "class Account:\n",
    "    def __init__(self, starting):\n",
    "        self.balance = starting\n",
    "\n",
    "    def add(self, value):\n",
    "        self.balance += value\n",
    "\n",
    "    def total(self):\n",
    "        return self.balance\n",
    "    \n",
    "    def __str__(self):\n",
    "        return f\"Balance {self.total()}\" # can call 2 different functions\n",
    "    \n",
    "class InterestingAccount(Account): # derive from super class to get subclass\n",
    "    def __init__(self, starting, rate):\n",
    "        self.balance = starting\n",
    "        self.rate = rate\n",
    "\n",
    "    def total(self): # OVERRIDE method\n",
    "        return self.balance + self.balance * self.rate\n",
    "    \n",
    "    def profit(self):\n",
    "        return self.balance * self.rate"
   ]
  },
  {
   "cell_type": "markdown",
   "metadata": {},
   "source": [
    "The devious part is that `__str__` in `Account` calls `Account.total()` or `InterestingAccount.total()`, depending on the type of `self`:"
   ]
  },
  {
   "cell_type": "code",
   "execution_count": 151,
   "metadata": {},
   "outputs": [
    {
     "name": "stdout",
     "output_type": "stream",
     "text": [
      "Balance 100.0\n",
      "Balance 115.0\n"
     ]
    }
   ],
   "source": [
    "a = Account(100.0)\n",
    "b = InterestingAccount(100.0, 0.15)\n",
    "print(a) # calls Account.total()\n",
    "print(b) # calls InterestingAccount.total()"
   ]
  },
  {
   "cell_type": "markdown",
   "metadata": {
    "code_folding": []
   },
   "source": [
    "## Exercise"
   ]
  },
  {
   "cell_type": "markdown",
   "metadata": {},
   "source": [
    "Define a `Point3D` that inherits from `Point`. \n",
    "\n",
    "Define constructor that takes x,y,z values and sets fields. Call `super().__init__(x,y)` to call constructor of superclass.\n",
    "\n",
    "Define / override `distance(q)` so it works with 3D field values to return distance.\n",
    "\n",
    "Test with\n",
    "\n",
    "```\n",
    "p = Point3D(3,4,9)\n",
    "q = Point3D(5,6,10)\n",
    "print(p.distance(q))\n",
    "```\n",
    "\n",
    "Add method `__str__` so that `print(q)` prints something nice like `(3,4,5)`.  Recall:\n",
    "\n",
    "\n",
    "$dist(x,y) = \\sqrt{(x_1-y_1)^2 + (x_2-y_2)^2 + (x_3-y_3)^2)}$\n"
   ]
  },
  {
   "cell_type": "markdown",
   "metadata": {},
   "source": [
    "### Solution"
   ]
  },
  {
   "cell_type": "code",
   "execution_count": 152,
   "metadata": {},
   "outputs": [],
   "source": [
    "import numpy as np\n",
    "\n",
    "class Point3D(Point):\n",
    "    def __init__(self, x, y, z):\n",
    "        # reuse/refine super class constructor\n",
    "        super().__init__(x,y)\n",
    "        self.z = z\n",
    "        \n",
    "    def distance(self, other):\n",
    "        return np.sqrt( (self.x - other.x)**2 +\n",
    "                        (self.y - other.y)**2 +\n",
    "                        (self.z - other.z)**2 )\n",
    "    \n",
    "    def __str__(self):\n",
    "        return f\"({self.x},{self.y},{self.z})\""
   ]
  },
  {
   "cell_type": "code",
   "execution_count": 153,
   "metadata": {},
   "outputs": [
    {
     "name": "stdout",
     "output_type": "stream",
     "text": [
      "3.0\n"
     ]
    }
   ],
   "source": [
    "p = Point3D(3,4,9)\n",
    "q = Point3D(5,6,10)\n",
    "print(p.distance(q))"
   ]
  },
  {
   "cell_type": "markdown",
   "metadata": {},
   "source": [
    "# Rationale and general thoughts"
   ]
  },
  {
   "cell_type": "markdown",
   "metadata": {},
   "source": [
    "Because the mind of a hunter-gatherer views the world as a collection\n",
    "of objects that interact by sending messages, an OO programming paradigm\n",
    "maps well to the real world problems we try to simulate via computer.\n",
    "Further, we are at our best when programming the way our minds are\n",
    "hardwired to think.\n",
    "\n",
    "In general when writing software, we try to map real-world entities onto programming constructs. If we take a word problem, the nouns typically become objects and the verbs typically become methods within these objects.\n",
    "\n",
    "Because we can specify how differently-typed objects are similar,\n",
    "we can define new objects as they differ from existing objects.\n",
    "By correctly relating similar classes by their category/commonality/\n",
    "similarity, code reuse occurs as a side-effect of inheritance.\n",
    "\n",
    "Non-OO languages are inflexible/brittle because the exact type\n",
    "of variables must be specified.  In OO languages, *polymorphism* is the ability to refer to groups of similar but different types using a single type reference."
   ]
  }
 ],
 "metadata": {
  "kernelspec": {
   "display_name": "Python 3",
   "language": "python",
   "name": "python3"
  },
  "language_info": {
   "codemirror_mode": {
    "name": "ipython",
    "version": 3
   },
   "file_extension": ".py",
   "mimetype": "text/x-python",
   "name": "python",
   "nbconvert_exporter": "python",
   "pygments_lexer": "ipython3",
   "version": "3.6.5"
  },
  "toc": {
   "colors": {
    "hover_highlight": "#DAA520",
    "navigate_num": "#000000",
    "navigate_text": "#333333",
    "running_highlight": "#FF0000",
    "selected_highlight": "#FFD700",
    "sidebar_border": "#EEEEEE",
    "wrapper_background": "#FFFFFF"
   },
   "moveMenuLeft": true,
   "nav_menu": {
    "height": "178px",
    "width": "252px"
   },
   "navigate_menu": true,
   "number_sections": true,
   "sideBar": true,
   "skip_h1_title": false,
   "threshold": 4,
   "toc_cell": false,
   "toc_position": {
    "height": "920px",
    "left": "0px",
    "right": "793.6px",
    "top": "136px",
    "width": "212px"
   },
   "toc_section_display": "block",
   "toc_window_display": false,
   "widenNotebook": false
  }
 },
 "nbformat": 4,
 "nbformat_minor": 2
}
