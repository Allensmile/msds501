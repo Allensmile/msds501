{
 "cells": [
  {
   "cell_type": "markdown",
   "metadata": {},
   "source": [
    "# Object-oriented programming"
   ]
  },
  {
   "cell_type": "markdown",
   "metadata": {},
   "source": [
    "# The big reveal"
   ]
  },
  {
   "cell_type": "markdown",
   "metadata": {},
   "source": [
    "So far we've been working with functions and packages of functions, as well as defining our own functions.  It turns out, though, that we've been working with objects all along, we just haven't recognize them as such. For example,"
   ]
  },
  {
   "cell_type": "code",
   "execution_count": 37,
   "metadata": {},
   "outputs": [
    {
     "data": {
      "text/plain": [
       "'hi'"
      ]
     },
     "execution_count": 37,
     "metadata": {},
     "output_type": "execute_result"
    }
   ],
   "source": [
    "s = 'Hi'\n",
    "s.lower()"
   ]
  },
  {
   "cell_type": "markdown",
   "metadata": {},
   "source": [
    "The string `s` is an object that we can send messages to."
   ]
  },
  {
   "cell_type": "code",
   "execution_count": 38,
   "metadata": {
    "scrolled": true
   },
   "outputs": [
    {
     "name": "stdout",
     "output_type": "stream",
     "text": [
      "<class 'str'>\n"
     ]
    }
   ],
   "source": [
    "print( type(s) )"
   ]
  },
  {
   "cell_type": "markdown",
   "metadata": {},
   "source": [
    "A *class* is the blueprint for an object and is basically the name of the type, `str` in this case. An object is called an *instance* of the class.\n",
    "\n",
    "In `s.lower()` we are sending the `lower` message to the `s` string object. Messages are really just functions associated with classes/objects."
   ]
  },
  {
   "cell_type": "code",
   "execution_count": 39,
   "metadata": {},
   "outputs": [
    {
     "data": {
      "text/plain": [
       "<function str.lower>"
      ]
     },
     "execution_count": 39,
     "metadata": {},
     "output_type": "execute_result"
    }
   ],
   "source": [
    "s.lower"
   ]
  },
  {
   "cell_type": "markdown",
   "metadata": {},
   "source": [
    "In a language that does not support object learning programming, we would do something like:\n",
    "\n",
    "```python\n",
    "lower(s)\n",
    "```\n",
    "\n",
    "Python has both functions and object reprogramming which is why there is both `s.lower()` and:"
   ]
  },
  {
   "cell_type": "code",
   "execution_count": 40,
   "metadata": {},
   "outputs": [
    {
     "data": {
      "text/plain": [
       "2"
      ]
     },
     "execution_count": 40,
     "metadata": {},
     "output_type": "execute_result"
    }
   ],
   "source": [
    "len(s)"
   ]
  },
  {
   "cell_type": "markdown",
   "metadata": {},
   "source": [
    "The choice of function or \"message\" is up to the library designer.\n",
    "\n",
    "In terms of implementation, however, `s.lower()` is actually implemented as `lower(s)`. Computer processors understand function calls; they do not understand objects and so we performed this translation within the Python interpreter itself."
   ]
  },
  {
   "cell_type": "markdown",
   "metadata": {},
   "source": [
    "# Package vs object members\n",
    "\n",
    "Let's get another thing straight. The dot `.` operator is overloaded in Python to mean both package member and object member access.  You are familiar with this already:"
   ]
  },
  {
   "cell_type": "code",
   "execution_count": 41,
   "metadata": {
    "scrolled": true
   },
   "outputs": [
    {
     "data": {
      "text/plain": [
       "array([1, 2, 3])"
      ]
     },
     "execution_count": 41,
     "metadata": {},
     "output_type": "execute_result"
    }
   ],
   "source": [
    "import numpy as np\n",
    "np.array([1,2,3])"
   ]
  },
  {
   "cell_type": "code",
   "execution_count": 42,
   "metadata": {},
   "outputs": [
    {
     "data": {
      "text/plain": [
       "8.006367567650246"
      ]
     },
     "execution_count": 42,
     "metadata": {},
     "output_type": "execute_result"
    }
   ],
   "source": [
    "import math\n",
    "math.log(3000)"
   ]
  },
  {
   "cell_type": "markdown",
   "metadata": {},
   "source": [
    "This is a common point of confusion when reading code. When we see `a.f()`, we don't know whether that function `f` is a member of the package identified by `a` or an object referred to by `a`.\n",
    "\n",
    "In the wordsim project, you defined a file called `wordsim.py` and then my `test_wordsim.py` file did `from wordsim import *` to pull in all your functions in `wordsim.py`."
   ]
  },
  {
   "cell_type": "markdown",
   "metadata": {},
   "source": [
    "# Fields versus methods\n",
    "\n",
    "Objects have functions, which we call *methods* to distinguish them from functions not associated with objects. Objects also have variables, which we call *fields*.  \n",
    "\n",
    "Fields are the *state* of the object.  Methods are the *behavior* of the object.\n",
    "\n",
    "We've also been using fields all along, such as `df.columns` that gets the list of columns in a data frame."
   ]
  },
  {
   "cell_type": "code",
   "execution_count": 43,
   "metadata": {},
   "outputs": [
    {
     "name": "stdout",
     "output_type": "stream",
     "text": [
      "<class 'datetime.date'>\n",
      "2018\n"
     ]
    }
   ],
   "source": [
    "import datetime\n",
    "now = datetime.date.today()\n",
    "print( type(now) )\n",
    "print( now.year ) # access field year"
   ]
  },
  {
   "cell_type": "markdown",
   "metadata": {},
   "source": [
    "If you try to access an objects function without the parentheses, the expression evaluates to the function object itself instead of calling it:"
   ]
  },
  {
   "cell_type": "code",
   "execution_count": 44,
   "metadata": {},
   "outputs": [
    {
     "data": {
      "text/plain": [
       "<function str.title>"
      ]
     },
     "execution_count": 44,
     "metadata": {},
     "output_type": "execute_result"
    }
   ],
   "source": [
    "s='hi'\n",
    "s.title"
   ]
  },
  {
   "cell_type": "markdown",
   "metadata": {},
   "source": [
    "# A simple class definition"
   ]
  },
  {
   "cell_type": "markdown",
   "metadata": {},
   "source": [
    "A class is a blueprint for multiple objects/instances.  The class *encapsulates* the state and behavior of an object.\n",
    "\n",
    "The fields of an object are the data items we want to associate together. For example, if I want to track book titles/authors, I can use a list of tuples:"
   ]
  },
  {
   "cell_type": "code",
   "execution_count": 69,
   "metadata": {},
   "outputs": [
    {
     "data": {
      "image/svg+xml": [
       "<?xml version=\"1.0\" encoding=\"UTF-8\" standalone=\"no\"?>\n",
       "<!DOCTYPE svg PUBLIC \"-//W3C//DTD SVG 1.1//EN\"\n",
       " \"http://www.w3.org/Graphics/SVG/1.1/DTD/svg11.dtd\">\n",
       "<!-- Generated by graphviz version 2.40.1 (20161225.0304)\n",
       " -->\n",
       "<!-- Title: G Pages: 1 -->\n",
       "<svg width=\"184pt\" height=\"75pt\"\n",
       " viewBox=\"0.00 0.00 184.00 75.00\" xmlns=\"http://www.w3.org/2000/svg\" xmlns:xlink=\"http://www.w3.org/1999/xlink\">\n",
       "<g id=\"graph0\" class=\"graph\" transform=\"scale(1 1) rotate(0) translate(4 71)\">\n",
       "<title>G</title>\n",
       "<polygon fill=\"#ffffff\" stroke=\"transparent\" points=\"-4,4 -4,-71 180,-71 180,4 -4,4\"/>\n",
       "<!-- node4484331272 -->\n",
       "<g id=\"node1\" class=\"node\">\n",
       "<title>node4484331272</title>\n",
       "<polygon fill=\"#cfe2d4\" stroke=\"#444443\" stroke-width=\".5\" points=\"13,-49 0,-49 0,-17 13,-17 13,-49\"/>\n",
       "<polygon fill=\"#cfe2d4\" stroke=\"transparent\" points=\"1.5,-33 1.5,-48 12.5,-48 12.5,-33 1.5,-33\"/>\n",
       "<polyline fill=\"none\" stroke=\"#444443\" points=\"1.5,-33 12.5,-33 \"/>\n",
       "<text text-anchor=\"start\" x=\"4.4973\" y=\"-37.8\" font-family=\"Helvetica,sans-Serif\" font-size=\"9.00\" fill=\"#444443\">0</text>\n",
       "<polygon fill=\"#cfe2d4\" stroke=\"transparent\" points=\"1.5,-18 1.5,-33 12.5,-33 12.5,-18 1.5,-18\"/>\n",
       "<text text-anchor=\"start\" x=\"4.4973\" y=\"-22.8\" font-family=\"Helvetica,sans-Serif\" font-size=\"9.00\" fill=\"#444443\">1</text>\n",
       "</g>\n",
       "<!-- node4618285192 -->\n",
       "<g id=\"node2\" class=\"node\">\n",
       "<title>node4618285192</title>\n",
       "<polygon fill=\"none\" stroke=\"#000000\" stroke-width=\".5\" points=\"167,-67 44,-67 44,-37 167,-37 167,-67\"/>\n",
       "<polygon fill=\"#fefecd\" stroke=\"transparent\" points=\"45.5,-55 45.5,-66 104.5,-66 104.5,-55 45.5,-55\"/>\n",
       "<polyline fill=\"none\" stroke=\"#000000\" points=\"45.5,-55 104.5,-55 104.5,-66 \"/>\n",
       "<text text-anchor=\"start\" x=\"72.4973\" y=\"-57.8\" font-family=\"Helvetica,sans-Serif\" font-size=\"9.00\" fill=\"#444443\">0</text>\n",
       "<polygon fill=\"#fefecd\" stroke=\"transparent\" points=\"104.5,-55 104.5,-66 166.5,-66 166.5,-55 104.5,-55\"/>\n",
       "<polyline fill=\"none\" stroke=\"#000000\" points=\"104.5,-55 166.5,-55 \"/>\n",
       "<text text-anchor=\"start\" x=\"132.9973\" y=\"-57.8\" font-family=\"Helvetica,sans-Serif\" font-size=\"9.00\" fill=\"#444443\">1</text>\n",
       "<polygon fill=\"#fefecd\" stroke=\"transparent\" points=\"45.5,-38 45.5,-55 104.5,-55 104.5,-38 45.5,-38\"/>\n",
       "<polyline fill=\"none\" stroke=\"#000000\" points=\"104.5,-38 104.5,-55 \"/>\n",
       "<text text-anchor=\"start\" x=\"48.1392\" y=\"-43.2\" font-family=\"Helvetica,sans-Serif\" font-size=\"11.00\" fill=\"#444443\">&#39;Gridlinked&#39;</text>\n",
       "<polygon fill=\"#fefecd\" stroke=\"transparent\" points=\"104.5,-38 104.5,-55 166.5,-55 166.5,-38 104.5,-38\"/>\n",
       "<text text-anchor=\"start\" x=\"106.4934\" y=\"-43.2\" font-family=\"Helvetica,sans-Serif\" font-size=\"11.00\" fill=\"#444443\">&#39;Neal Asher&#39;</text>\n",
       "</g>\n",
       "<!-- node4484331272&#45;&gt;node4618285192 -->\n",
       "<g id=\"edge1\" class=\"edge\">\n",
       "<title>node4484331272:0&#45;&gt;node4618285192:w</title>\n",
       "<path fill=\"none\" stroke=\"#444443\" stroke-width=\".5\" d=\"M12.5,-41C25.6347,-41 28.3902,-49.8791 39.4166,-51.6827\"/>\n",
       "<polygon fill=\"#444443\" stroke=\"#444443\" stroke-width=\".5\" points=\"39.4035,-53.0858 43.5,-52 39.6205,-50.2942 39.4035,-53.0858\"/>\n",
       "</g>\n",
       "<!-- node4618312200 -->\n",
       "<g id=\"node3\" class=\"node\">\n",
       "<title>node4618312200</title>\n",
       "<polygon fill=\"none\" stroke=\"#000000\" stroke-width=\".5\" points=\"176,-30 35,-30 35,0 176,0 176,-30\"/>\n",
       "<polygon fill=\"#fefecd\" stroke=\"transparent\" points=\"36.5,-18 36.5,-29 117.5,-29 117.5,-18 36.5,-18\"/>\n",
       "<polyline fill=\"none\" stroke=\"#000000\" points=\"36.5,-18 117.5,-18 117.5,-29 \"/>\n",
       "<text text-anchor=\"start\" x=\"74.4973\" y=\"-20.8\" font-family=\"Helvetica,sans-Serif\" font-size=\"9.00\" fill=\"#444443\">0</text>\n",
       "<polygon fill=\"#fefecd\" stroke=\"transparent\" points=\"117.5,-18 117.5,-29 175.5,-29 175.5,-18 117.5,-18\"/>\n",
       "<polyline fill=\"none\" stroke=\"#000000\" points=\"117.5,-18 175.5,-18 \"/>\n",
       "<text text-anchor=\"start\" x=\"143.9973\" y=\"-20.8\" font-family=\"Helvetica,sans-Serif\" font-size=\"9.00\" fill=\"#444443\">1</text>\n",
       "<polygon fill=\"#fefecd\" stroke=\"transparent\" points=\"36.5,-1 36.5,-18 117.5,-18 117.5,-1 36.5,-1\"/>\n",
       "<polyline fill=\"none\" stroke=\"#000000\" points=\"117.5,-1 117.5,-18 \"/>\n",
       "<text text-anchor=\"start\" x=\"39.1338\" y=\"-6.2\" font-family=\"Helvetica,sans-Serif\" font-size=\"11.00\" fill=\"#444443\">&#39;Startide Rising&#39;</text>\n",
       "<polygon fill=\"#fefecd\" stroke=\"transparent\" points=\"117.5,-1 117.5,-18 175.5,-18 175.5,-1 117.5,-1\"/>\n",
       "<text text-anchor=\"start\" x=\"119.0295\" y=\"-6.2\" font-family=\"Helvetica,sans-Serif\" font-size=\"11.00\" fill=\"#444443\">&#39;David Brin&#39;</text>\n",
       "</g>\n",
       "<!-- node4484331272&#45;&gt;node4618312200 -->\n",
       "<g id=\"edge2\" class=\"edge\">\n",
       "<title>node4484331272:1&#45;&gt;node4618312200:w</title>\n",
       "<path fill=\"none\" stroke=\"#444443\" stroke-width=\".5\" d=\"M12.5,-25C21.9043,-25 23.68,-17.6147 30.9387,-15.5376\"/>\n",
       "<polygon fill=\"#444443\" stroke=\"#444443\" stroke-width=\".5\" points=\"31.2184,-16.9129 35,-15 30.8508,-14.1371 31.2184,-16.9129\"/>\n",
       "</g>\n",
       "</g>\n",
       "</svg>\n"
      ],
      "text/plain": [
       "<graphviz.files.Source at 0x113479550>"
      ]
     },
     "execution_count": 69,
     "metadata": {},
     "output_type": "execute_result"
    }
   ],
   "source": [
    "books = [\n",
    "    ('Gridlinked', 'Neal Asher'),\n",
    "    ('Startide Rising', 'David Brin')\n",
    "]\n",
    "objviz(books)"
   ]
  },
  {
   "cell_type": "code",
   "execution_count": 45,
   "metadata": {},
   "outputs": [
    {
     "name": "stdout",
     "output_type": "stream",
     "text": [
      "Neal Asher: Gridlinked\n",
      "David Brin: Startide Rising\n"
     ]
    }
   ],
   "source": [
    "for b in books:\n",
    "    print(f\"{b[1]}: {b[0]}\")"
   ]
  },
  {
   "cell_type": "code",
   "execution_count": 46,
   "metadata": {},
   "outputs": [
    {
     "name": "stdout",
     "output_type": "stream",
     "text": [
      "Neal Asher: Gridlinked\n",
      "David Brin: Startide Rising\n"
     ]
    }
   ],
   "source": [
    "# Or, more fancy\n",
    "for title, author in books:\n",
    "    print(f\"{author}: {title}\")"
   ]
  },
  {
   "cell_type": "markdown",
   "metadata": {},
   "source": [
    "To access the elements of the tuple in both cases, we have to keep track of the order in our heads. In other words, we have to access the tuple elements like they are list elements, which they are. A better way is to formally declare that author and title data elements should be encapsulated into a single entity called a book. Python has what I consider an extremely quirky specification but it is extremely flexible. Let's take a look at our first class definition that contains a function called a *constructor*."
   ]
  },
  {
   "cell_type": "code",
   "execution_count": 47,
   "metadata": {},
   "outputs": [],
   "source": [
    "class Book:\n",
    "    def __init__(self, title, author):\n",
    "        self.title = title\n",
    "        self.author = author"
   ]
  },
  {
   "cell_type": "markdown",
   "metadata": {},
   "source": [
    "The constructor typically sets initial and default field values based upon the arguments.\n",
    "\n",
    "All methods, functions defined within an object, must have an explicit first argument called `self`.  This is the object under consideration.\n",
    "\n",
    "Then we can make a list of book objects or instances of class `Book`:"
   ]
  },
  {
   "cell_type": "code",
   "execution_count": 48,
   "metadata": {},
   "outputs": [
    {
     "name": "stdout",
     "output_type": "stream",
     "text": [
      "Neal Asher: Gridlinked\n",
      "David Brin: Startide Rising\n"
     ]
    }
   ],
   "source": [
    "books = [\n",
    "    Book('Gridlinked', 'Neal Asher'),\n",
    "    Book('Startide Rising', 'David Brin')\n",
    "]\n",
    "\n",
    "for b in books:\n",
    "    print(f\"{b.author}: {b.title}\") # access fields"
   ]
  },
  {
   "cell_type": "code",
   "execution_count": 49,
   "metadata": {},
   "outputs": [
    {
     "data": {
      "image/svg+xml": [
       "<?xml version=\"1.0\" encoding=\"UTF-8\" standalone=\"no\"?>\n",
       "<!DOCTYPE svg PUBLIC \"-//W3C//DTD SVG 1.1//EN\"\n",
       " \"http://www.w3.org/Graphics/SVG/1.1/DTD/svg11.dtd\">\n",
       "<!-- Generated by graphviz version 2.40.1 (20161225.0304)\n",
       " -->\n",
       "<!-- Title: G Pages: 1 -->\n",
       "<svg width=\"163pt\" height=\"109pt\"\n",
       " viewBox=\"0.00 0.00 163.00 109.00\" xmlns=\"http://www.w3.org/2000/svg\" xmlns:xlink=\"http://www.w3.org/1999/xlink\">\n",
       "<g id=\"graph0\" class=\"graph\" transform=\"scale(1 1) rotate(0) translate(4 105)\">\n",
       "<title>G</title>\n",
       "<polygon fill=\"#ffffff\" stroke=\"transparent\" points=\"-4,4 -4,-105 159,-105 159,4 -4,4\"/>\n",
       "<!-- node4465023304 -->\n",
       "<g id=\"node1\" class=\"node\">\n",
       "<title>node4465023304</title>\n",
       "<polygon fill=\"#cfe2d4\" stroke=\"#444443\" stroke-width=\".5\" points=\"13,-66.5 0,-66.5 0,-34.5 13,-34.5 13,-66.5\"/>\n",
       "<polygon fill=\"#cfe2d4\" stroke=\"transparent\" points=\"1.5,-50.5 1.5,-65.5 12.5,-65.5 12.5,-50.5 1.5,-50.5\"/>\n",
       "<polyline fill=\"none\" stroke=\"#444443\" points=\"1.5,-50.5 12.5,-50.5 \"/>\n",
       "<text text-anchor=\"start\" x=\"4.4973\" y=\"-55.3\" font-family=\"Helvetica,sans-Serif\" font-size=\"9.00\" fill=\"#444443\">0</text>\n",
       "<polygon fill=\"#cfe2d4\" stroke=\"transparent\" points=\"1.5,-35.5 1.5,-50.5 12.5,-50.5 12.5,-35.5 1.5,-35.5\"/>\n",
       "<text text-anchor=\"start\" x=\"4.4973\" y=\"-40.3\" font-family=\"Helvetica,sans-Serif\" font-size=\"9.00\" fill=\"#444443\">1</text>\n",
       "</g>\n",
       "<!-- node4484448888 -->\n",
       "<g id=\"node2\" class=\"node\">\n",
       "<title>node4484448888</title>\n",
       "<polygon fill=\"#fefecd\" stroke=\"#444443\" stroke-width=\".5\" points=\"146.5,-101 43.5,-101 43.5,-54 146.5,-54 146.5,-101\"/>\n",
       "<polygon fill=\"#fefecd\" stroke=\"transparent\" points=\"46,-85.5 46,-98.5 145,-98.5 145,-85.5 46,-85.5\"/>\n",
       "<polyline fill=\"none\" stroke=\"#444443\" points=\"46,-85.5 145,-85.5 \"/>\n",
       "<text text-anchor=\"start\" x=\"84.1992\" y=\"-88.7\" font-family=\"Times,serif\" font-style=\"italic\" font-size=\"11.00\" fill=\"#444443\">Book</text>\n",
       "<polygon fill=\"#fefecd\" stroke=\"transparent\" points=\"46,-83.5 46,-85.5 145,-85.5 145,-83.5 46,-83.5\"/>\n",
       "<polygon fill=\"#fefecd\" stroke=\"transparent\" points=\"46,-70.5 46,-83.5 82,-83.5 82,-70.5 46,-70.5\"/>\n",
       "<polyline fill=\"none\" stroke=\"#444443\" points=\"82,-70.5 82,-83.5 \"/>\n",
       "<text text-anchor=\"start\" x=\"60.8262\" y=\"-73.7\" font-family=\"Helvetica,sans-Serif\" font-size=\"11.00\" fill=\"#444443\">title </text>\n",
       "<polygon fill=\"#fefecd\" stroke=\"transparent\" points=\"82,-70.5 82,-83.5 145,-83.5 145,-70.5 82,-70.5\"/>\n",
       "<text text-anchor=\"start\" x=\"83\" y=\"-73.7\" font-family=\"Helvetica,sans-Serif\" font-size=\"11.00\" fill=\"#444443\"> &#39;Gridlinked&#39;</text>\n",
       "<polygon fill=\"#fefecd\" stroke=\"transparent\" points=\"46,-68.5 46,-70.5 145,-70.5 145,-68.5 46,-68.5\"/>\n",
       "<polygon fill=\"#fefecd\" stroke=\"transparent\" points=\"46,-55.5 46,-68.5 82,-68.5 82,-55.5 46,-55.5\"/>\n",
       "<polyline fill=\"none\" stroke=\"#444443\" points=\"82,-55.5 82,-68.5 \"/>\n",
       "<text text-anchor=\"start\" x=\"46.877\" y=\"-58.7\" font-family=\"Helvetica,sans-Serif\" font-size=\"11.00\" fill=\"#444443\">author </text>\n",
       "<polygon fill=\"#fefecd\" stroke=\"transparent\" points=\"82,-55.5 82,-68.5 145,-68.5 145,-55.5 82,-55.5\"/>\n",
       "<text text-anchor=\"start\" x=\"82.9653\" y=\"-58.7\" font-family=\"Helvetica,sans-Serif\" font-size=\"11.00\" fill=\"#444443\"> &#39;Neal Asher&#39;</text>\n",
       "</g>\n",
       "<!-- node4465023304&#45;&gt;node4484448888 -->\n",
       "<g id=\"edge1\" class=\"edge\">\n",
       "<title>node4465023304:0&#45;&gt;node4484448888:w</title>\n",
       "<path fill=\"none\" stroke=\"#444443\" stroke-width=\".5\" d=\"M12.5,-58.5C26.9734,-58.5 27.1466,-74.1045 38.9387,-77.0303\"/>\n",
       "<polygon fill=\"#444443\" stroke=\"#444443\" stroke-width=\".5\" points=\"38.8656,-78.4311 43,-77.5 39.1873,-75.6497 38.8656,-78.4311\"/>\n",
       "</g>\n",
       "<!-- node4484449560 -->\n",
       "<g id=\"node3\" class=\"node\">\n",
       "<title>node4484449560</title>\n",
       "<polygon fill=\"#fefecd\" stroke=\"#444443\" stroke-width=\".5\" points=\"155,-47 35,-47 35,0 155,0 155,-47\"/>\n",
       "<polygon fill=\"#fefecd\" stroke=\"transparent\" points=\"37,-31.5 37,-44.5 153,-44.5 153,-31.5 37,-31.5\"/>\n",
       "<polyline fill=\"none\" stroke=\"#444443\" points=\"37,-31.5 153,-31.5 \"/>\n",
       "<text text-anchor=\"start\" x=\"83.6992\" y=\"-34.7\" font-family=\"Times,serif\" font-style=\"italic\" font-size=\"11.00\" fill=\"#444443\">Book</text>\n",
       "<polygon fill=\"#fefecd\" stroke=\"transparent\" points=\"37,-29.5 37,-31.5 153,-31.5 153,-29.5 37,-29.5\"/>\n",
       "<polygon fill=\"#fefecd\" stroke=\"transparent\" points=\"37,-16.5 37,-29.5 73,-29.5 73,-16.5 37,-16.5\"/>\n",
       "<polyline fill=\"none\" stroke=\"#444443\" points=\"73,-16.5 73,-29.5 \"/>\n",
       "<text text-anchor=\"start\" x=\"51.8262\" y=\"-19.7\" font-family=\"Helvetica,sans-Serif\" font-size=\"11.00\" fill=\"#444443\">title </text>\n",
       "<polygon fill=\"#fefecd\" stroke=\"transparent\" points=\"73,-16.5 73,-29.5 153,-29.5 153,-16.5 73,-16.5\"/>\n",
       "<text text-anchor=\"start\" x=\"73.6057\" y=\"-19.7\" font-family=\"Helvetica,sans-Serif\" font-size=\"11.00\" fill=\"#444443\"> &#39;Startide Rising&#39;</text>\n",
       "<polygon fill=\"#fefecd\" stroke=\"transparent\" points=\"37,-14.5 37,-16.5 153,-16.5 153,-14.5 37,-14.5\"/>\n",
       "<polygon fill=\"#fefecd\" stroke=\"transparent\" points=\"37,-1.5 37,-14.5 73,-14.5 73,-1.5 37,-1.5\"/>\n",
       "<polyline fill=\"none\" stroke=\"#444443\" points=\"73,-1.5 73,-14.5 \"/>\n",
       "<text text-anchor=\"start\" x=\"37.877\" y=\"-4.7\" font-family=\"Helvetica,sans-Serif\" font-size=\"11.00\" fill=\"#444443\">author </text>\n",
       "<polygon fill=\"#fefecd\" stroke=\"transparent\" points=\"73,-1.5 73,-14.5 153,-14.5 153,-1.5 73,-1.5\"/>\n",
       "<text text-anchor=\"start\" x=\"74\" y=\"-4.7\" font-family=\"Helvetica,sans-Serif\" font-size=\"11.00\" fill=\"#444443\"> &#39;David Brin&#39;</text>\n",
       "</g>\n",
       "<!-- node4465023304&#45;&gt;node4484449560 -->\n",
       "<g id=\"edge2\" class=\"edge\">\n",
       "<title>node4465023304:1&#45;&gt;node4484449560:w</title>\n",
       "<path fill=\"none\" stroke=\"#444443\" stroke-width=\".5\" d=\"M12.5,-42.5C23.9524,-42.5 22.5688,-27.9531 30.8122,-24.3164\"/>\n",
       "<polygon fill=\"#444443\" stroke=\"#444443\" stroke-width=\".5\" points=\"31.3418,-25.6396 35,-23.5 30.806,-22.8913 31.3418,-25.6396\"/>\n",
       "</g>\n",
       "</g>\n",
       "</svg>\n"
      ],
      "text/plain": [
       "<graphviz.files.Source at 0x10a21d390>"
      ]
     },
     "execution_count": 49,
     "metadata": {},
     "output_type": "execute_result"
    }
   ],
   "source": [
    "from lolviz import *\n",
    "\n",
    "objviz(books)"
   ]
  },
  {
   "cell_type": "markdown",
   "metadata": {},
   "source": [
    "Notice that we do not pass the `self` parameter to the constructor. **It's implicit at the call site but explicit at the definition site!**"
   ]
  },
  {
   "cell_type": "markdown",
   "metadata": {},
   "source": [
    "# Defining methods"
   ]
  },
  {
   "cell_type": "markdown",
   "metadata": {},
   "source": [
    "If you try to print out a book you will see just the type information and the physical memory address:"
   ]
  },
  {
   "cell_type": "code",
   "execution_count": 50,
   "metadata": {},
   "outputs": [
    {
     "name": "stdout",
     "output_type": "stream",
     "text": [
      "<__main__.Book object at 0x10b4b4278>\n"
     ]
    }
   ],
   "source": [
    "print(books[0])"
   ]
  },
  {
   "cell_type": "code",
   "execution_count": 68,
   "metadata": {},
   "outputs": [],
   "source": [
    "class Book:\n",
    "    def __init__(self, title, author):\n",
    "        self.title = title\n",
    "        self.author = author\n",
    "        \n",
    "    def __str__(self): # called when conversion to string needed like print\n",
    "        return f\"Book({self.title}, {self.author})\"\n",
    "    \n",
    "    def __repr__(self): # called in interactive mode\n",
    "        return self.__str__() # call the string\n",
    "    \n",
    "books = [\n",
    "    Book('Gridlinked', 'Neal Asher'),\n",
    "    Book('Startide Rising', 'David Brin')\n",
    "]"
   ]
  },
  {
   "cell_type": "code",
   "execution_count": 52,
   "metadata": {},
   "outputs": [
    {
     "name": "stdout",
     "output_type": "stream",
     "text": [
      "Book(Gridlinked, Neal Asher)\n"
     ]
    },
    {
     "data": {
      "text/plain": [
       "Book(Gridlinked, Neal Asher)"
      ]
     },
     "execution_count": 52,
     "metadata": {},
     "output_type": "execute_result"
    }
   ],
   "source": [
    "print(books[0]) # calls __str__()\n",
    "books[0]        # calls __repr__()"
   ]
  },
  {
   "cell_type": "markdown",
   "metadata": {},
   "source": [
    "Let's create another method that sets the count of book sold."
   ]
  },
  {
   "cell_type": "code",
   "execution_count": 53,
   "metadata": {},
   "outputs": [],
   "source": [
    "class Book:\n",
    "    def __init__(self, title, author):\n",
    "        self.title = title\n",
    "        self.author = author\n",
    "        self.sold = 0 # set default\n",
    "        \n",
    "    def sell(self, n):\n",
    "        self.sold += n\n",
    "        \n",
    "    def __str__(self): # called when conversion to string needed like print\n",
    "        return f\"Book({self.title}, {self.author}, sold={self.sold})\"\n",
    "    \n",
    "    def __repr__(self): # called in interactive mode\n",
    "        return self.__str__() # call the string"
   ]
  },
  {
   "cell_type": "code",
   "execution_count": 54,
   "metadata": {},
   "outputs": [
    {
     "name": "stdout",
     "output_type": "stream",
     "text": [
      "Book(Gridlinked, Neal Asher, sold=0)\n",
      "Book(Gridlinked, Neal Asher, sold=100)\n"
     ]
    }
   ],
   "source": [
    "b = Book('Gridlinked', 'Neal Asher')\n",
    "print(b)\n",
    "b.sell(100)\n",
    "print(b)"
   ]
  },
  {
   "cell_type": "markdown",
   "metadata": {},
   "source": [
    "## The key to understanding methods versus functions\n",
    "\n",
    "`b.sell(100)` is translated and executed by the Python interpreter as `sell(b,100)`. `b` becomes parameter `self` and so the `sell()` function is updating book `b`.\n",
    "\n",
    "Instead of just functions, we send messages back and forth between objects. Instead of bark(dog) we say dog.bark() or instead of inflate(ball) we say ball.inflate()."
   ]
  },
  {
   "cell_type": "markdown",
   "metadata": {},
   "source": [
    "## Exercise"
   ]
  },
  {
   "cell_type": "markdown",
   "metadata": {},
   "source": [
    "Real-world objects contain ... and ...\n",
    "\n",
    "A software object's state is stored in ...\n",
    "\n",
    "A software object's behavior is exposed through ...\n",
    "\n",
    "A blueprint for a software object is called a ..."
   ]
  },
  {
   "cell_type": "markdown",
   "metadata": {},
   "source": [
    "## Exercise"
   ]
  },
  {
   "cell_type": "markdown",
   "metadata": {},
   "source": [
    "Define a class called `Point` that has a constructor taking x, y coordinates and make them fields of the class.\n",
    "\n",
    "Define method `distance(q)` that takes a `Point` and returns the Euclidean distance (`np.linalg.norm()`) from `self` to `q`.\n",
    "\n",
    "Test with\n",
    "\n",
    "```\n",
    "p = Point(3,4)\n",
    "q = Point(5,6)\n",
    "print(p.distance(q))\n",
    "```\n",
    "\n",
    "Add method `__str__` so that `print(q)` prints something nice like `(3,4)`."
   ]
  },
  {
   "cell_type": "markdown",
   "metadata": {},
   "source": [
    "### Solution"
   ]
  },
  {
   "cell_type": "code",
   "execution_count": 55,
   "metadata": {},
   "outputs": [],
   "source": [
    "import numpy as np\n",
    "\n",
    "class Point:\n",
    "    def __init__(self, x, y):\n",
    "        self.x = x\n",
    "        self.y = y\n",
    "        \n",
    "    def distance(self, other):\n",
    "        return np.sqrt( (self.x - other.x)**2 + (self.y - other.y)**2 )\n",
    "    \n",
    "    def __str__(self):\n",
    "        return f\"({self.x},{self.y})\""
   ]
  },
  {
   "cell_type": "code",
   "execution_count": 56,
   "metadata": {},
   "outputs": [
    {
     "name": "stdout",
     "output_type": "stream",
     "text": [
      "(3,4) (5,6)\n",
      "2.8284271247461903\n"
     ]
    }
   ],
   "source": [
    "p = Point(3,4)\n",
    "q = Point(5,6)\n",
    "print(p, q)\n",
    "print(p.distance(q))"
   ]
  },
  {
   "cell_type": "markdown",
   "metadata": {},
   "source": [
    "# Inheritance"
   ]
  },
  {
   "cell_type": "markdown",
   "metadata": {},
   "source": [
    "Defining something new as it relates to something we already understand is usually a lot easier. The same thing is true in programming. Let's start with an account object:"
   ]
  },
  {
   "cell_type": "code",
   "execution_count": 57,
   "metadata": {},
   "outputs": [],
   "source": [
    "class Account:\n",
    "    def __init__(self, starting):\n",
    "        self.balance = starting\n",
    "\n",
    "    def add(self, value):\n",
    "        self.balance += value\n",
    "\n",
    "    def total(self):\n",
    "        return self.balance"
   ]
  },
  {
   "cell_type": "code",
   "execution_count": 71,
   "metadata": {},
   "outputs": [
    {
     "data": {
      "text/plain": [
       "115.0"
      ]
     },
     "execution_count": 71,
     "metadata": {},
     "output_type": "execute_result"
    }
   ],
   "source": [
    "a = Account(100.0)\n",
    "a.add(15)\n",
    "a.total()"
   ]
  },
  {
   "cell_type": "code",
   "execution_count": 72,
   "metadata": {},
   "outputs": [
    {
     "data": {
      "image/svg+xml": [
       "<?xml version=\"1.0\" encoding=\"UTF-8\" standalone=\"no\"?>\n",
       "<!DOCTYPE svg PUBLIC \"-//W3C//DTD SVG 1.1//EN\"\n",
       " \"http://www.w3.org/Graphics/SVG/1.1/DTD/svg11.dtd\">\n",
       "<!-- Generated by graphviz version 2.40.1 (20161225.0304)\n",
       " -->\n",
       "<!-- Title: G Pages: 1 -->\n",
       "<svg width=\"86pt\" height=\"40pt\"\n",
       " viewBox=\"0.00 0.00 86.00 40.00\" xmlns=\"http://www.w3.org/2000/svg\" xmlns:xlink=\"http://www.w3.org/1999/xlink\">\n",
       "<g id=\"graph0\" class=\"graph\" transform=\"scale(1 1) rotate(0) translate(4 36)\">\n",
       "<title>G</title>\n",
       "<polygon fill=\"#ffffff\" stroke=\"transparent\" points=\"-4,4 -4,-36 82,-36 82,4 -4,4\"/>\n",
       "<!-- node4618425624 -->\n",
       "<g id=\"node1\" class=\"node\">\n",
       "<title>node4618425624</title>\n",
       "<polygon fill=\"#fefecd\" stroke=\"#444443\" stroke-width=\".5\" points=\"78,-32 0,-32 0,0 78,0 78,-32\"/>\n",
       "<polygon fill=\"#fefecd\" stroke=\"transparent\" points=\"2,-17 2,-30 76,-30 76,-17 2,-17\"/>\n",
       "<polyline fill=\"none\" stroke=\"#444443\" points=\"2,-17 76,-17 \"/>\n",
       "<text text-anchor=\"start\" x=\"20.98\" y=\"-20.2\" font-family=\"Times,serif\" font-style=\"italic\" font-size=\"11.00\" fill=\"#444443\">Account</text>\n",
       "<polygon fill=\"#fefecd\" stroke=\"transparent\" points=\"2,-15 2,-17 76,-17 76,-15 2,-15\"/>\n",
       "<polygon fill=\"#fefecd\" stroke=\"transparent\" points=\"2,-2 2,-15 45,-15 45,-2 2,-2\"/>\n",
       "<polyline fill=\"none\" stroke=\"#444443\" points=\"45,-2 45,-15 \"/>\n",
       "<text text-anchor=\"start\" x=\"2.7058\" y=\"-5.2\" font-family=\"Helvetica,sans-Serif\" font-size=\"11.00\" fill=\"#444443\">balance </text>\n",
       "<polygon fill=\"#fefecd\" stroke=\"transparent\" points=\"45,-2 45,-15 76,-15 76,-2 45,-2\"/>\n",
       "<text text-anchor=\"start\" x=\"45.614\" y=\"-5.2\" font-family=\"Helvetica,sans-Serif\" font-size=\"11.00\" fill=\"#444443\"> 115.0</text>\n",
       "</g>\n",
       "</g>\n",
       "</svg>\n"
      ],
      "text/plain": [
       "<graphviz.files.Source at 0x113479320>"
      ]
     },
     "execution_count": 72,
     "metadata": {},
     "output_type": "execute_result"
    }
   ],
   "source": [
    "objviz(a)"
   ]
  },
  {
   "cell_type": "markdown",
   "metadata": {},
   "source": [
    "We could define an interest-bearing account as it differs from a regular account:"
   ]
  },
  {
   "cell_type": "code",
   "execution_count": 59,
   "metadata": {},
   "outputs": [],
   "source": [
    "class InterestingAccount(Account): # derive from super class to get subclass\n",
    "    def __init__(self, starting, rate):\n",
    "        self.balance = starting\n",
    "        self.rate = rate\n",
    "    def total(self): # OVERRIDE method\n",
    "        return self.balance + self.balance * self.rate"
   ]
  },
  {
   "cell_type": "code",
   "execution_count": 60,
   "metadata": {},
   "outputs": [
    {
     "data": {
      "text/plain": [
       "132.25"
      ]
     },
     "execution_count": 60,
     "metadata": {},
     "output_type": "execute_result"
    }
   ],
   "source": [
    "b = InterestingAccount(100.0, 0.15)\n",
    "b.add(15)\n",
    "b.total()"
   ]
  },
  {
   "cell_type": "markdown",
   "metadata": {},
   "source": [
    "The key is that it gets to use `add()` without having to redefine it and it also gets to override what the `total()` of the account is.  We have *reused* and *refined* previous functionality. \n",
    "\n",
    "We can also *extend* the functionality by adding a method that is not in the superclass."
   ]
  },
  {
   "cell_type": "code",
   "execution_count": 61,
   "metadata": {},
   "outputs": [],
   "source": [
    "class InterestingAccount(Account): # derive from super class to get subclass\n",
    "    def __init__(self, starting, rate):\n",
    "        self.balance = starting\n",
    "        self.rate = rate\n",
    "\n",
    "    def total(self): # OVERRIDE method\n",
    "        return self.balance + self.balance * self.rate\n",
    "    \n",
    "    def profit(self):\n",
    "        return self.balance * self.rate"
   ]
  },
  {
   "cell_type": "code",
   "execution_count": 62,
   "metadata": {},
   "outputs": [
    {
     "data": {
      "text/plain": [
       "17.25"
      ]
     },
     "execution_count": 62,
     "metadata": {},
     "output_type": "execute_result"
    }
   ],
   "source": [
    "b = InterestingAccount(100.0, 0.15)\n",
    "b.add(15)\n",
    "b.profit()"
   ]
  },
  {
   "cell_type": "code",
   "execution_count": 63,
   "metadata": {},
   "outputs": [
    {
     "name": "stdout",
     "output_type": "stream",
     "text": [
      "<class '__main__.Account'>\n",
      "<class '__main__.InterestingAccount'>\n"
     ]
    }
   ],
   "source": [
    "a = Account(100.0)\n",
    "b = InterestingAccount(100.0, 0.15)\n",
    "print(type(a))\n",
    "print(type(b))"
   ]
  },
  {
   "cell_type": "code",
   "execution_count": 64,
   "metadata": {},
   "outputs": [
    {
     "name": "stdout",
     "output_type": "stream",
     "text": [
      "<class '__main__.InterestingAccount'>\n",
      "<class '__main__.Account'>\n"
     ]
    }
   ],
   "source": [
    "print(b.__class__)\n",
    "print(b.__class__.__base__)"
   ]
  },
  {
   "cell_type": "markdown",
   "metadata": {
    "code_folding": []
   },
   "source": [
    "## Exercise"
   ]
  },
  {
   "cell_type": "markdown",
   "metadata": {},
   "source": [
    "Define a `Point3D` that inherits from `Point`. \n",
    "\n",
    "Define constructor that takes x,y,z values and sets fields. Call `super().__init__(x,y)` to call constructor of superclass.\n",
    "\n",
    "Define / override `distance(q)` so it works with 3D field values to return distance.\n",
    "\n",
    "Test with\n",
    "\n",
    "```\n",
    "p = Point3D(3,4,9)\n",
    "q = Point3D(5,6,10)\n",
    "print(p.distance(q))\n",
    "```\n",
    "\n",
    "Add method `__str__` so that `print(q)` prints something nice like `(3,4,5)`.  Recall:\n",
    "\n",
    "\n",
    "$dist(x,y) = \\sqrt{(x_1-y_1)^2 + (x_2-y_2)^2 + (x_3-y_3)^2)}$\n"
   ]
  },
  {
   "cell_type": "markdown",
   "metadata": {},
   "source": [
    "# A simple set implementation"
   ]
  },
  {
   "cell_type": "code",
   "execution_count": 65,
   "metadata": {},
   "outputs": [],
   "source": [
    "class MySet:\n",
    "    def __init__(self):\n",
    "        self.elements = []\n",
    "    def add(self, x):\n",
    "        if x not in self.elements:\n",
    "            self.elements.append(x)"
   ]
  },
  {
   "cell_type": "code",
   "execution_count": 73,
   "metadata": {},
   "outputs": [
    {
     "data": {
      "text/plain": [
       "[3, 2, 'cat']"
      ]
     },
     "execution_count": 73,
     "metadata": {},
     "output_type": "execute_result"
    }
   ],
   "source": [
    "s = MySet()\n",
    "s.add(3)  # same as MySet.add(a,3)\n",
    "s.add(3)\n",
    "s.add(2)\n",
    "s.add('cat')\n",
    "s.elements"
   ]
  },
  {
   "cell_type": "code",
   "execution_count": 74,
   "metadata": {},
   "outputs": [
    {
     "data": {
      "image/svg+xml": [
       "<?xml version=\"1.0\" encoding=\"UTF-8\" standalone=\"no\"?>\n",
       "<!DOCTYPE svg PUBLIC \"-//W3C//DTD SVG 1.1//EN\"\n",
       " \"http://www.w3.org/Graphics/SVG/1.1/DTD/svg11.dtd\">\n",
       "<!-- Generated by graphviz version 2.40.1 (20161225.0304)\n",
       " -->\n",
       "<!-- Title: G Pages: 1 -->\n",
       "<svg width=\"145pt\" height=\"47pt\"\n",
       " viewBox=\"0.00 0.00 145.00 47.00\" xmlns=\"http://www.w3.org/2000/svg\" xmlns:xlink=\"http://www.w3.org/1999/xlink\">\n",
       "<g id=\"graph0\" class=\"graph\" transform=\"scale(1 1) rotate(0) translate(4 43)\">\n",
       "<title>G</title>\n",
       "<polygon fill=\"#ffffff\" stroke=\"transparent\" points=\"-4,4 -4,-43 141,-43 141,4 -4,4\"/>\n",
       "<!-- node4618426856 -->\n",
       "<g id=\"node1\" class=\"node\">\n",
       "<title>node4618426856</title>\n",
       "<polygon fill=\"#fefecd\" stroke=\"#444443\" stroke-width=\".5\" points=\"67,-39 0,-39 0,-7 67,-7 67,-39\"/>\n",
       "<polygon fill=\"#fefecd\" stroke=\"transparent\" points=\"2.5,-24 2.5,-37 65.5,-37 65.5,-24 2.5,-24\"/>\n",
       "<polyline fill=\"none\" stroke=\"#444443\" points=\"2.5,-24 65.5,-24 \"/>\n",
       "<text text-anchor=\"start\" x=\"20.2581\" y=\"-27.2\" font-family=\"Times,serif\" font-style=\"italic\" font-size=\"11.00\" fill=\"#444443\">MySet</text>\n",
       "<polygon fill=\"#fefecd\" stroke=\"transparent\" points=\"2.5,-22 2.5,-24 65.5,-24 65.5,-22 2.5,-22\"/>\n",
       "<polygon fill=\"#fefecd\" stroke=\"transparent\" points=\"2.5,-9 2.5,-22 51.5,-22 51.5,-9 2.5,-9\"/>\n",
       "<polyline fill=\"none\" stroke=\"#444443\" points=\"51.5,-9 51.5,-22 \"/>\n",
       "<text text-anchor=\"start\" x=\"3.155\" y=\"-12.2\" font-family=\"Helvetica,sans-Serif\" font-size=\"11.00\" fill=\"#444443\">elements </text>\n",
       "<polygon fill=\"#fefecd\" stroke=\"transparent\" points=\"51.5,-9 51.5,-22 65.5,-22 65.5,-9 51.5,-9\"/>\n",
       "<text text-anchor=\"start\" x=\"52.3877\" y=\"-12.2\" font-family=\"Helvetica,sans-Serif\" font-size=\"11.00\" fill=\"#444443\"> &#160;&#160;&#160;</text>\n",
       "</g>\n",
       "<!-- node4484331656 -->\n",
       "<g id=\"node2\" class=\"node\">\n",
       "<title>node4484331656</title>\n",
       "<polygon fill=\"none\" stroke=\"#000000\" stroke-width=\".5\" points=\"137,-30 89,-30 89,0 137,0 137,-30\"/>\n",
       "<polygon fill=\"#fefecd\" stroke=\"transparent\" points=\"90,-18 90,-29 102,-29 102,-18 90,-18\"/>\n",
       "<polyline fill=\"none\" stroke=\"#000000\" points=\"90,-18 102,-18 102,-29 \"/>\n",
       "<text text-anchor=\"start\" x=\"93.4973\" y=\"-20.8\" font-family=\"Helvetica,sans-Serif\" font-size=\"9.00\" fill=\"#444443\">0</text>\n",
       "<polygon fill=\"#fefecd\" stroke=\"transparent\" points=\"102,-18 102,-29 114,-29 114,-18 102,-18\"/>\n",
       "<polyline fill=\"none\" stroke=\"#000000\" points=\"102,-18 114,-18 114,-29 \"/>\n",
       "<text text-anchor=\"start\" x=\"105.4973\" y=\"-20.8\" font-family=\"Helvetica,sans-Serif\" font-size=\"9.00\" fill=\"#444443\">1</text>\n",
       "<polygon fill=\"#fefecd\" stroke=\"transparent\" points=\"114,-18 114,-29 136,-29 136,-18 114,-18\"/>\n",
       "<polyline fill=\"none\" stroke=\"#000000\" points=\"114,-18 136,-18 \"/>\n",
       "<text text-anchor=\"start\" x=\"122.4973\" y=\"-20.8\" font-family=\"Helvetica,sans-Serif\" font-size=\"9.00\" fill=\"#444443\">2</text>\n",
       "<polygon fill=\"#fefecd\" stroke=\"transparent\" points=\"90,-1 90,-18 102,-18 102,-1 90,-1\"/>\n",
       "<polyline fill=\"none\" stroke=\"#000000\" points=\"102,-1 102,-18 \"/>\n",
       "<text text-anchor=\"start\" x=\"92.9412\" y=\"-6.2\" font-family=\"Helvetica,sans-Serif\" font-size=\"11.00\" fill=\"#444443\">3</text>\n",
       "<polygon fill=\"#fefecd\" stroke=\"transparent\" points=\"102,-1 102,-18 114,-18 114,-1 102,-1\"/>\n",
       "<polyline fill=\"none\" stroke=\"#000000\" points=\"114,-1 114,-18 \"/>\n",
       "<text text-anchor=\"start\" x=\"104.9412\" y=\"-6.2\" font-family=\"Helvetica,sans-Serif\" font-size=\"11.00\" fill=\"#444443\">2</text>\n",
       "<polygon fill=\"#fefecd\" stroke=\"transparent\" points=\"114,-1 114,-18 136,-18 136,-1 114,-1\"/>\n",
       "<text text-anchor=\"start\" x=\"115.563\" y=\"-6.2\" font-family=\"Helvetica,sans-Serif\" font-size=\"11.00\" fill=\"#444443\">&#39;cat&#39;</text>\n",
       "</g>\n",
       "<!-- node4618426856&#45;&gt;node4484331656 -->\n",
       "<g id=\"edge1\" class=\"edge\">\n",
       "<title>node4618426856:c&#45;&gt;node4484331656</title>\n",
       "<path fill=\"none\" stroke=\"#444443\" stroke-width=\".5\" d=\"M61.8784,-15C66.5466,-15 75.4249,-15 84.4896,-15\"/>\n",
       "<ellipse fill=\"#444443\" stroke=\"#444443\" stroke-width=\".5\" cx=\"60.1\" cy=\"-15\" rx=\"1.6\" ry=\"1.6\"/>\n",
       "<polygon fill=\"#444443\" stroke=\"#444443\" stroke-width=\".5\" points=\"84.9369,-16.4001 88.9369,-15 84.9368,-13.6001 84.9369,-16.4001\"/>\n",
       "</g>\n",
       "</g>\n",
       "</svg>\n"
      ],
      "text/plain": [
       "<graphviz.files.Source at 0x1134794a8>"
      ]
     },
     "execution_count": 74,
     "metadata": {},
     "output_type": "execute_result"
    }
   ],
   "source": [
    "objviz(s)"
   ]
  },
  {
   "cell_type": "markdown",
   "metadata": {},
   "source": [
    "# Linked lists -- the gateway drug"
   ]
  },
  {
   "cell_type": "code",
   "execution_count": 78,
   "metadata": {},
   "outputs": [],
   "source": [
    "class LLNode:\n",
    "    def __init__(self, value, next=None):\n",
    "        self.value = value\n",
    "        self.next = next"
   ]
  },
  {
   "cell_type": "code",
   "execution_count": 79,
   "metadata": {
    "scrolled": true
   },
   "outputs": [
    {
     "data": {
      "image/svg+xml": [
       "<?xml version=\"1.0\" encoding=\"UTF-8\" standalone=\"no\"?>\n",
       "<!DOCTYPE svg PUBLIC \"-//W3C//DTD SVG 1.1//EN\"\n",
       " \"http://www.w3.org/Graphics/SVG/1.1/DTD/svg11.dtd\">\n",
       "<!-- Generated by graphviz version 2.40.1 (20161225.0304)\n",
       " -->\n",
       "<!-- Title: G Pages: 1 -->\n",
       "<svg width=\"285pt\" height=\"88pt\"\n",
       " viewBox=\"0.00 0.00 285.00 88.00\" xmlns=\"http://www.w3.org/2000/svg\" xmlns:xlink=\"http://www.w3.org/1999/xlink\">\n",
       "<g id=\"graph0\" class=\"graph\" transform=\"scale(1 1) rotate(0) translate(4 84)\">\n",
       "<title>G</title>\n",
       "<polygon fill=\"#ffffff\" stroke=\"transparent\" points=\"-4,4 -4,-84 281,-84 281,4 -4,4\"/>\n",
       "<g id=\"clust1\" class=\"cluster\">\n",
       "<title>cluster1</title>\n",
       "</g>\n",
       "<!-- node4618511248 -->\n",
       "<g id=\"node1\" class=\"node\">\n",
       "<title>node4618511248</title>\n",
       "<polygon fill=\"#fefecd\" stroke=\"#444443\" stroke-width=\".5\" points=\"261,-63.5 187,-63.5 187,-16.5 261,-16.5 261,-63.5\"/>\n",
       "<polygon fill=\"#fefecd\" stroke=\"transparent\" points=\"189,-48 189,-61 259,-61 259,-48 189,-48\"/>\n",
       "<polyline fill=\"none\" stroke=\"#444443\" points=\"189,-48 259,-48 \"/>\n",
       "<text text-anchor=\"start\" x=\"206.2727\" y=\"-51.2\" font-family=\"Times,serif\" font-style=\"italic\" font-size=\"11.00\" fill=\"#444443\">LLNode</text>\n",
       "<polygon fill=\"#fefecd\" stroke=\"transparent\" points=\"189,-46 189,-48 259,-48 259,-46 189,-46\"/>\n",
       "<polygon fill=\"#fefecd\" stroke=\"transparent\" points=\"189,-33 189,-46 220,-46 220,-33 189,-33\"/>\n",
       "<polyline fill=\"none\" stroke=\"#444443\" points=\"220,-33 220,-46 \"/>\n",
       "<text text-anchor=\"start\" x=\"189.8235\" y=\"-36.2\" font-family=\"Helvetica,sans-Serif\" font-size=\"11.00\" fill=\"#444443\">value </text>\n",
       "<polygon fill=\"#fefecd\" stroke=\"transparent\" points=\"220,-33 220,-46 259,-46 259,-33 220,-33\"/>\n",
       "<text text-anchor=\"start\" x=\"220.5857\" y=\"-36.2\" font-family=\"Helvetica,sans-Serif\" font-size=\"11.00\" fill=\"#444443\"> &#39;tombu&#39;</text>\n",
       "<polygon fill=\"#fefecd\" stroke=\"transparent\" points=\"189,-31 189,-33 259,-33 259,-31 189,-31\"/>\n",
       "<polygon fill=\"#fefecd\" stroke=\"transparent\" points=\"189,-18 189,-31 220,-31 220,-18 189,-18\"/>\n",
       "<polyline fill=\"none\" stroke=\"#444443\" points=\"220,-18 220,-31 \"/>\n",
       "<text text-anchor=\"start\" x=\"195.1523\" y=\"-21.2\" font-family=\"Helvetica,sans-Serif\" font-size=\"11.00\" fill=\"#444443\">next </text>\n",
       "<polygon fill=\"#fefecd\" stroke=\"transparent\" points=\"220,-18 220,-31 259,-31 259,-18 220,-18\"/>\n",
       "<text text-anchor=\"start\" x=\"221\" y=\"-21.2\" font-family=\"Helvetica,sans-Serif\" font-size=\"11.00\" fill=\"#444443\"> &#160;&#160;&#160;</text>\n",
       "</g>\n",
       "<!-- node4618426968 -->\n",
       "<g id=\"node2\" class=\"node\">\n",
       "<title>node4618426968</title>\n",
       "<polygon fill=\"#fefecd\" stroke=\"#444443\" stroke-width=\".5\" points=\"77,-63.5 16,-63.5 16,-16.5 77,-16.5 77,-63.5\"/>\n",
       "<polygon fill=\"#fefecd\" stroke=\"transparent\" points=\"18.5,-48 18.5,-61 75.5,-61 75.5,-48 18.5,-48\"/>\n",
       "<polyline fill=\"none\" stroke=\"#444443\" points=\"18.5,-48 75.5,-48 \"/>\n",
       "<text text-anchor=\"start\" x=\"29.2727\" y=\"-51.2\" font-family=\"Times,serif\" font-style=\"italic\" font-size=\"11.00\" fill=\"#444443\">LLNode</text>\n",
       "<polygon fill=\"#fefecd\" stroke=\"transparent\" points=\"18.5,-46 18.5,-48 75.5,-48 75.5,-46 18.5,-46\"/>\n",
       "<polygon fill=\"#fefecd\" stroke=\"transparent\" points=\"18.5,-33 18.5,-46 49.5,-46 49.5,-33 18.5,-33\"/>\n",
       "<polyline fill=\"none\" stroke=\"#444443\" points=\"49.5,-33 49.5,-46 \"/>\n",
       "<text text-anchor=\"start\" x=\"19.3235\" y=\"-36.2\" font-family=\"Helvetica,sans-Serif\" font-size=\"11.00\" fill=\"#444443\">value </text>\n",
       "<polygon fill=\"#fefecd\" stroke=\"transparent\" points=\"49.5,-33 49.5,-46 75.5,-46 75.5,-33 49.5,-33\"/>\n",
       "<text text-anchor=\"start\" x=\"50.0042\" y=\"-36.2\" font-family=\"Helvetica,sans-Serif\" font-size=\"11.00\" fill=\"#444443\"> &#39;xue&#39;</text>\n",
       "<polygon fill=\"#fefecd\" stroke=\"transparent\" points=\"18.5,-31 18.5,-33 75.5,-33 75.5,-31 18.5,-31\"/>\n",
       "<polygon fill=\"#fefecd\" stroke=\"transparent\" points=\"18.5,-18 18.5,-31 49.5,-31 49.5,-18 18.5,-18\"/>\n",
       "<polyline fill=\"none\" stroke=\"#444443\" points=\"49.5,-18 49.5,-31 \"/>\n",
       "<text text-anchor=\"start\" x=\"24.6523\" y=\"-21.2\" font-family=\"Helvetica,sans-Serif\" font-size=\"11.00\" fill=\"#444443\">next </text>\n",
       "<polygon fill=\"#fefecd\" stroke=\"transparent\" points=\"49.5,-18 49.5,-31 75.5,-31 75.5,-18 49.5,-18\"/>\n",
       "<text text-anchor=\"start\" x=\"50.5\" y=\"-21.2\" font-family=\"Helvetica,sans-Serif\" font-size=\"11.00\" fill=\"#444443\"> &#160;&#160;&#160;</text>\n",
       "</g>\n",
       "<!-- node4618426744 -->\n",
       "<g id=\"node3\" class=\"node\">\n",
       "<title>node4618426744</title>\n",
       "<polygon fill=\"#fefecd\" stroke=\"#444443\" stroke-width=\".5\" points=\"165,-63.5 99,-63.5 99,-16.5 165,-16.5 165,-63.5\"/>\n",
       "<polygon fill=\"#fefecd\" stroke=\"transparent\" points=\"101,-48 101,-61 163,-61 163,-48 101,-48\"/>\n",
       "<polyline fill=\"none\" stroke=\"#444443\" points=\"101,-48 163,-48 \"/>\n",
       "<text text-anchor=\"start\" x=\"114.2727\" y=\"-51.2\" font-family=\"Times,serif\" font-style=\"italic\" font-size=\"11.00\" fill=\"#444443\">LLNode</text>\n",
       "<polygon fill=\"#fefecd\" stroke=\"transparent\" points=\"101,-46 101,-48 163,-48 163,-46 101,-46\"/>\n",
       "<polygon fill=\"#fefecd\" stroke=\"transparent\" points=\"101,-33 101,-46 132,-46 132,-33 101,-33\"/>\n",
       "<polyline fill=\"none\" stroke=\"#444443\" points=\"132,-33 132,-46 \"/>\n",
       "<text text-anchor=\"start\" x=\"101.8235\" y=\"-36.2\" font-family=\"Helvetica,sans-Serif\" font-size=\"11.00\" fill=\"#444443\">value </text>\n",
       "<polygon fill=\"#fefecd\" stroke=\"transparent\" points=\"132,-33 132,-46 163,-46 163,-33 132,-33\"/>\n",
       "<text text-anchor=\"start\" x=\"132.563\" y=\"-36.2\" font-family=\"Helvetica,sans-Serif\" font-size=\"11.00\" fill=\"#444443\"> &#39;parrt&#39;</text>\n",
       "<polygon fill=\"#fefecd\" stroke=\"transparent\" points=\"101,-31 101,-33 163,-33 163,-31 101,-31\"/>\n",
       "<polygon fill=\"#fefecd\" stroke=\"transparent\" points=\"101,-18 101,-31 132,-31 132,-18 101,-18\"/>\n",
       "<polyline fill=\"none\" stroke=\"#444443\" points=\"132,-18 132,-31 \"/>\n",
       "<text text-anchor=\"start\" x=\"107.1523\" y=\"-21.2\" font-family=\"Helvetica,sans-Serif\" font-size=\"11.00\" fill=\"#444443\">next </text>\n",
       "<polygon fill=\"#fefecd\" stroke=\"transparent\" points=\"132,-18 132,-31 163,-31 163,-18 132,-18\"/>\n",
       "<text text-anchor=\"start\" x=\"133\" y=\"-21.2\" font-family=\"Helvetica,sans-Serif\" font-size=\"11.00\" fill=\"#444443\"> &#160;&#160;&#160;</text>\n",
       "</g>\n",
       "<!-- node4618426968&#45;&gt;node4618426744 -->\n",
       "<g id=\"edge1\" class=\"edge\">\n",
       "<title>node4618426968:c&#45;&gt;node4618426744</title>\n",
       "<path fill=\"none\" stroke=\"#444443\" stroke-width=\".5\" d=\"M65.6669,-24.7291C71.0898,-25.9775 82.7396,-28.6595 94.7862,-31.4328\"/>\n",
       "<ellipse fill=\"#444443\" stroke=\"#444443\" stroke-width=\".5\" cx=\"64.0592\" cy=\"-24.359\" rx=\"1.6\" ry=\"1.6\"/>\n",
       "<polygon fill=\"#444443\" stroke=\"#444443\" stroke-width=\".5\" points=\"94.6662,-32.8417 98.8784,-32.3749 95.2944,-30.1131 94.6662,-32.8417\"/>\n",
       "</g>\n",
       "<!-- node4618426744&#45;&gt;node4618511248 -->\n",
       "<g id=\"edge2\" class=\"edge\">\n",
       "<title>node4618426744:c&#45;&gt;node4618511248</title>\n",
       "<path fill=\"none\" stroke=\"#444443\" stroke-width=\".5\" d=\"M151.3637,-24.7081C157.1785,-25.9323 169.7485,-28.5786 182.8235,-31.3313\"/>\n",
       "<ellipse fill=\"#444443\" stroke=\"#444443\" stroke-width=\".5\" cx=\"149.5657\" cy=\"-24.3297\" rx=\"1.6\" ry=\"1.6\"/>\n",
       "<polygon fill=\"#444443\" stroke=\"#444443\" stroke-width=\".5\" points=\"182.6879,-32.7333 186.8906,-32.1875 183.2648,-29.9934 182.6879,-32.7333\"/>\n",
       "</g>\n",
       "</g>\n",
       "</svg>\n"
      ],
      "text/plain": [
       "<graphviz.files.Source at 0x1134799b0>"
      ]
     },
     "execution_count": 79,
     "metadata": {},
     "output_type": "execute_result"
    }
   ],
   "source": [
    "head = LLNode('tombu')\n",
    "head = LLNode('parrt', head)\n",
    "head = LLNode(\"xue\", head)\n",
    "objviz(head)"
   ]
  },
  {
   "cell_type": "markdown",
   "metadata": {},
   "source": [
    "# Binary trees"
   ]
  },
  {
   "cell_type": "code",
   "execution_count": 91,
   "metadata": {},
   "outputs": [],
   "source": [
    "class Tree:\n",
    "    def __init__(self, value, left=None, right=None):\n",
    "        self.value = value\n",
    "        self.left = left\n",
    "        self.right = right       "
   ]
  },
  {
   "cell_type": "code",
   "execution_count": 85,
   "metadata": {
    "scrolled": true
   },
   "outputs": [
    {
     "data": {
      "image/svg+xml": [
       "<?xml version=\"1.0\" encoding=\"UTF-8\" standalone=\"no\"?>\n",
       "<!DOCTYPE svg PUBLIC \"-//W3C//DTD SVG 1.1//EN\"\n",
       " \"http://www.w3.org/Graphics/SVG/1.1/DTD/svg11.dtd\">\n",
       "<!-- Generated by graphviz version 2.40.1 (20161225.0304)\n",
       " -->\n",
       "<!-- Title: G Pages: 1 -->\n",
       "<svg width=\"149pt\" height=\"136pt\"\n",
       " viewBox=\"0.00 0.00 148.50 136.00\" xmlns=\"http://www.w3.org/2000/svg\" xmlns:xlink=\"http://www.w3.org/1999/xlink\">\n",
       "<g id=\"graph0\" class=\"graph\" transform=\"scale(1 1) rotate(0) translate(4 132)\">\n",
       "<title>G</title>\n",
       "<polygon fill=\"#ffffff\" stroke=\"transparent\" points=\"-4,4 -4,-132 144.5,-132 144.5,4 -4,4\"/>\n",
       "<!-- node4618512760 -->\n",
       "<g id=\"node1\" class=\"node\">\n",
       "<title>node4618512760</title>\n",
       "<polygon fill=\"#fefecd\" stroke=\"#444443\" stroke-width=\".5\" points=\"104,-128 38,-128 38,-75 104,-75 104,-128\"/>\n",
       "<polygon fill=\"#fefecd\" stroke=\"transparent\" points=\"40,-112.5 40,-125.5 102,-125.5 102,-112.5 40,-112.5\"/>\n",
       "<polyline fill=\"none\" stroke=\"#444443\" points=\"40,-112.5 102,-112.5 \"/>\n",
       "<text text-anchor=\"start\" x=\"61.4207\" y=\"-115.7\" font-family=\"Times,serif\" font-style=\"italic\" font-size=\"11.00\" fill=\"#444443\">Tree</text>\n",
       "<polygon fill=\"#fefecd\" stroke=\"transparent\" points=\"40,-110.5 40,-112.5 102,-112.5 102,-110.5 40,-110.5\"/>\n",
       "<polygon fill=\"#fefecd\" stroke=\"transparent\" points=\"40,-97.5 40,-110.5 71,-110.5 71,-97.5 40,-97.5\"/>\n",
       "<polyline fill=\"none\" stroke=\"#444443\" points=\"71,-97.5 71,-110.5 \"/>\n",
       "<text text-anchor=\"start\" x=\"40.8235\" y=\"-100.7\" font-family=\"Helvetica,sans-Serif\" font-size=\"11.00\" fill=\"#444443\">value </text>\n",
       "<polygon fill=\"#fefecd\" stroke=\"transparent\" points=\"71,-97.5 71,-110.5 102,-110.5 102,-97.5 71,-97.5\"/>\n",
       "<text text-anchor=\"start\" x=\"71.563\" y=\"-100.7\" font-family=\"Helvetica,sans-Serif\" font-size=\"11.00\" fill=\"#444443\"> &#39;parrt&#39;</text>\n",
       "<polyline fill=\"none\" stroke=\"#444443\" points=\"40,-94.5 102,-94.5 \"/>\n",
       "<polygon fill=\"#fefecd\" stroke=\"transparent\" points=\"40,-92.5 40,-94.5 102,-94.5 102,-92.5 40,-92.5\"/>\n",
       "<polygon fill=\"#fefecd\" stroke=\"transparent\" points=\"40,-84.5 40,-92.5 71,-92.5 71,-84.5 40,-84.5\"/>\n",
       "<polyline fill=\"none\" stroke=\"#444443\" points=\"71,-84.5 71,-92.5 \"/>\n",
       "<text text-anchor=\"start\" x=\"41\" y=\"-86.7\" font-family=\"Helvetica,sans-Serif\" font-size=\"6.00\" fill=\"#444443\">left</text>\n",
       "<polygon fill=\"#fefecd\" stroke=\"transparent\" points=\"71,-84.5 71,-92.5 71,-92.5 71,-84.5 71,-84.5\"/>\n",
       "<polygon fill=\"#fefecd\" stroke=\"transparent\" points=\"71,-84.5 71,-92.5 102,-92.5 102,-84.5 71,-84.5\"/>\n",
       "<text text-anchor=\"start\" x=\"89.3281\" y=\"-86.7\" font-family=\"Helvetica,sans-Serif\" font-size=\"6.00\" fill=\"#444443\">right</text>\n",
       "<polygon fill=\"#fefecd\" stroke=\"transparent\" points=\"40,-81.5 40,-84.5 71,-84.5 71,-81.5 40,-81.5\"/>\n",
       "<polyline fill=\"none\" stroke=\"#444443\" points=\"71,-81.5 71,-84.5 \"/>\n",
       "<text text-anchor=\"start\" x=\"55.3611\" y=\"-82.7\" font-family=\"Helvetica,sans-Serif\" font-size=\"1.00\" fill=\"#444443\"> </text>\n",
       "<polygon fill=\"#fefecd\" stroke=\"transparent\" points=\"71,-81.5 71,-84.5 71,-84.5 71,-81.5 71,-81.5\"/>\n",
       "<polygon fill=\"#fefecd\" stroke=\"transparent\" points=\"71,-81.5 71,-84.5 102,-84.5 102,-81.5 71,-81.5\"/>\n",
       "<text text-anchor=\"start\" x=\"86.3611\" y=\"-82.7\" font-family=\"Helvetica,sans-Serif\" font-size=\"1.00\" fill=\"#444443\"> </text>\n",
       "<polygon fill=\"#fefecd\" stroke=\"transparent\" points=\"40,-76.5 40,-81.5 71,-81.5 71,-76.5 40,-76.5\"/>\n",
       "<polyline fill=\"none\" stroke=\"#444443\" points=\"71,-76.5 71,-81.5 \"/>\n",
       "<text text-anchor=\"start\" x=\"55.0833\" y=\"-78.1\" font-family=\"Helvetica,sans-Serif\" font-size=\"3.00\" fill=\"#444443\"> </text>\n",
       "<polygon fill=\"#fefecd\" stroke=\"transparent\" points=\"71,-76.5 71,-81.5 71,-81.5 71,-76.5 71,-76.5\"/>\n",
       "<polygon fill=\"#fefecd\" stroke=\"transparent\" points=\"71,-76.5 71,-81.5 102,-81.5 102,-76.5 71,-76.5\"/>\n",
       "<text text-anchor=\"start\" x=\"86.0833\" y=\"-78.1\" font-family=\"Helvetica,sans-Serif\" font-size=\"3.00\" fill=\"#444443\"> </text>\n",
       "</g>\n",
       "<!-- node4618427864 -->\n",
       "<g id=\"node2\" class=\"node\">\n",
       "<title>node4618427864</title>\n",
       "<polygon fill=\"#fefecd\" stroke=\"#444443\" stroke-width=\".5\" points=\"68,-53 0,-53 0,0 68,0 68,-53\"/>\n",
       "<polygon fill=\"#fefecd\" stroke=\"transparent\" points=\"2,-37.5 2,-50.5 66,-50.5 66,-37.5 2,-37.5\"/>\n",
       "<polyline fill=\"none\" stroke=\"#444443\" points=\"2,-37.5 66,-37.5 \"/>\n",
       "<text text-anchor=\"start\" x=\"24.4207\" y=\"-40.7\" font-family=\"Times,serif\" font-style=\"italic\" font-size=\"11.00\" fill=\"#444443\">Tree</text>\n",
       "<polygon fill=\"#fefecd\" stroke=\"transparent\" points=\"2,-35.5 2,-37.5 66,-37.5 66,-35.5 2,-35.5\"/>\n",
       "<polygon fill=\"#fefecd\" stroke=\"transparent\" points=\"2,-22.5 2,-35.5 33,-35.5 33,-22.5 2,-22.5\"/>\n",
       "<polyline fill=\"none\" stroke=\"#444443\" points=\"33,-22.5 33,-35.5 \"/>\n",
       "<text text-anchor=\"start\" x=\"2.8235\" y=\"-25.7\" font-family=\"Helvetica,sans-Serif\" font-size=\"11.00\" fill=\"#444443\">value </text>\n",
       "<polygon fill=\"#fefecd\" stroke=\"transparent\" points=\"33,-22.5 33,-35.5 66,-35.5 66,-22.5 33,-22.5\"/>\n",
       "<text text-anchor=\"start\" x=\"33.6499\" y=\"-25.7\" font-family=\"Helvetica,sans-Serif\" font-size=\"11.00\" fill=\"#444443\"> &#39;mary&#39;</text>\n",
       "<polyline fill=\"none\" stroke=\"#444443\" points=\"2,-19.5 66,-19.5 \"/>\n",
       "<polygon fill=\"#fefecd\" stroke=\"transparent\" points=\"2,-17.5 2,-19.5 66,-19.5 66,-17.5 2,-17.5\"/>\n",
       "<polygon fill=\"#fefecd\" stroke=\"transparent\" points=\"2,-9.5 2,-17.5 33,-17.5 33,-9.5 2,-9.5\"/>\n",
       "<polyline fill=\"none\" stroke=\"#444443\" points=\"33,-9.5 33,-17.5 \"/>\n",
       "<text text-anchor=\"start\" x=\"3\" y=\"-11.7\" font-family=\"Helvetica,sans-Serif\" font-size=\"6.00\" fill=\"#444443\">left</text>\n",
       "<polygon fill=\"#fefecd\" stroke=\"transparent\" points=\"33,-9.5 33,-17.5 33,-17.5 33,-9.5 33,-9.5\"/>\n",
       "<polygon fill=\"#fefecd\" stroke=\"transparent\" points=\"33,-9.5 33,-17.5 66,-17.5 66,-9.5 33,-9.5\"/>\n",
       "<text text-anchor=\"start\" x=\"53.3281\" y=\"-11.7\" font-family=\"Helvetica,sans-Serif\" font-size=\"6.00\" fill=\"#444443\">right</text>\n",
       "<polygon fill=\"#fefecd\" stroke=\"transparent\" points=\"2,-6.5 2,-9.5 33,-9.5 33,-6.5 2,-6.5\"/>\n",
       "<polyline fill=\"none\" stroke=\"#444443\" points=\"33,-6.5 33,-9.5 \"/>\n",
       "<text text-anchor=\"start\" x=\"17.3611\" y=\"-7.7\" font-family=\"Helvetica,sans-Serif\" font-size=\"1.00\" fill=\"#444443\"> </text>\n",
       "<polygon fill=\"#fefecd\" stroke=\"transparent\" points=\"33,-6.5 33,-9.5 33,-9.5 33,-6.5 33,-6.5\"/>\n",
       "<polygon fill=\"#fefecd\" stroke=\"transparent\" points=\"33,-6.5 33,-9.5 66,-9.5 66,-6.5 33,-6.5\"/>\n",
       "<text text-anchor=\"start\" x=\"49.3611\" y=\"-7.7\" font-family=\"Helvetica,sans-Serif\" font-size=\"1.00\" fill=\"#444443\"> </text>\n",
       "<polygon fill=\"#fefecd\" stroke=\"transparent\" points=\"2,-1.5 2,-6.5 33,-6.5 33,-1.5 2,-1.5\"/>\n",
       "<polyline fill=\"none\" stroke=\"#444443\" points=\"33,-1.5 33,-6.5 \"/>\n",
       "<text text-anchor=\"start\" x=\"17.0833\" y=\"-3.1\" font-family=\"Helvetica,sans-Serif\" font-size=\"3.00\" fill=\"#444443\"> </text>\n",
       "<polygon fill=\"#fefecd\" stroke=\"transparent\" points=\"33,-1.5 33,-6.5 33,-6.5 33,-1.5 33,-1.5\"/>\n",
       "<polygon fill=\"#fefecd\" stroke=\"transparent\" points=\"33,-1.5 33,-6.5 66,-6.5 66,-1.5 33,-1.5\"/>\n",
       "<text text-anchor=\"start\" x=\"49.0833\" y=\"-3.1\" font-family=\"Helvetica,sans-Serif\" font-size=\"3.00\" fill=\"#444443\"> </text>\n",
       "</g>\n",
       "<!-- node4618512760&#45;&gt;node4618427864 -->\n",
       "<g id=\"edge1\" class=\"edge\">\n",
       "<title>node4618512760:c&#45;&gt;node4618427864</title>\n",
       "<path fill=\"none\" stroke=\"#444443\" stroke-width=\".5\" d=\"M53.8032,-79.3084C52.1145,-74.8052 48.858,-66.1212 45.4659,-57.0756\"/>\n",
       "<ellipse fill=\"#444443\" stroke=\"#444443\" stroke-width=\".5\" cx=\"54.4382\" cy=\"-81.0019\" rx=\"1.6\" ry=\"1.6\"/>\n",
       "<polygon fill=\"#444443\" stroke=\"#444443\" stroke-width=\".5\" points=\"46.7234,-56.4417 44.008,-53.1879 44.1017,-57.4248 46.7234,-56.4417\"/>\n",
       "</g>\n",
       "<!-- node4618428200 -->\n",
       "<g id=\"node3\" class=\"node\">\n",
       "<title>node4618428200</title>\n",
       "<polygon fill=\"#fefecd\" stroke=\"#444443\" stroke-width=\".5\" points=\"140.5,-53 75.5,-53 75.5,0 140.5,0 140.5,-53\"/>\n",
       "<polygon fill=\"#fefecd\" stroke=\"transparent\" points=\"78,-37.5 78,-50.5 139,-50.5 139,-37.5 78,-37.5\"/>\n",
       "<polyline fill=\"none\" stroke=\"#444443\" points=\"78,-37.5 139,-37.5 \"/>\n",
       "<text text-anchor=\"start\" x=\"98.9207\" y=\"-40.7\" font-family=\"Times,serif\" font-style=\"italic\" font-size=\"11.00\" fill=\"#444443\">Tree</text>\n",
       "<polygon fill=\"#fefecd\" stroke=\"transparent\" points=\"78,-35.5 78,-37.5 139,-37.5 139,-35.5 78,-35.5\"/>\n",
       "<polygon fill=\"#fefecd\" stroke=\"transparent\" points=\"78,-22.5 78,-35.5 109,-35.5 109,-22.5 78,-22.5\"/>\n",
       "<polyline fill=\"none\" stroke=\"#444443\" points=\"109,-22.5 109,-35.5 \"/>\n",
       "<text text-anchor=\"start\" x=\"78.8235\" y=\"-25.7\" font-family=\"Helvetica,sans-Serif\" font-size=\"11.00\" fill=\"#444443\">value </text>\n",
       "<polygon fill=\"#fefecd\" stroke=\"transparent\" points=\"109,-22.5 109,-35.5 139,-35.5 139,-22.5 109,-22.5\"/>\n",
       "<text text-anchor=\"start\" x=\"109.9788\" y=\"-25.7\" font-family=\"Helvetica,sans-Serif\" font-size=\"11.00\" fill=\"#444443\"> &#39;april&#39;</text>\n",
       "<polyline fill=\"none\" stroke=\"#444443\" points=\"78,-19.5 139,-19.5 \"/>\n",
       "<polygon fill=\"#fefecd\" stroke=\"transparent\" points=\"78,-17.5 78,-19.5 139,-19.5 139,-17.5 78,-17.5\"/>\n",
       "<polygon fill=\"#fefecd\" stroke=\"transparent\" points=\"78,-9.5 78,-17.5 109,-17.5 109,-9.5 78,-9.5\"/>\n",
       "<polyline fill=\"none\" stroke=\"#444443\" points=\"109,-9.5 109,-17.5 \"/>\n",
       "<text text-anchor=\"start\" x=\"79\" y=\"-11.7\" font-family=\"Helvetica,sans-Serif\" font-size=\"6.00\" fill=\"#444443\">left</text>\n",
       "<polygon fill=\"#fefecd\" stroke=\"transparent\" points=\"109,-9.5 109,-17.5 109,-17.5 109,-9.5 109,-9.5\"/>\n",
       "<polygon fill=\"#fefecd\" stroke=\"transparent\" points=\"109,-9.5 109,-17.5 139,-17.5 139,-9.5 109,-9.5\"/>\n",
       "<text text-anchor=\"start\" x=\"126.3281\" y=\"-11.7\" font-family=\"Helvetica,sans-Serif\" font-size=\"6.00\" fill=\"#444443\">right</text>\n",
       "<polygon fill=\"#fefecd\" stroke=\"transparent\" points=\"78,-6.5 78,-9.5 109,-9.5 109,-6.5 78,-6.5\"/>\n",
       "<polyline fill=\"none\" stroke=\"#444443\" points=\"109,-6.5 109,-9.5 \"/>\n",
       "<text text-anchor=\"start\" x=\"93.3611\" y=\"-7.7\" font-family=\"Helvetica,sans-Serif\" font-size=\"1.00\" fill=\"#444443\"> </text>\n",
       "<polygon fill=\"#fefecd\" stroke=\"transparent\" points=\"109,-6.5 109,-9.5 109,-9.5 109,-6.5 109,-6.5\"/>\n",
       "<polygon fill=\"#fefecd\" stroke=\"transparent\" points=\"109,-6.5 109,-9.5 139,-9.5 139,-6.5 109,-6.5\"/>\n",
       "<text text-anchor=\"start\" x=\"123.8611\" y=\"-7.7\" font-family=\"Helvetica,sans-Serif\" font-size=\"1.00\" fill=\"#444443\"> </text>\n",
       "<polygon fill=\"#fefecd\" stroke=\"transparent\" points=\"78,-1.5 78,-6.5 109,-6.5 109,-1.5 78,-1.5\"/>\n",
       "<polyline fill=\"none\" stroke=\"#444443\" points=\"109,-1.5 109,-6.5 \"/>\n",
       "<text text-anchor=\"start\" x=\"93.0833\" y=\"-3.1\" font-family=\"Helvetica,sans-Serif\" font-size=\"3.00\" fill=\"#444443\"> </text>\n",
       "<polygon fill=\"#fefecd\" stroke=\"transparent\" points=\"109,-1.5 109,-6.5 109,-6.5 109,-1.5 109,-1.5\"/>\n",
       "<polygon fill=\"#fefecd\" stroke=\"transparent\" points=\"109,-1.5 109,-6.5 139,-6.5 139,-1.5 109,-1.5\"/>\n",
       "<text text-anchor=\"start\" x=\"123.5833\" y=\"-3.1\" font-family=\"Helvetica,sans-Serif\" font-size=\"3.00\" fill=\"#444443\"> </text>\n",
       "</g>\n",
       "<!-- node4618512760&#45;&gt;node4618428200 -->\n",
       "<g id=\"edge2\" class=\"edge\">\n",
       "<title>node4618512760:c&#45;&gt;node4618428200</title>\n",
       "<path fill=\"none\" stroke=\"#444443\" stroke-width=\".5\" d=\"M88.1968,-79.3084C89.8855,-74.8052 93.142,-66.1212 96.5341,-57.0756\"/>\n",
       "<ellipse fill=\"#444443\" stroke=\"#444443\" stroke-width=\".5\" cx=\"87.5618\" cy=\"-81.0019\" rx=\"1.6\" ry=\"1.6\"/>\n",
       "<polygon fill=\"#444443\" stroke=\"#444443\" stroke-width=\".5\" points=\"97.8983,-57.4248 97.992,-53.1879 95.2766,-56.4417 97.8983,-57.4248\"/>\n",
       "</g>\n",
       "</g>\n",
       "</svg>\n"
      ],
      "text/plain": [
       "<graphviz.files.Source at 0x11348e438>"
      ]
     },
     "execution_count": 85,
     "metadata": {},
     "output_type": "execute_result"
    }
   ],
   "source": [
    "root = Tree('parrt')\n",
    "root.left = Tree('mary')\n",
    "root.right = Tree('april')\n",
    "treeviz(root)"
   ]
  },
  {
   "cell_type": "code",
   "execution_count": 87,
   "metadata": {},
   "outputs": [
    {
     "data": {
      "image/svg+xml": [
       "<?xml version=\"1.0\" encoding=\"UTF-8\" standalone=\"no\"?>\n",
       "<!DOCTYPE svg PUBLIC \"-//W3C//DTD SVG 1.1//EN\"\n",
       " \"http://www.w3.org/Graphics/SVG/1.1/DTD/svg11.dtd\">\n",
       "<!-- Generated by graphviz version 2.40.1 (20161225.0304)\n",
       " -->\n",
       "<!-- Title: G Pages: 1 -->\n",
       "<svg width=\"149pt\" height=\"136pt\"\n",
       " viewBox=\"0.00 0.00 148.50 136.00\" xmlns=\"http://www.w3.org/2000/svg\" xmlns:xlink=\"http://www.w3.org/1999/xlink\">\n",
       "<g id=\"graph0\" class=\"graph\" transform=\"scale(1 1) rotate(0) translate(4 132)\">\n",
       "<title>G</title>\n",
       "<polygon fill=\"#ffffff\" stroke=\"transparent\" points=\"-4,4 -4,-132 144.5,-132 144.5,4 -4,4\"/>\n",
       "<!-- node4618513768 -->\n",
       "<g id=\"node1\" class=\"node\">\n",
       "<title>node4618513768</title>\n",
       "<polygon fill=\"#fefecd\" stroke=\"#444443\" stroke-width=\".5\" points=\"104,-128 38,-128 38,-75 104,-75 104,-128\"/>\n",
       "<polygon fill=\"#fefecd\" stroke=\"transparent\" points=\"40,-112.5 40,-125.5 102,-125.5 102,-112.5 40,-112.5\"/>\n",
       "<polyline fill=\"none\" stroke=\"#444443\" points=\"40,-112.5 102,-112.5 \"/>\n",
       "<text text-anchor=\"start\" x=\"61.4207\" y=\"-115.7\" font-family=\"Times,serif\" font-style=\"italic\" font-size=\"11.00\" fill=\"#444443\">Tree</text>\n",
       "<polygon fill=\"#fefecd\" stroke=\"transparent\" points=\"40,-110.5 40,-112.5 102,-112.5 102,-110.5 40,-110.5\"/>\n",
       "<polygon fill=\"#fefecd\" stroke=\"transparent\" points=\"40,-97.5 40,-110.5 71,-110.5 71,-97.5 40,-97.5\"/>\n",
       "<polyline fill=\"none\" stroke=\"#444443\" points=\"71,-97.5 71,-110.5 \"/>\n",
       "<text text-anchor=\"start\" x=\"40.8235\" y=\"-100.7\" font-family=\"Helvetica,sans-Serif\" font-size=\"11.00\" fill=\"#444443\">value </text>\n",
       "<polygon fill=\"#fefecd\" stroke=\"transparent\" points=\"71,-97.5 71,-110.5 102,-110.5 102,-97.5 71,-97.5\"/>\n",
       "<text text-anchor=\"start\" x=\"71.563\" y=\"-100.7\" font-family=\"Helvetica,sans-Serif\" font-size=\"11.00\" fill=\"#444443\"> &#39;parrt&#39;</text>\n",
       "<polyline fill=\"none\" stroke=\"#444443\" points=\"40,-94.5 102,-94.5 \"/>\n",
       "<polygon fill=\"#fefecd\" stroke=\"transparent\" points=\"40,-92.5 40,-94.5 102,-94.5 102,-92.5 40,-92.5\"/>\n",
       "<polygon fill=\"#fefecd\" stroke=\"transparent\" points=\"40,-84.5 40,-92.5 71,-92.5 71,-84.5 40,-84.5\"/>\n",
       "<polyline fill=\"none\" stroke=\"#444443\" points=\"71,-84.5 71,-92.5 \"/>\n",
       "<text text-anchor=\"start\" x=\"41\" y=\"-86.7\" font-family=\"Helvetica,sans-Serif\" font-size=\"6.00\" fill=\"#444443\">left</text>\n",
       "<polygon fill=\"#fefecd\" stroke=\"transparent\" points=\"71,-84.5 71,-92.5 71,-92.5 71,-84.5 71,-84.5\"/>\n",
       "<polygon fill=\"#fefecd\" stroke=\"transparent\" points=\"71,-84.5 71,-92.5 102,-92.5 102,-84.5 71,-84.5\"/>\n",
       "<text text-anchor=\"start\" x=\"89.3281\" y=\"-86.7\" font-family=\"Helvetica,sans-Serif\" font-size=\"6.00\" fill=\"#444443\">right</text>\n",
       "<polygon fill=\"#fefecd\" stroke=\"transparent\" points=\"40,-81.5 40,-84.5 71,-84.5 71,-81.5 40,-81.5\"/>\n",
       "<polyline fill=\"none\" stroke=\"#444443\" points=\"71,-81.5 71,-84.5 \"/>\n",
       "<text text-anchor=\"start\" x=\"55.3611\" y=\"-82.7\" font-family=\"Helvetica,sans-Serif\" font-size=\"1.00\" fill=\"#444443\"> </text>\n",
       "<polygon fill=\"#fefecd\" stroke=\"transparent\" points=\"71,-81.5 71,-84.5 71,-84.5 71,-81.5 71,-81.5\"/>\n",
       "<polygon fill=\"#fefecd\" stroke=\"transparent\" points=\"71,-81.5 71,-84.5 102,-84.5 102,-81.5 71,-81.5\"/>\n",
       "<text text-anchor=\"start\" x=\"86.3611\" y=\"-82.7\" font-family=\"Helvetica,sans-Serif\" font-size=\"1.00\" fill=\"#444443\"> </text>\n",
       "<polygon fill=\"#fefecd\" stroke=\"transparent\" points=\"40,-76.5 40,-81.5 71,-81.5 71,-76.5 40,-76.5\"/>\n",
       "<polyline fill=\"none\" stroke=\"#444443\" points=\"71,-76.5 71,-81.5 \"/>\n",
       "<text text-anchor=\"start\" x=\"55.0833\" y=\"-78.1\" font-family=\"Helvetica,sans-Serif\" font-size=\"3.00\" fill=\"#444443\"> </text>\n",
       "<polygon fill=\"#fefecd\" stroke=\"transparent\" points=\"71,-76.5 71,-81.5 71,-81.5 71,-76.5 71,-76.5\"/>\n",
       "<polygon fill=\"#fefecd\" stroke=\"transparent\" points=\"71,-76.5 71,-81.5 102,-81.5 102,-76.5 71,-76.5\"/>\n",
       "<text text-anchor=\"start\" x=\"86.0833\" y=\"-78.1\" font-family=\"Helvetica,sans-Serif\" font-size=\"3.00\" fill=\"#444443\"> </text>\n",
       "</g>\n",
       "<!-- node4618512592 -->\n",
       "<g id=\"node2\" class=\"node\">\n",
       "<title>node4618512592</title>\n",
       "<polygon fill=\"#fefecd\" stroke=\"#444443\" stroke-width=\".5\" points=\"68,-53 0,-53 0,0 68,0 68,-53\"/>\n",
       "<polygon fill=\"#fefecd\" stroke=\"transparent\" points=\"2,-37.5 2,-50.5 66,-50.5 66,-37.5 2,-37.5\"/>\n",
       "<polyline fill=\"none\" stroke=\"#444443\" points=\"2,-37.5 66,-37.5 \"/>\n",
       "<text text-anchor=\"start\" x=\"24.4207\" y=\"-40.7\" font-family=\"Times,serif\" font-style=\"italic\" font-size=\"11.00\" fill=\"#444443\">Tree</text>\n",
       "<polygon fill=\"#fefecd\" stroke=\"transparent\" points=\"2,-35.5 2,-37.5 66,-37.5 66,-35.5 2,-35.5\"/>\n",
       "<polygon fill=\"#fefecd\" stroke=\"transparent\" points=\"2,-22.5 2,-35.5 33,-35.5 33,-22.5 2,-22.5\"/>\n",
       "<polyline fill=\"none\" stroke=\"#444443\" points=\"33,-22.5 33,-35.5 \"/>\n",
       "<text text-anchor=\"start\" x=\"2.8235\" y=\"-25.7\" font-family=\"Helvetica,sans-Serif\" font-size=\"11.00\" fill=\"#444443\">value </text>\n",
       "<polygon fill=\"#fefecd\" stroke=\"transparent\" points=\"33,-22.5 33,-35.5 66,-35.5 66,-22.5 33,-22.5\"/>\n",
       "<text text-anchor=\"start\" x=\"33.6499\" y=\"-25.7\" font-family=\"Helvetica,sans-Serif\" font-size=\"11.00\" fill=\"#444443\"> &#39;mary&#39;</text>\n",
       "<polyline fill=\"none\" stroke=\"#444443\" points=\"2,-19.5 66,-19.5 \"/>\n",
       "<polygon fill=\"#fefecd\" stroke=\"transparent\" points=\"2,-17.5 2,-19.5 66,-19.5 66,-17.5 2,-17.5\"/>\n",
       "<polygon fill=\"#fefecd\" stroke=\"transparent\" points=\"2,-9.5 2,-17.5 33,-17.5 33,-9.5 2,-9.5\"/>\n",
       "<polyline fill=\"none\" stroke=\"#444443\" points=\"33,-9.5 33,-17.5 \"/>\n",
       "<text text-anchor=\"start\" x=\"3\" y=\"-11.7\" font-family=\"Helvetica,sans-Serif\" font-size=\"6.00\" fill=\"#444443\">left</text>\n",
       "<polygon fill=\"#fefecd\" stroke=\"transparent\" points=\"33,-9.5 33,-17.5 33,-17.5 33,-9.5 33,-9.5\"/>\n",
       "<polygon fill=\"#fefecd\" stroke=\"transparent\" points=\"33,-9.5 33,-17.5 66,-17.5 66,-9.5 33,-9.5\"/>\n",
       "<text text-anchor=\"start\" x=\"53.3281\" y=\"-11.7\" font-family=\"Helvetica,sans-Serif\" font-size=\"6.00\" fill=\"#444443\">right</text>\n",
       "<polygon fill=\"#fefecd\" stroke=\"transparent\" points=\"2,-6.5 2,-9.5 33,-9.5 33,-6.5 2,-6.5\"/>\n",
       "<polyline fill=\"none\" stroke=\"#444443\" points=\"33,-6.5 33,-9.5 \"/>\n",
       "<text text-anchor=\"start\" x=\"17.3611\" y=\"-7.7\" font-family=\"Helvetica,sans-Serif\" font-size=\"1.00\" fill=\"#444443\"> </text>\n",
       "<polygon fill=\"#fefecd\" stroke=\"transparent\" points=\"33,-6.5 33,-9.5 33,-9.5 33,-6.5 33,-6.5\"/>\n",
       "<polygon fill=\"#fefecd\" stroke=\"transparent\" points=\"33,-6.5 33,-9.5 66,-9.5 66,-6.5 33,-6.5\"/>\n",
       "<text text-anchor=\"start\" x=\"49.3611\" y=\"-7.7\" font-family=\"Helvetica,sans-Serif\" font-size=\"1.00\" fill=\"#444443\"> </text>\n",
       "<polygon fill=\"#fefecd\" stroke=\"transparent\" points=\"2,-1.5 2,-6.5 33,-6.5 33,-1.5 2,-1.5\"/>\n",
       "<polyline fill=\"none\" stroke=\"#444443\" points=\"33,-1.5 33,-6.5 \"/>\n",
       "<text text-anchor=\"start\" x=\"17.0833\" y=\"-3.1\" font-family=\"Helvetica,sans-Serif\" font-size=\"3.00\" fill=\"#444443\"> </text>\n",
       "<polygon fill=\"#fefecd\" stroke=\"transparent\" points=\"33,-1.5 33,-6.5 33,-6.5 33,-1.5 33,-1.5\"/>\n",
       "<polygon fill=\"#fefecd\" stroke=\"transparent\" points=\"33,-1.5 33,-6.5 66,-6.5 66,-1.5 33,-1.5\"/>\n",
       "<text text-anchor=\"start\" x=\"49.0833\" y=\"-3.1\" font-family=\"Helvetica,sans-Serif\" font-size=\"3.00\" fill=\"#444443\"> </text>\n",
       "</g>\n",
       "<!-- node4618513768&#45;&gt;node4618512592 -->\n",
       "<g id=\"edge1\" class=\"edge\">\n",
       "<title>node4618513768:c&#45;&gt;node4618512592</title>\n",
       "<path fill=\"none\" stroke=\"#444443\" stroke-width=\".5\" d=\"M53.8032,-79.3084C52.1145,-74.8052 48.858,-66.1212 45.4659,-57.0756\"/>\n",
       "<ellipse fill=\"#444443\" stroke=\"#444443\" stroke-width=\".5\" cx=\"54.4382\" cy=\"-81.0019\" rx=\"1.6\" ry=\"1.6\"/>\n",
       "<polygon fill=\"#444443\" stroke=\"#444443\" stroke-width=\".5\" points=\"46.7234,-56.4417 44.008,-53.1879 44.1017,-57.4248 46.7234,-56.4417\"/>\n",
       "</g>\n",
       "<!-- node4618511528 -->\n",
       "<g id=\"node3\" class=\"node\">\n",
       "<title>node4618511528</title>\n",
       "<polygon fill=\"#fefecd\" stroke=\"#444443\" stroke-width=\".5\" points=\"140.5,-53 75.5,-53 75.5,0 140.5,0 140.5,-53\"/>\n",
       "<polygon fill=\"#fefecd\" stroke=\"transparent\" points=\"78,-37.5 78,-50.5 139,-50.5 139,-37.5 78,-37.5\"/>\n",
       "<polyline fill=\"none\" stroke=\"#444443\" points=\"78,-37.5 139,-37.5 \"/>\n",
       "<text text-anchor=\"start\" x=\"98.9207\" y=\"-40.7\" font-family=\"Times,serif\" font-style=\"italic\" font-size=\"11.00\" fill=\"#444443\">Tree</text>\n",
       "<polygon fill=\"#fefecd\" stroke=\"transparent\" points=\"78,-35.5 78,-37.5 139,-37.5 139,-35.5 78,-35.5\"/>\n",
       "<polygon fill=\"#fefecd\" stroke=\"transparent\" points=\"78,-22.5 78,-35.5 109,-35.5 109,-22.5 78,-22.5\"/>\n",
       "<polyline fill=\"none\" stroke=\"#444443\" points=\"109,-22.5 109,-35.5 \"/>\n",
       "<text text-anchor=\"start\" x=\"78.8235\" y=\"-25.7\" font-family=\"Helvetica,sans-Serif\" font-size=\"11.00\" fill=\"#444443\">value </text>\n",
       "<polygon fill=\"#fefecd\" stroke=\"transparent\" points=\"109,-22.5 109,-35.5 139,-35.5 139,-22.5 109,-22.5\"/>\n",
       "<text text-anchor=\"start\" x=\"109.9788\" y=\"-25.7\" font-family=\"Helvetica,sans-Serif\" font-size=\"11.00\" fill=\"#444443\"> &#39;april&#39;</text>\n",
       "<polyline fill=\"none\" stroke=\"#444443\" points=\"78,-19.5 139,-19.5 \"/>\n",
       "<polygon fill=\"#fefecd\" stroke=\"transparent\" points=\"78,-17.5 78,-19.5 139,-19.5 139,-17.5 78,-17.5\"/>\n",
       "<polygon fill=\"#fefecd\" stroke=\"transparent\" points=\"78,-9.5 78,-17.5 109,-17.5 109,-9.5 78,-9.5\"/>\n",
       "<polyline fill=\"none\" stroke=\"#444443\" points=\"109,-9.5 109,-17.5 \"/>\n",
       "<text text-anchor=\"start\" x=\"79\" y=\"-11.7\" font-family=\"Helvetica,sans-Serif\" font-size=\"6.00\" fill=\"#444443\">left</text>\n",
       "<polygon fill=\"#fefecd\" stroke=\"transparent\" points=\"109,-9.5 109,-17.5 109,-17.5 109,-9.5 109,-9.5\"/>\n",
       "<polygon fill=\"#fefecd\" stroke=\"transparent\" points=\"109,-9.5 109,-17.5 139,-17.5 139,-9.5 109,-9.5\"/>\n",
       "<text text-anchor=\"start\" x=\"126.3281\" y=\"-11.7\" font-family=\"Helvetica,sans-Serif\" font-size=\"6.00\" fill=\"#444443\">right</text>\n",
       "<polygon fill=\"#fefecd\" stroke=\"transparent\" points=\"78,-6.5 78,-9.5 109,-9.5 109,-6.5 78,-6.5\"/>\n",
       "<polyline fill=\"none\" stroke=\"#444443\" points=\"109,-6.5 109,-9.5 \"/>\n",
       "<text text-anchor=\"start\" x=\"93.3611\" y=\"-7.7\" font-family=\"Helvetica,sans-Serif\" font-size=\"1.00\" fill=\"#444443\"> </text>\n",
       "<polygon fill=\"#fefecd\" stroke=\"transparent\" points=\"109,-6.5 109,-9.5 109,-9.5 109,-6.5 109,-6.5\"/>\n",
       "<polygon fill=\"#fefecd\" stroke=\"transparent\" points=\"109,-6.5 109,-9.5 139,-9.5 139,-6.5 109,-6.5\"/>\n",
       "<text text-anchor=\"start\" x=\"123.8611\" y=\"-7.7\" font-family=\"Helvetica,sans-Serif\" font-size=\"1.00\" fill=\"#444443\"> </text>\n",
       "<polygon fill=\"#fefecd\" stroke=\"transparent\" points=\"78,-1.5 78,-6.5 109,-6.5 109,-1.5 78,-1.5\"/>\n",
       "<polyline fill=\"none\" stroke=\"#444443\" points=\"109,-1.5 109,-6.5 \"/>\n",
       "<text text-anchor=\"start\" x=\"93.0833\" y=\"-3.1\" font-family=\"Helvetica,sans-Serif\" font-size=\"3.00\" fill=\"#444443\"> </text>\n",
       "<polygon fill=\"#fefecd\" stroke=\"transparent\" points=\"109,-1.5 109,-6.5 109,-6.5 109,-1.5 109,-1.5\"/>\n",
       "<polygon fill=\"#fefecd\" stroke=\"transparent\" points=\"109,-1.5 109,-6.5 139,-6.5 139,-1.5 109,-1.5\"/>\n",
       "<text text-anchor=\"start\" x=\"123.5833\" y=\"-3.1\" font-family=\"Helvetica,sans-Serif\" font-size=\"3.00\" fill=\"#444443\"> </text>\n",
       "</g>\n",
       "<!-- node4618513768&#45;&gt;node4618511528 -->\n",
       "<g id=\"edge2\" class=\"edge\">\n",
       "<title>node4618513768:c&#45;&gt;node4618511528</title>\n",
       "<path fill=\"none\" stroke=\"#444443\" stroke-width=\".5\" d=\"M88.1968,-79.3084C89.8855,-74.8052 93.142,-66.1212 96.5341,-57.0756\"/>\n",
       "<ellipse fill=\"#444443\" stroke=\"#444443\" stroke-width=\".5\" cx=\"87.5618\" cy=\"-81.0019\" rx=\"1.6\" ry=\"1.6\"/>\n",
       "<polygon fill=\"#444443\" stroke=\"#444443\" stroke-width=\".5\" points=\"97.8983,-57.4248 97.992,-53.1879 95.2766,-56.4417 97.8983,-57.4248\"/>\n",
       "</g>\n",
       "</g>\n",
       "</svg>\n"
      ],
      "text/plain": [
       "<graphviz.files.Source at 0x11348e668>"
      ]
     },
     "execution_count": 87,
     "metadata": {},
     "output_type": "execute_result"
    }
   ],
   "source": [
    "root = Tree('parrt', Tree('mary'), Tree('april'))\n",
    "treeviz(root)"
   ]
  },
  {
   "cell_type": "code",
   "execution_count": 90,
   "metadata": {},
   "outputs": [
    {
     "data": {
      "image/svg+xml": [
       "<?xml version=\"1.0\" encoding=\"UTF-8\" standalone=\"no\"?>\n",
       "<!DOCTYPE svg PUBLIC \"-//W3C//DTD SVG 1.1//EN\"\n",
       " \"http://www.w3.org/Graphics/SVG/1.1/DTD/svg11.dtd\">\n",
       "<!-- Generated by graphviz version 2.40.1 (20161225.0304)\n",
       " -->\n",
       "<!-- Title: G Pages: 1 -->\n",
       "<svg width=\"206pt\" height=\"211pt\"\n",
       " viewBox=\"0.00 0.00 205.50 211.00\" xmlns=\"http://www.w3.org/2000/svg\" xmlns:xlink=\"http://www.w3.org/1999/xlink\">\n",
       "<g id=\"graph0\" class=\"graph\" transform=\"scale(1 1) rotate(0) translate(4 207)\">\n",
       "<title>G</title>\n",
       "<polygon fill=\"#ffffff\" stroke=\"transparent\" points=\"-4,4 -4,-207 201.5,-207 201.5,4 -4,4\"/>\n",
       "<!-- node4618540312 -->\n",
       "<g id=\"node1\" class=\"node\">\n",
       "<title>node4618540312</title>\n",
       "<polygon fill=\"#fefecd\" stroke=\"#444443\" stroke-width=\".5\" points=\"150,-203 84,-203 84,-150 150,-150 150,-203\"/>\n",
       "<polygon fill=\"#fefecd\" stroke=\"transparent\" points=\"86,-187.5 86,-200.5 148,-200.5 148,-187.5 86,-187.5\"/>\n",
       "<polyline fill=\"none\" stroke=\"#444443\" points=\"86,-187.5 148,-187.5 \"/>\n",
       "<text text-anchor=\"start\" x=\"107.4207\" y=\"-190.7\" font-family=\"Times,serif\" font-style=\"italic\" font-size=\"11.00\" fill=\"#444443\">Tree</text>\n",
       "<polygon fill=\"#fefecd\" stroke=\"transparent\" points=\"86,-185.5 86,-187.5 148,-187.5 148,-185.5 86,-185.5\"/>\n",
       "<polygon fill=\"#fefecd\" stroke=\"transparent\" points=\"86,-172.5 86,-185.5 117,-185.5 117,-172.5 86,-172.5\"/>\n",
       "<polyline fill=\"none\" stroke=\"#444443\" points=\"117,-172.5 117,-185.5 \"/>\n",
       "<text text-anchor=\"start\" x=\"86.8235\" y=\"-175.7\" font-family=\"Helvetica,sans-Serif\" font-size=\"11.00\" fill=\"#444443\">value </text>\n",
       "<polygon fill=\"#fefecd\" stroke=\"transparent\" points=\"117,-172.5 117,-185.5 148,-185.5 148,-172.5 117,-172.5\"/>\n",
       "<text text-anchor=\"start\" x=\"117.563\" y=\"-175.7\" font-family=\"Helvetica,sans-Serif\" font-size=\"11.00\" fill=\"#444443\"> &#39;parrt&#39;</text>\n",
       "<polyline fill=\"none\" stroke=\"#444443\" points=\"86,-169.5 148,-169.5 \"/>\n",
       "<polygon fill=\"#fefecd\" stroke=\"transparent\" points=\"86,-167.5 86,-169.5 148,-169.5 148,-167.5 86,-167.5\"/>\n",
       "<polygon fill=\"#fefecd\" stroke=\"transparent\" points=\"86,-159.5 86,-167.5 117,-167.5 117,-159.5 86,-159.5\"/>\n",
       "<polyline fill=\"none\" stroke=\"#444443\" points=\"117,-159.5 117,-167.5 \"/>\n",
       "<text text-anchor=\"start\" x=\"87\" y=\"-161.7\" font-family=\"Helvetica,sans-Serif\" font-size=\"6.00\" fill=\"#444443\">left</text>\n",
       "<polygon fill=\"#fefecd\" stroke=\"transparent\" points=\"117,-159.5 117,-167.5 117,-167.5 117,-159.5 117,-159.5\"/>\n",
       "<polygon fill=\"#fefecd\" stroke=\"transparent\" points=\"117,-159.5 117,-167.5 148,-167.5 148,-159.5 117,-159.5\"/>\n",
       "<text text-anchor=\"start\" x=\"135.3281\" y=\"-161.7\" font-family=\"Helvetica,sans-Serif\" font-size=\"6.00\" fill=\"#444443\">right</text>\n",
       "<polygon fill=\"#fefecd\" stroke=\"transparent\" points=\"86,-156.5 86,-159.5 117,-159.5 117,-156.5 86,-156.5\"/>\n",
       "<polyline fill=\"none\" stroke=\"#444443\" points=\"117,-156.5 117,-159.5 \"/>\n",
       "<text text-anchor=\"start\" x=\"101.3611\" y=\"-157.7\" font-family=\"Helvetica,sans-Serif\" font-size=\"1.00\" fill=\"#444443\"> </text>\n",
       "<polygon fill=\"#fefecd\" stroke=\"transparent\" points=\"117,-156.5 117,-159.5 117,-159.5 117,-156.5 117,-156.5\"/>\n",
       "<polygon fill=\"#fefecd\" stroke=\"transparent\" points=\"117,-156.5 117,-159.5 148,-159.5 148,-156.5 117,-156.5\"/>\n",
       "<text text-anchor=\"start\" x=\"132.3611\" y=\"-157.7\" font-family=\"Helvetica,sans-Serif\" font-size=\"1.00\" fill=\"#444443\"> </text>\n",
       "<polygon fill=\"#fefecd\" stroke=\"transparent\" points=\"86,-151.5 86,-156.5 117,-156.5 117,-151.5 86,-151.5\"/>\n",
       "<polyline fill=\"none\" stroke=\"#444443\" points=\"117,-151.5 117,-156.5 \"/>\n",
       "<text text-anchor=\"start\" x=\"101.0833\" y=\"-153.1\" font-family=\"Helvetica,sans-Serif\" font-size=\"3.00\" fill=\"#444443\"> </text>\n",
       "<polygon fill=\"#fefecd\" stroke=\"transparent\" points=\"117,-151.5 117,-156.5 117,-156.5 117,-151.5 117,-151.5\"/>\n",
       "<polygon fill=\"#fefecd\" stroke=\"transparent\" points=\"117,-151.5 117,-156.5 148,-156.5 148,-151.5 117,-151.5\"/>\n",
       "<text text-anchor=\"start\" x=\"132.0833\" y=\"-153.1\" font-family=\"Helvetica,sans-Serif\" font-size=\"3.00\" fill=\"#444443\"> </text>\n",
       "</g>\n",
       "<!-- node4618540648 -->\n",
       "<g id=\"node2\" class=\"node\">\n",
       "<title>node4618540648</title>\n",
       "<polygon fill=\"#fefecd\" stroke=\"#444443\" stroke-width=\".5\" points=\"114,-128 46,-128 46,-75 114,-75 114,-128\"/>\n",
       "<polygon fill=\"#fefecd\" stroke=\"transparent\" points=\"48,-112.5 48,-125.5 112,-125.5 112,-112.5 48,-112.5\"/>\n",
       "<polyline fill=\"none\" stroke=\"#444443\" points=\"48,-112.5 112,-112.5 \"/>\n",
       "<text text-anchor=\"start\" x=\"70.4207\" y=\"-115.7\" font-family=\"Times,serif\" font-style=\"italic\" font-size=\"11.00\" fill=\"#444443\">Tree</text>\n",
       "<polygon fill=\"#fefecd\" stroke=\"transparent\" points=\"48,-110.5 48,-112.5 112,-112.5 112,-110.5 48,-110.5\"/>\n",
       "<polygon fill=\"#fefecd\" stroke=\"transparent\" points=\"48,-97.5 48,-110.5 79,-110.5 79,-97.5 48,-97.5\"/>\n",
       "<polyline fill=\"none\" stroke=\"#444443\" points=\"79,-97.5 79,-110.5 \"/>\n",
       "<text text-anchor=\"start\" x=\"48.8235\" y=\"-100.7\" font-family=\"Helvetica,sans-Serif\" font-size=\"11.00\" fill=\"#444443\">value </text>\n",
       "<polygon fill=\"#fefecd\" stroke=\"transparent\" points=\"79,-97.5 79,-110.5 112,-110.5 112,-97.5 79,-97.5\"/>\n",
       "<text text-anchor=\"start\" x=\"79.6499\" y=\"-100.7\" font-family=\"Helvetica,sans-Serif\" font-size=\"11.00\" fill=\"#444443\"> &#39;mary&#39;</text>\n",
       "<polyline fill=\"none\" stroke=\"#444443\" points=\"48,-94.5 112,-94.5 \"/>\n",
       "<polygon fill=\"#fefecd\" stroke=\"transparent\" points=\"48,-92.5 48,-94.5 112,-94.5 112,-92.5 48,-92.5\"/>\n",
       "<polygon fill=\"#fefecd\" stroke=\"transparent\" points=\"48,-84.5 48,-92.5 79,-92.5 79,-84.5 48,-84.5\"/>\n",
       "<polyline fill=\"none\" stroke=\"#444443\" points=\"79,-84.5 79,-92.5 \"/>\n",
       "<text text-anchor=\"start\" x=\"49\" y=\"-86.7\" font-family=\"Helvetica,sans-Serif\" font-size=\"6.00\" fill=\"#444443\">left</text>\n",
       "<polygon fill=\"#fefecd\" stroke=\"transparent\" points=\"79,-84.5 79,-92.5 79,-92.5 79,-84.5 79,-84.5\"/>\n",
       "<polygon fill=\"#fefecd\" stroke=\"transparent\" points=\"79,-84.5 79,-92.5 112,-92.5 112,-84.5 79,-84.5\"/>\n",
       "<text text-anchor=\"start\" x=\"99.3281\" y=\"-86.7\" font-family=\"Helvetica,sans-Serif\" font-size=\"6.00\" fill=\"#444443\">right</text>\n",
       "<polygon fill=\"#fefecd\" stroke=\"transparent\" points=\"48,-81.5 48,-84.5 79,-84.5 79,-81.5 48,-81.5\"/>\n",
       "<polyline fill=\"none\" stroke=\"#444443\" points=\"79,-81.5 79,-84.5 \"/>\n",
       "<text text-anchor=\"start\" x=\"63.3611\" y=\"-82.7\" font-family=\"Helvetica,sans-Serif\" font-size=\"1.00\" fill=\"#444443\"> </text>\n",
       "<polygon fill=\"#fefecd\" stroke=\"transparent\" points=\"79,-81.5 79,-84.5 79,-84.5 79,-81.5 79,-81.5\"/>\n",
       "<polygon fill=\"#fefecd\" stroke=\"transparent\" points=\"79,-81.5 79,-84.5 112,-84.5 112,-81.5 79,-81.5\"/>\n",
       "<text text-anchor=\"start\" x=\"95.3611\" y=\"-82.7\" font-family=\"Helvetica,sans-Serif\" font-size=\"1.00\" fill=\"#444443\"> </text>\n",
       "<polygon fill=\"#fefecd\" stroke=\"transparent\" points=\"48,-76.5 48,-81.5 79,-81.5 79,-76.5 48,-76.5\"/>\n",
       "<polyline fill=\"none\" stroke=\"#444443\" points=\"79,-76.5 79,-81.5 \"/>\n",
       "<text text-anchor=\"start\" x=\"63.0833\" y=\"-78.1\" font-family=\"Helvetica,sans-Serif\" font-size=\"3.00\" fill=\"#444443\"> </text>\n",
       "<polygon fill=\"#fefecd\" stroke=\"transparent\" points=\"79,-76.5 79,-81.5 79,-81.5 79,-76.5 79,-76.5\"/>\n",
       "<polygon fill=\"#fefecd\" stroke=\"transparent\" points=\"79,-76.5 79,-81.5 112,-81.5 112,-76.5 79,-76.5\"/>\n",
       "<text text-anchor=\"start\" x=\"95.0833\" y=\"-78.1\" font-family=\"Helvetica,sans-Serif\" font-size=\"3.00\" fill=\"#444443\"> </text>\n",
       "</g>\n",
       "<!-- node4618540312&#45;&gt;node4618540648 -->\n",
       "<g id=\"edge1\" class=\"edge\">\n",
       "<title>node4618540312:c&#45;&gt;node4618540648</title>\n",
       "<path fill=\"none\" stroke=\"#444443\" stroke-width=\".5\" d=\"M99.8032,-154.3084C98.1145,-149.8052 94.858,-141.1212 91.4659,-132.0756\"/>\n",
       "<ellipse fill=\"#444443\" stroke=\"#444443\" stroke-width=\".5\" cx=\"100.4382\" cy=\"-156.0019\" rx=\"1.6\" ry=\"1.6\"/>\n",
       "<polygon fill=\"#444443\" stroke=\"#444443\" stroke-width=\".5\" points=\"92.7234,-131.4417 90.008,-128.1879 90.1017,-132.4248 92.7234,-131.4417\"/>\n",
       "</g>\n",
       "<!-- node4618540256 -->\n",
       "<g id=\"node5\" class=\"node\">\n",
       "<title>node4618540256</title>\n",
       "<polygon fill=\"#fefecd\" stroke=\"#444443\" stroke-width=\".5\" points=\"186.5,-128 121.5,-128 121.5,-75 186.5,-75 186.5,-128\"/>\n",
       "<polygon fill=\"#fefecd\" stroke=\"transparent\" points=\"124,-112.5 124,-125.5 185,-125.5 185,-112.5 124,-112.5\"/>\n",
       "<polyline fill=\"none\" stroke=\"#444443\" points=\"124,-112.5 185,-112.5 \"/>\n",
       "<text text-anchor=\"start\" x=\"144.9207\" y=\"-115.7\" font-family=\"Times,serif\" font-style=\"italic\" font-size=\"11.00\" fill=\"#444443\">Tree</text>\n",
       "<polygon fill=\"#fefecd\" stroke=\"transparent\" points=\"124,-110.5 124,-112.5 185,-112.5 185,-110.5 124,-110.5\"/>\n",
       "<polygon fill=\"#fefecd\" stroke=\"transparent\" points=\"124,-97.5 124,-110.5 155,-110.5 155,-97.5 124,-97.5\"/>\n",
       "<polyline fill=\"none\" stroke=\"#444443\" points=\"155,-97.5 155,-110.5 \"/>\n",
       "<text text-anchor=\"start\" x=\"124.8235\" y=\"-100.7\" font-family=\"Helvetica,sans-Serif\" font-size=\"11.00\" fill=\"#444443\">value </text>\n",
       "<polygon fill=\"#fefecd\" stroke=\"transparent\" points=\"155,-97.5 155,-110.5 185,-110.5 185,-97.5 155,-97.5\"/>\n",
       "<text text-anchor=\"start\" x=\"155.9788\" y=\"-100.7\" font-family=\"Helvetica,sans-Serif\" font-size=\"11.00\" fill=\"#444443\"> &#39;april&#39;</text>\n",
       "<polyline fill=\"none\" stroke=\"#444443\" points=\"124,-94.5 185,-94.5 \"/>\n",
       "<polygon fill=\"#fefecd\" stroke=\"transparent\" points=\"124,-92.5 124,-94.5 185,-94.5 185,-92.5 124,-92.5\"/>\n",
       "<polygon fill=\"#fefecd\" stroke=\"transparent\" points=\"124,-84.5 124,-92.5 155,-92.5 155,-84.5 124,-84.5\"/>\n",
       "<polyline fill=\"none\" stroke=\"#444443\" points=\"155,-84.5 155,-92.5 \"/>\n",
       "<text text-anchor=\"start\" x=\"125\" y=\"-86.7\" font-family=\"Helvetica,sans-Serif\" font-size=\"6.00\" fill=\"#444443\">left</text>\n",
       "<polygon fill=\"#fefecd\" stroke=\"transparent\" points=\"155,-84.5 155,-92.5 155,-92.5 155,-84.5 155,-84.5\"/>\n",
       "<polygon fill=\"#fefecd\" stroke=\"transparent\" points=\"155,-84.5 155,-92.5 185,-92.5 185,-84.5 155,-84.5\"/>\n",
       "<text text-anchor=\"start\" x=\"172.3281\" y=\"-86.7\" font-family=\"Helvetica,sans-Serif\" font-size=\"6.00\" fill=\"#444443\">right</text>\n",
       "<polygon fill=\"#fefecd\" stroke=\"transparent\" points=\"124,-81.5 124,-84.5 155,-84.5 155,-81.5 124,-81.5\"/>\n",
       "<polyline fill=\"none\" stroke=\"#444443\" points=\"155,-81.5 155,-84.5 \"/>\n",
       "<text text-anchor=\"start\" x=\"139.3611\" y=\"-82.7\" font-family=\"Helvetica,sans-Serif\" font-size=\"1.00\" fill=\"#444443\"> </text>\n",
       "<polygon fill=\"#fefecd\" stroke=\"transparent\" points=\"155,-81.5 155,-84.5 155,-84.5 155,-81.5 155,-81.5\"/>\n",
       "<polygon fill=\"#fefecd\" stroke=\"transparent\" points=\"155,-81.5 155,-84.5 185,-84.5 185,-81.5 155,-81.5\"/>\n",
       "<text text-anchor=\"start\" x=\"169.8611\" y=\"-82.7\" font-family=\"Helvetica,sans-Serif\" font-size=\"1.00\" fill=\"#444443\"> </text>\n",
       "<polygon fill=\"#fefecd\" stroke=\"transparent\" points=\"124,-76.5 124,-81.5 155,-81.5 155,-76.5 124,-76.5\"/>\n",
       "<polyline fill=\"none\" stroke=\"#444443\" points=\"155,-76.5 155,-81.5 \"/>\n",
       "<text text-anchor=\"start\" x=\"139.0833\" y=\"-78.1\" font-family=\"Helvetica,sans-Serif\" font-size=\"3.00\" fill=\"#444443\"> </text>\n",
       "<polygon fill=\"#fefecd\" stroke=\"transparent\" points=\"155,-76.5 155,-81.5 155,-81.5 155,-76.5 155,-76.5\"/>\n",
       "<polygon fill=\"#fefecd\" stroke=\"transparent\" points=\"155,-76.5 155,-81.5 185,-81.5 185,-76.5 155,-76.5\"/>\n",
       "<text text-anchor=\"start\" x=\"169.5833\" y=\"-78.1\" font-family=\"Helvetica,sans-Serif\" font-size=\"3.00\" fill=\"#444443\"> </text>\n",
       "</g>\n",
       "<!-- node4618540312&#45;&gt;node4618540256 -->\n",
       "<g id=\"edge2\" class=\"edge\">\n",
       "<title>node4618540312:c&#45;&gt;node4618540256</title>\n",
       "<path fill=\"none\" stroke=\"#444443\" stroke-width=\".5\" d=\"M134.1968,-154.3084C135.8855,-149.8052 139.142,-141.1212 142.5341,-132.0756\"/>\n",
       "<ellipse fill=\"#444443\" stroke=\"#444443\" stroke-width=\".5\" cx=\"133.5618\" cy=\"-156.0019\" rx=\"1.6\" ry=\"1.6\"/>\n",
       "<polygon fill=\"#444443\" stroke=\"#444443\" stroke-width=\".5\" points=\"143.8983,-132.4248 143.992,-128.1879 141.2766,-131.4417 143.8983,-132.4248\"/>\n",
       "</g>\n",
       "<!-- node4618539472 -->\n",
       "<g id=\"node3\" class=\"node\">\n",
       "<title>node4618539472</title>\n",
       "<polygon fill=\"#fefecd\" stroke=\"#444443\" stroke-width=\".5\" points=\"58,-53 0,-53 0,0 58,0 58,-53\"/>\n",
       "<polygon fill=\"#fefecd\" stroke=\"transparent\" points=\"2,-37.5 2,-50.5 56,-50.5 56,-37.5 2,-37.5\"/>\n",
       "<polyline fill=\"none\" stroke=\"#444443\" points=\"2,-37.5 56,-37.5 \"/>\n",
       "<text text-anchor=\"start\" x=\"19.4207\" y=\"-40.7\" font-family=\"Times,serif\" font-style=\"italic\" font-size=\"11.00\" fill=\"#444443\">Tree</text>\n",
       "<polygon fill=\"#fefecd\" stroke=\"transparent\" points=\"2,-35.5 2,-37.5 56,-37.5 56,-35.5 2,-35.5\"/>\n",
       "<polygon fill=\"#fefecd\" stroke=\"transparent\" points=\"2,-22.5 2,-35.5 33,-35.5 33,-22.5 2,-22.5\"/>\n",
       "<polyline fill=\"none\" stroke=\"#444443\" points=\"33,-22.5 33,-35.5 \"/>\n",
       "<text text-anchor=\"start\" x=\"2.8235\" y=\"-25.7\" font-family=\"Helvetica,sans-Serif\" font-size=\"11.00\" fill=\"#444443\">value </text>\n",
       "<polygon fill=\"#fefecd\" stroke=\"transparent\" points=\"33,-22.5 33,-35.5 56,-35.5 56,-22.5 33,-22.5\"/>\n",
       "<text text-anchor=\"start\" x=\"33.8464\" y=\"-25.7\" font-family=\"Helvetica,sans-Serif\" font-size=\"11.00\" fill=\"#444443\"> &#39;jim&#39;</text>\n",
       "<polyline fill=\"none\" stroke=\"#444443\" points=\"2,-19.5 56,-19.5 \"/>\n",
       "<polygon fill=\"#fefecd\" stroke=\"transparent\" points=\"2,-17.5 2,-19.5 56,-19.5 56,-17.5 2,-17.5\"/>\n",
       "<polygon fill=\"#fefecd\" stroke=\"transparent\" points=\"2,-9.5 2,-17.5 33,-17.5 33,-9.5 2,-9.5\"/>\n",
       "<polyline fill=\"none\" stroke=\"#444443\" points=\"33,-9.5 33,-17.5 \"/>\n",
       "<text text-anchor=\"start\" x=\"3\" y=\"-11.7\" font-family=\"Helvetica,sans-Serif\" font-size=\"6.00\" fill=\"#444443\">left</text>\n",
       "<polygon fill=\"#fefecd\" stroke=\"transparent\" points=\"33,-9.5 33,-17.5 33,-17.5 33,-9.5 33,-9.5\"/>\n",
       "<polygon fill=\"#fefecd\" stroke=\"transparent\" points=\"33,-9.5 33,-17.5 56,-17.5 56,-9.5 33,-9.5\"/>\n",
       "<text text-anchor=\"start\" x=\"43.3281\" y=\"-11.7\" font-family=\"Helvetica,sans-Serif\" font-size=\"6.00\" fill=\"#444443\">right</text>\n",
       "<polygon fill=\"#fefecd\" stroke=\"transparent\" points=\"2,-6.5 2,-9.5 33,-9.5 33,-6.5 2,-6.5\"/>\n",
       "<polyline fill=\"none\" stroke=\"#444443\" points=\"33,-6.5 33,-9.5 \"/>\n",
       "<text text-anchor=\"start\" x=\"17.3611\" y=\"-7.7\" font-family=\"Helvetica,sans-Serif\" font-size=\"1.00\" fill=\"#444443\"> </text>\n",
       "<polygon fill=\"#fefecd\" stroke=\"transparent\" points=\"33,-6.5 33,-9.5 33,-9.5 33,-6.5 33,-6.5\"/>\n",
       "<polygon fill=\"#fefecd\" stroke=\"transparent\" points=\"33,-6.5 33,-9.5 56,-9.5 56,-6.5 33,-6.5\"/>\n",
       "<text text-anchor=\"start\" x=\"44.3611\" y=\"-7.7\" font-family=\"Helvetica,sans-Serif\" font-size=\"1.00\" fill=\"#444443\"> </text>\n",
       "<polygon fill=\"#fefecd\" stroke=\"transparent\" points=\"2,-1.5 2,-6.5 33,-6.5 33,-1.5 2,-1.5\"/>\n",
       "<polyline fill=\"none\" stroke=\"#444443\" points=\"33,-1.5 33,-6.5 \"/>\n",
       "<text text-anchor=\"start\" x=\"17.0833\" y=\"-3.1\" font-family=\"Helvetica,sans-Serif\" font-size=\"3.00\" fill=\"#444443\"> </text>\n",
       "<polygon fill=\"#fefecd\" stroke=\"transparent\" points=\"33,-1.5 33,-6.5 33,-6.5 33,-1.5 33,-1.5\"/>\n",
       "<polygon fill=\"#fefecd\" stroke=\"transparent\" points=\"33,-1.5 33,-6.5 56,-6.5 56,-1.5 33,-1.5\"/>\n",
       "<text text-anchor=\"start\" x=\"44.0833\" y=\"-3.1\" font-family=\"Helvetica,sans-Serif\" font-size=\"3.00\" fill=\"#444443\"> </text>\n",
       "</g>\n",
       "<!-- node4618540648&#45;&gt;node4618539472 -->\n",
       "<g id=\"edge3\" class=\"edge\">\n",
       "<title>node4618540648:c&#45;&gt;node4618539472</title>\n",
       "<path fill=\"none\" stroke=\"#444443\" stroke-width=\".5\" d=\"M61.2613,-79.6363C58.5506,-75.1715 53.0321,-66.0823 47.3142,-56.6645\"/>\n",
       "<ellipse fill=\"#444443\" stroke=\"#444443\" stroke-width=\".5\" cx=\"62.1696\" cy=\"-81.1323\" rx=\"1.6\" ry=\"1.6\"/>\n",
       "<polygon fill=\"#444443\" stroke=\"#444443\" stroke-width=\".5\" points=\"48.4761,-55.8805 45.2034,-53.1879 46.0826,-57.3337 48.4761,-55.8805\"/>\n",
       "</g>\n",
       "<!-- node4618511528 -->\n",
       "<g id=\"node4\" class=\"node\">\n",
       "<title>node4618511528</title>\n",
       "<polygon fill=\"#fefecd\" stroke=\"#444443\" stroke-width=\".5\" points=\"132.5,-53 65.5,-53 65.5,0 132.5,0 132.5,-53\"/>\n",
       "<polygon fill=\"#fefecd\" stroke=\"transparent\" points=\"68,-37.5 68,-50.5 131,-50.5 131,-37.5 68,-37.5\"/>\n",
       "<polyline fill=\"none\" stroke=\"#444443\" points=\"68,-37.5 131,-37.5 \"/>\n",
       "<text text-anchor=\"start\" x=\"89.9207\" y=\"-40.7\" font-family=\"Times,serif\" font-style=\"italic\" font-size=\"11.00\" fill=\"#444443\">Tree</text>\n",
       "<polygon fill=\"#fefecd\" stroke=\"transparent\" points=\"68,-35.5 68,-37.5 131,-37.5 131,-35.5 68,-35.5\"/>\n",
       "<polygon fill=\"#fefecd\" stroke=\"transparent\" points=\"68,-22.5 68,-35.5 99,-35.5 99,-22.5 68,-22.5\"/>\n",
       "<polyline fill=\"none\" stroke=\"#444443\" points=\"99,-22.5 99,-35.5 \"/>\n",
       "<text text-anchor=\"start\" x=\"68.8235\" y=\"-25.7\" font-family=\"Helvetica,sans-Serif\" font-size=\"11.00\" fill=\"#444443\">value </text>\n",
       "<polygon fill=\"#fefecd\" stroke=\"transparent\" points=\"99,-22.5 99,-35.5 131,-35.5 131,-22.5 99,-22.5\"/>\n",
       "<text text-anchor=\"start\" x=\"99.7595\" y=\"-25.7\" font-family=\"Helvetica,sans-Serif\" font-size=\"11.00\" fill=\"#444443\"> &#39;mike&#39;</text>\n",
       "<polyline fill=\"none\" stroke=\"#444443\" points=\"68,-19.5 131,-19.5 \"/>\n",
       "<polygon fill=\"#fefecd\" stroke=\"transparent\" points=\"68,-17.5 68,-19.5 131,-19.5 131,-17.5 68,-17.5\"/>\n",
       "<polygon fill=\"#fefecd\" stroke=\"transparent\" points=\"68,-9.5 68,-17.5 99,-17.5 99,-9.5 68,-9.5\"/>\n",
       "<polyline fill=\"none\" stroke=\"#444443\" points=\"99,-9.5 99,-17.5 \"/>\n",
       "<text text-anchor=\"start\" x=\"69\" y=\"-11.7\" font-family=\"Helvetica,sans-Serif\" font-size=\"6.00\" fill=\"#444443\">left</text>\n",
       "<polygon fill=\"#fefecd\" stroke=\"transparent\" points=\"99,-9.5 99,-17.5 99,-17.5 99,-9.5 99,-9.5\"/>\n",
       "<polygon fill=\"#fefecd\" stroke=\"transparent\" points=\"99,-9.5 99,-17.5 131,-17.5 131,-9.5 99,-9.5\"/>\n",
       "<text text-anchor=\"start\" x=\"118.3281\" y=\"-11.7\" font-family=\"Helvetica,sans-Serif\" font-size=\"6.00\" fill=\"#444443\">right</text>\n",
       "<polygon fill=\"#fefecd\" stroke=\"transparent\" points=\"68,-6.5 68,-9.5 99,-9.5 99,-6.5 68,-6.5\"/>\n",
       "<polyline fill=\"none\" stroke=\"#444443\" points=\"99,-6.5 99,-9.5 \"/>\n",
       "<text text-anchor=\"start\" x=\"83.3611\" y=\"-7.7\" font-family=\"Helvetica,sans-Serif\" font-size=\"1.00\" fill=\"#444443\"> </text>\n",
       "<polygon fill=\"#fefecd\" stroke=\"transparent\" points=\"99,-6.5 99,-9.5 99,-9.5 99,-6.5 99,-6.5\"/>\n",
       "<polygon fill=\"#fefecd\" stroke=\"transparent\" points=\"99,-6.5 99,-9.5 131,-9.5 131,-6.5 99,-6.5\"/>\n",
       "<text text-anchor=\"start\" x=\"114.8611\" y=\"-7.7\" font-family=\"Helvetica,sans-Serif\" font-size=\"1.00\" fill=\"#444443\"> </text>\n",
       "<polygon fill=\"#fefecd\" stroke=\"transparent\" points=\"68,-1.5 68,-6.5 99,-6.5 99,-1.5 68,-1.5\"/>\n",
       "<polyline fill=\"none\" stroke=\"#444443\" points=\"99,-1.5 99,-6.5 \"/>\n",
       "<text text-anchor=\"start\" x=\"83.0833\" y=\"-3.1\" font-family=\"Helvetica,sans-Serif\" font-size=\"3.00\" fill=\"#444443\"> </text>\n",
       "<polygon fill=\"#fefecd\" stroke=\"transparent\" points=\"99,-1.5 99,-6.5 99,-6.5 99,-1.5 99,-1.5\"/>\n",
       "<polygon fill=\"#fefecd\" stroke=\"transparent\" points=\"99,-1.5 99,-6.5 131,-6.5 131,-1.5 99,-1.5\"/>\n",
       "<text text-anchor=\"start\" x=\"114.5833\" y=\"-3.1\" font-family=\"Helvetica,sans-Serif\" font-size=\"3.00\" fill=\"#444443\"> </text>\n",
       "</g>\n",
       "<!-- node4618540648&#45;&gt;node4618511528 -->\n",
       "<g id=\"edge4\" class=\"edge\">\n",
       "<title>node4618540648:c&#45;&gt;node4618511528</title>\n",
       "<path fill=\"none\" stroke=\"#444443\" stroke-width=\".5\" d=\"M96.1894,-78.9651C96.4317,-74.4411 96.8761,-66.1454 97.3412,-57.4652\"/>\n",
       "<ellipse fill=\"#444443\" stroke=\"#444443\" stroke-width=\".5\" cx=\"96.0856\" cy=\"-80.9023\" rx=\"1.6\" ry=\"1.6\"/>\n",
       "<polygon fill=\"#444443\" stroke=\"#444443\" stroke-width=\".5\" points=\"98.7542,-57.2571 97.5703,-53.1879 95.9582,-57.1073 98.7542,-57.2571\"/>\n",
       "</g>\n",
       "<!-- node4618539584 -->\n",
       "<g id=\"node6\" class=\"node\">\n",
       "<title>node4618539584</title>\n",
       "<polygon fill=\"#fefecd\" stroke=\"#444443\" stroke-width=\".5\" points=\"197.5,-53 142.5,-53 142.5,0 197.5,0 197.5,-53\"/>\n",
       "<polygon fill=\"#fefecd\" stroke=\"transparent\" points=\"145,-37.5 145,-50.5 196,-50.5 196,-37.5 145,-37.5\"/>\n",
       "<polyline fill=\"none\" stroke=\"#444443\" points=\"145,-37.5 196,-37.5 \"/>\n",
       "<text text-anchor=\"start\" x=\"160.9207\" y=\"-40.7\" font-family=\"Times,serif\" font-style=\"italic\" font-size=\"11.00\" fill=\"#444443\">Tree</text>\n",
       "<polygon fill=\"#fefecd\" stroke=\"transparent\" points=\"145,-35.5 145,-37.5 196,-37.5 196,-35.5 145,-35.5\"/>\n",
       "<polygon fill=\"#fefecd\" stroke=\"transparent\" points=\"145,-22.5 145,-35.5 176,-35.5 176,-22.5 145,-22.5\"/>\n",
       "<polyline fill=\"none\" stroke=\"#444443\" points=\"176,-22.5 176,-35.5 \"/>\n",
       "<text text-anchor=\"start\" x=\"145.8235\" y=\"-25.7\" font-family=\"Helvetica,sans-Serif\" font-size=\"11.00\" fill=\"#444443\">value </text>\n",
       "<polygon fill=\"#fefecd\" stroke=\"transparent\" points=\"176,-22.5 176,-35.5 196,-35.5 196,-22.5 176,-22.5\"/>\n",
       "<text text-anchor=\"start\" x=\"176.5684\" y=\"-25.7\" font-family=\"Helvetica,sans-Serif\" font-size=\"11.00\" fill=\"#444443\"> &#39;sri&#39;</text>\n",
       "<polyline fill=\"none\" stroke=\"#444443\" points=\"145,-19.5 196,-19.5 \"/>\n",
       "<polygon fill=\"#fefecd\" stroke=\"transparent\" points=\"145,-17.5 145,-19.5 196,-19.5 196,-17.5 145,-17.5\"/>\n",
       "<polygon fill=\"#fefecd\" stroke=\"transparent\" points=\"145,-9.5 145,-17.5 176,-17.5 176,-9.5 145,-9.5\"/>\n",
       "<polyline fill=\"none\" stroke=\"#444443\" points=\"176,-9.5 176,-17.5 \"/>\n",
       "<text text-anchor=\"start\" x=\"146\" y=\"-11.7\" font-family=\"Helvetica,sans-Serif\" font-size=\"6.00\" fill=\"#444443\">left</text>\n",
       "<polygon fill=\"#fefecd\" stroke=\"transparent\" points=\"176,-9.5 176,-17.5 176,-17.5 176,-9.5 176,-9.5\"/>\n",
       "<polygon fill=\"#fefecd\" stroke=\"transparent\" points=\"176,-9.5 176,-17.5 196,-17.5 196,-9.5 176,-9.5\"/>\n",
       "<text text-anchor=\"start\" x=\"183.3281\" y=\"-11.7\" font-family=\"Helvetica,sans-Serif\" font-size=\"6.00\" fill=\"#444443\">right</text>\n",
       "<polygon fill=\"#fefecd\" stroke=\"transparent\" points=\"145,-6.5 145,-9.5 176,-9.5 176,-6.5 145,-6.5\"/>\n",
       "<polyline fill=\"none\" stroke=\"#444443\" points=\"176,-6.5 176,-9.5 \"/>\n",
       "<text text-anchor=\"start\" x=\"160.3611\" y=\"-7.7\" font-family=\"Helvetica,sans-Serif\" font-size=\"1.00\" fill=\"#444443\"> </text>\n",
       "<polygon fill=\"#fefecd\" stroke=\"transparent\" points=\"176,-6.5 176,-9.5 176,-9.5 176,-6.5 176,-6.5\"/>\n",
       "<polygon fill=\"#fefecd\" stroke=\"transparent\" points=\"176,-6.5 176,-9.5 196,-9.5 196,-6.5 176,-6.5\"/>\n",
       "<text text-anchor=\"start\" x=\"185.8611\" y=\"-7.7\" font-family=\"Helvetica,sans-Serif\" font-size=\"1.00\" fill=\"#444443\"> </text>\n",
       "<polygon fill=\"#fefecd\" stroke=\"transparent\" points=\"145,-1.5 145,-6.5 176,-6.5 176,-1.5 145,-1.5\"/>\n",
       "<polyline fill=\"none\" stroke=\"#444443\" points=\"176,-1.5 176,-6.5 \"/>\n",
       "<text text-anchor=\"start\" x=\"160.0833\" y=\"-3.1\" font-family=\"Helvetica,sans-Serif\" font-size=\"3.00\" fill=\"#444443\"> </text>\n",
       "<polygon fill=\"#fefecd\" stroke=\"transparent\" points=\"176,-1.5 176,-6.5 176,-6.5 176,-1.5 176,-1.5\"/>\n",
       "<polygon fill=\"#fefecd\" stroke=\"transparent\" points=\"176,-1.5 176,-6.5 196,-6.5 196,-1.5 176,-1.5\"/>\n",
       "<text text-anchor=\"start\" x=\"185.5833\" y=\"-3.1\" font-family=\"Helvetica,sans-Serif\" font-size=\"3.00\" fill=\"#444443\"> </text>\n",
       "</g>\n",
       "<!-- node4618540256&#45;&gt;node4618539584 -->\n",
       "<g id=\"edge5\" class=\"edge\">\n",
       "<title>node4618540256:c&#45;&gt;node4618539584</title>\n",
       "<path fill=\"none\" stroke=\"#444443\" stroke-width=\".5\" d=\"M170,-78.9651C170,-74.4411 170,-66.1454 170,-57.4652\"/>\n",
       "<ellipse fill=\"#444443\" stroke=\"#444443\" stroke-width=\".5\" cx=\"170\" cy=\"-80.9\" rx=\"1.6\" ry=\"1.6\"/>\n",
       "<polygon fill=\"#444443\" stroke=\"#444443\" stroke-width=\".5\" points=\"171.4001,-57.1879 170,-53.1879 168.6001,-57.188 171.4001,-57.1879\"/>\n",
       "</g>\n",
       "</g>\n",
       "</svg>\n"
      ],
      "text/plain": [
       "<graphviz.files.Source at 0x11348e8d0>"
      ]
     },
     "execution_count": 90,
     "metadata": {},
     "output_type": "execute_result"
    }
   ],
   "source": [
    "root = Tree('parrt')\n",
    "mary = Tree('mary')\n",
    "april = Tree('april')\n",
    "jim = Tree('jim')\n",
    "sri = Tree('sri')\n",
    "mike = Tree('mike')\n",
    "\n",
    "root.left = mary\n",
    "root.right = april\n",
    "mary.left = jim\n",
    "mary.right = mike\n",
    "april.right = sri\n",
    "\n",
    "treeviz(root)"
   ]
  },
  {
   "cell_type": "markdown",
   "metadata": {},
   "source": [
    "# Graphs"
   ]
  },
  {
   "cell_type": "code",
   "execution_count": 96,
   "metadata": {},
   "outputs": [],
   "source": [
    "class GNode:\n",
    "    def __init__(self, value):\n",
    "        self.value = value\n",
    "        self.edges = [] # outgoing edges\n",
    "        \n",
    "    def connect(self, other):\n",
    "        self.edges.append(other)"
   ]
  },
  {
   "cell_type": "code",
   "execution_count": 98,
   "metadata": {},
   "outputs": [
    {
     "data": {
      "image/svg+xml": [
       "<?xml version=\"1.0\" encoding=\"UTF-8\" standalone=\"no\"?>\n",
       "<!DOCTYPE svg PUBLIC \"-//W3C//DTD SVG 1.1//EN\"\n",
       " \"http://www.w3.org/Graphics/SVG/1.1/DTD/svg11.dtd\">\n",
       "<!-- Generated by graphviz version 2.40.1 (20161225.0304)\n",
       " -->\n",
       "<!-- Title: G Pages: 1 -->\n",
       "<svg width=\"649pt\" height=\"103pt\"\n",
       " viewBox=\"0.00 0.00 648.74 103.00\" xmlns=\"http://www.w3.org/2000/svg\" xmlns:xlink=\"http://www.w3.org/1999/xlink\">\n",
       "<g id=\"graph0\" class=\"graph\" transform=\"scale(1 1) rotate(0) translate(4 99)\">\n",
       "<title>G</title>\n",
       "<polygon fill=\"#ffffff\" stroke=\"transparent\" points=\"-4,4 -4,-99 644.7432,-99 644.7432,4 -4,4\"/>\n",
       "<!-- node4618594008 -->\n",
       "<g id=\"node1\" class=\"node\">\n",
       "<title>node4618594008</title>\n",
       "<polygon fill=\"#fefecd\" stroke=\"#444443\" stroke-width=\".5\" points=\"62,-95 0,-95 0,-48 62,-48 62,-95\"/>\n",
       "<polygon fill=\"#fefecd\" stroke=\"transparent\" points=\"2,-79.5 2,-92.5 60,-92.5 60,-79.5 2,-79.5\"/>\n",
       "<polyline fill=\"none\" stroke=\"#444443\" points=\"2,-79.5 60,-79.5 \"/>\n",
       "<text text-anchor=\"start\" x=\"15.4185\" y=\"-82.7\" font-family=\"Times,serif\" font-style=\"italic\" font-size=\"11.00\" fill=\"#444443\">GNode</text>\n",
       "<polygon fill=\"#fefecd\" stroke=\"transparent\" points=\"2,-77.5 2,-79.5 60,-79.5 60,-77.5 2,-77.5\"/>\n",
       "<polygon fill=\"#fefecd\" stroke=\"transparent\" points=\"2,-64.5 2,-77.5 37,-77.5 37,-64.5 2,-64.5\"/>\n",
       "<polyline fill=\"none\" stroke=\"#444443\" points=\"37,-64.5 37,-77.5 \"/>\n",
       "<text text-anchor=\"start\" x=\"6.647\" y=\"-67.7\" font-family=\"Helvetica,sans-Serif\" font-size=\"11.00\" fill=\"#444443\">value </text>\n",
       "<polygon fill=\"#fefecd\" stroke=\"transparent\" points=\"37,-64.5 37,-77.5 60,-77.5 60,-64.5 37,-64.5\"/>\n",
       "<text text-anchor=\"start\" x=\"37.5349\" y=\"-67.7\" font-family=\"Helvetica,sans-Serif\" font-size=\"11.00\" fill=\"#444443\"> &#39;cat&#39;</text>\n",
       "<polygon fill=\"#fefecd\" stroke=\"transparent\" points=\"2,-62.5 2,-64.5 60,-64.5 60,-62.5 2,-62.5\"/>\n",
       "<polygon fill=\"#fefecd\" stroke=\"transparent\" points=\"2,-49.5 2,-62.5 37,-62.5 37,-49.5 2,-49.5\"/>\n",
       "<polyline fill=\"none\" stroke=\"#444443\" points=\"37,-49.5 37,-62.5 \"/>\n",
       "<text text-anchor=\"start\" x=\"2.9866\" y=\"-52.7\" font-family=\"Helvetica,sans-Serif\" font-size=\"11.00\" fill=\"#444443\">edges </text>\n",
       "<polygon fill=\"#fefecd\" stroke=\"transparent\" points=\"37,-49.5 37,-62.5 60,-62.5 60,-49.5 37,-49.5\"/>\n",
       "<text text-anchor=\"start\" x=\"38\" y=\"-52.7\" font-family=\"Helvetica,sans-Serif\" font-size=\"11.00\" fill=\"#444443\"> &#160;&#160;&#160;</text>\n",
       "</g>\n",
       "<!-- node4618556744 -->\n",
       "<g id=\"node2\" class=\"node\">\n",
       "<title>node4618556744</title>\n",
       "<polygon fill=\"#cfe2d4\" stroke=\"#444443\" stroke-width=\".5\" points=\"97,-46 84,-46 84,-29 97,-29 97,-46\"/>\n",
       "<polygon fill=\"#cfe2d4\" stroke=\"transparent\" points=\"85.5,-29.5 85.5,-44.5 96.5,-44.5 96.5,-29.5 85.5,-29.5\"/>\n",
       "<text text-anchor=\"start\" x=\"88.4973\" y=\"-34.3\" font-family=\"Helvetica,sans-Serif\" font-size=\"9.00\" fill=\"#444443\">0</text>\n",
       "</g>\n",
       "<!-- node4618594008&#45;&gt;node4618556744 -->\n",
       "<g id=\"edge1\" class=\"edge\">\n",
       "<title>node4618594008:c&#45;&gt;node4618556744</title>\n",
       "<path fill=\"none\" stroke=\"#444443\" stroke-width=\".5\" d=\"M52.3303,-54.0555C58.1543,-51.5294 70.4317,-46.2043 79.4972,-42.2723\"/>\n",
       "<ellipse fill=\"#444443\" stroke=\"#444443\" stroke-width=\".5\" cx=\"50.4679\" cy=\"-54.8633\" rx=\"1.6\" ry=\"1.6\"/>\n",
       "<polygon fill=\"#444443\" stroke=\"#444443\" stroke-width=\".5\" points=\"80.5345,-43.3484 83.6471,-40.4723 79.4203,-40.7797 80.5345,-43.3484\"/>\n",
       "</g>\n",
       "<!-- node4618593392 -->\n",
       "<g id=\"node3\" class=\"node\">\n",
       "<title>node4618593392</title>\n",
       "<polygon fill=\"#fefecd\" stroke=\"#444443\" stroke-width=\".5\" points=\"185,-60 119,-60 119,-13 185,-13 185,-60\"/>\n",
       "<polygon fill=\"#fefecd\" stroke=\"transparent\" points=\"121,-44.5 121,-57.5 183,-57.5 183,-44.5 121,-44.5\"/>\n",
       "<polyline fill=\"none\" stroke=\"#444443\" points=\"121,-44.5 183,-44.5 \"/>\n",
       "<text text-anchor=\"start\" x=\"136.4185\" y=\"-47.7\" font-family=\"Times,serif\" font-style=\"italic\" font-size=\"11.00\" fill=\"#444443\">GNode</text>\n",
       "<polygon fill=\"#fefecd\" stroke=\"transparent\" points=\"121,-42.5 121,-44.5 183,-44.5 183,-42.5 121,-42.5\"/>\n",
       "<polygon fill=\"#fefecd\" stroke=\"transparent\" points=\"121,-29.5 121,-42.5 156,-42.5 156,-29.5 121,-29.5\"/>\n",
       "<polyline fill=\"none\" stroke=\"#444443\" points=\"156,-29.5 156,-42.5 \"/>\n",
       "<text text-anchor=\"start\" x=\"125.647\" y=\"-32.7\" font-family=\"Helvetica,sans-Serif\" font-size=\"11.00\" fill=\"#444443\">value </text>\n",
       "<polygon fill=\"#fefecd\" stroke=\"transparent\" points=\"156,-29.5 156,-42.5 183,-42.5 183,-29.5 156,-29.5\"/>\n",
       "<text text-anchor=\"start\" x=\"156.6953\" y=\"-32.7\" font-family=\"Helvetica,sans-Serif\" font-size=\"11.00\" fill=\"#444443\"> &#39;dog&#39;</text>\n",
       "<polygon fill=\"#fefecd\" stroke=\"transparent\" points=\"121,-27.5 121,-29.5 183,-29.5 183,-27.5 121,-27.5\"/>\n",
       "<polygon fill=\"#fefecd\" stroke=\"transparent\" points=\"121,-14.5 121,-27.5 156,-27.5 156,-14.5 121,-14.5\"/>\n",
       "<polyline fill=\"none\" stroke=\"#444443\" points=\"156,-14.5 156,-27.5 \"/>\n",
       "<text text-anchor=\"start\" x=\"121.9866\" y=\"-17.7\" font-family=\"Helvetica,sans-Serif\" font-size=\"11.00\" fill=\"#444443\">edges </text>\n",
       "<polygon fill=\"#fefecd\" stroke=\"transparent\" points=\"156,-14.5 156,-27.5 183,-27.5 183,-14.5 156,-14.5\"/>\n",
       "<text text-anchor=\"start\" x=\"157\" y=\"-17.7\" font-family=\"Helvetica,sans-Serif\" font-size=\"11.00\" fill=\"#444443\"> &#160;&#160;&#160;</text>\n",
       "</g>\n",
       "<!-- node4618556744&#45;&gt;node4618593392 -->\n",
       "<g id=\"edge2\" class=\"edge\">\n",
       "<title>node4618556744:0&#45;&gt;node4618593392:w</title>\n",
       "<path fill=\"none\" stroke=\"#444443\" stroke-width=\".5\" d=\"M96.5685,-36.5C101.1379,-36.5 108.1529,-36.5 114.8761,-36.5\"/>\n",
       "<polygon fill=\"#444443\" stroke=\"#444443\" stroke-width=\".5\" points=\"115,-37.9001 119,-36.5 115,-35.1001 115,-37.9001\"/>\n",
       "</g>\n",
       "<!-- node4484331912 -->\n",
       "<g id=\"node4\" class=\"node\">\n",
       "<title>node4484331912</title>\n",
       "<polygon fill=\"#cfe2d4\" stroke=\"#444443\" stroke-width=\".5\" points=\"220,-80 207,-80 207,-33 220,-33 220,-80\"/>\n",
       "<polygon fill=\"#cfe2d4\" stroke=\"transparent\" points=\"208.5,-63.5 208.5,-78.5 219.5,-78.5 219.5,-63.5 208.5,-63.5\"/>\n",
       "<polyline fill=\"none\" stroke=\"#444443\" points=\"208.5,-63.5 219.5,-63.5 \"/>\n",
       "<text text-anchor=\"start\" x=\"211.4973\" y=\"-68.3\" font-family=\"Helvetica,sans-Serif\" font-size=\"9.00\" fill=\"#444443\">0</text>\n",
       "<polygon fill=\"#cfe2d4\" stroke=\"transparent\" points=\"208.5,-48.5 208.5,-63.5 219.5,-63.5 219.5,-48.5 208.5,-48.5\"/>\n",
       "<polyline fill=\"none\" stroke=\"#444443\" points=\"208.5,-48.5 219.5,-48.5 \"/>\n",
       "<text text-anchor=\"start\" x=\"211.4973\" y=\"-53.3\" font-family=\"Helvetica,sans-Serif\" font-size=\"9.00\" fill=\"#444443\">1</text>\n",
       "<polygon fill=\"#cfe2d4\" stroke=\"transparent\" points=\"208.5,-33.5 208.5,-48.5 219.5,-48.5 219.5,-33.5 208.5,-33.5\"/>\n",
       "<text text-anchor=\"start\" x=\"211.4973\" y=\"-38.3\" font-family=\"Helvetica,sans-Serif\" font-size=\"9.00\" fill=\"#444443\">2</text>\n",
       "</g>\n",
       "<!-- node4618593392&#45;&gt;node4484331912 -->\n",
       "<g id=\"edge3\" class=\"edge\">\n",
       "<title>node4618593392:c&#45;&gt;node4484331912</title>\n",
       "<path fill=\"none\" stroke=\"#444443\" stroke-width=\".5\" d=\"M172.7211,-22.752C178.7537,-27.7444 193.5069,-39.954 203.5117,-48.2338\"/>\n",
       "<ellipse fill=\"#444443\" stroke=\"#444443\" stroke-width=\".5\" cx=\"171.2326\" cy=\"-21.5201\" rx=\"1.6\" ry=\"1.6\"/>\n",
       "<polygon fill=\"#444443\" stroke=\"#444443\" stroke-width=\".5\" points=\"202.7289,-49.4033 206.7031,-50.875 204.5141,-47.2461 202.7289,-49.4033\"/>\n",
       "</g>\n",
       "<!-- node4484331912&#45;&gt;node4618594008 -->\n",
       "<g id=\"edge4\" class=\"edge\">\n",
       "<title>node4484331912:0&#45;&gt;node4618594008:w</title>\n",
       "<path fill=\"none\" stroke=\"#444443\" stroke-width=\".5\" d=\"M208.5,-71.5C142.5565,-71.5 127.7351,-89.7612 62,-95 62,-95 17.8613,-78.27 4.068,-73.0419\"/>\n",
       "<polygon fill=\"#444443\" stroke=\"#444443\" stroke-width=\".5\" points=\"4.2366,-71.6086 0,-71.5 3.2441,-74.2269 4.2366,-71.6086\"/>\n",
       "</g>\n",
       "<!-- node4618593952 -->\n",
       "<g id=\"node5\" class=\"node\">\n",
       "<title>node4618593952</title>\n",
       "<polygon fill=\"#fefecd\" stroke=\"#444443\" stroke-width=\".5\" points=\"317,-89 242,-89 242,-42 317,-42 317,-89\"/>\n",
       "<polygon fill=\"#fefecd\" stroke=\"transparent\" points=\"244.5,-73.5 244.5,-86.5 315.5,-86.5 315.5,-73.5 244.5,-73.5\"/>\n",
       "<polyline fill=\"none\" stroke=\"#444443\" points=\"244.5,-73.5 315.5,-73.5 \"/>\n",
       "<text text-anchor=\"start\" x=\"264.4185\" y=\"-76.7\" font-family=\"Times,serif\" font-style=\"italic\" font-size=\"11.00\" fill=\"#444443\">GNode</text>\n",
       "<polygon fill=\"#fefecd\" stroke=\"transparent\" points=\"244.5,-71.5 244.5,-73.5 315.5,-73.5 315.5,-71.5 244.5,-71.5\"/>\n",
       "<polygon fill=\"#fefecd\" stroke=\"transparent\" points=\"244.5,-58.5 244.5,-71.5 279.5,-71.5 279.5,-58.5 244.5,-58.5\"/>\n",
       "<polyline fill=\"none\" stroke=\"#444443\" points=\"279.5,-58.5 279.5,-71.5 \"/>\n",
       "<text text-anchor=\"start\" x=\"249.147\" y=\"-61.7\" font-family=\"Helvetica,sans-Serif\" font-size=\"11.00\" fill=\"#444443\">value </text>\n",
       "<polygon fill=\"#fefecd\" stroke=\"transparent\" points=\"279.5,-58.5 279.5,-71.5 315.5,-71.5 315.5,-58.5 279.5,-58.5\"/>\n",
       "<text text-anchor=\"start\" x=\"280.1138\" y=\"-61.7\" font-family=\"Helvetica,sans-Serif\" font-size=\"11.00\" fill=\"#444443\"> &#39;horse&#39;</text>\n",
       "<polygon fill=\"#fefecd\" stroke=\"transparent\" points=\"244.5,-56.5 244.5,-58.5 315.5,-58.5 315.5,-56.5 244.5,-56.5\"/>\n",
       "<polygon fill=\"#fefecd\" stroke=\"transparent\" points=\"244.5,-43.5 244.5,-56.5 279.5,-56.5 279.5,-43.5 244.5,-43.5\"/>\n",
       "<polyline fill=\"none\" stroke=\"#444443\" points=\"279.5,-43.5 279.5,-56.5 \"/>\n",
       "<text text-anchor=\"start\" x=\"245.4866\" y=\"-46.7\" font-family=\"Helvetica,sans-Serif\" font-size=\"11.00\" fill=\"#444443\">edges </text>\n",
       "<polygon fill=\"#fefecd\" stroke=\"transparent\" points=\"279.5,-43.5 279.5,-56.5 315.5,-56.5 315.5,-43.5 279.5,-43.5\"/>\n",
       "<text text-anchor=\"start\" x=\"280.5\" y=\"-46.7\" font-family=\"Helvetica,sans-Serif\" font-size=\"11.00\" fill=\"#444443\"> &#160;&#160;&#160;</text>\n",
       "</g>\n",
       "<!-- node4484331912&#45;&gt;node4618593952 -->\n",
       "<g id=\"edge5\" class=\"edge\">\n",
       "<title>node4484331912:1&#45;&gt;node4618593952:w</title>\n",
       "<path fill=\"none\" stroke=\"#444443\" stroke-width=\".5\" d=\"M219.5,-55.5C228.9043,-55.5 230.68,-62.8853 237.9387,-64.9624\"/>\n",
       "<polygon fill=\"#444443\" stroke=\"#444443\" stroke-width=\".5\" points=\"237.8508,-66.3629 242,-65.5 238.2184,-63.5871 237.8508,-66.3629\"/>\n",
       "</g>\n",
       "<!-- node4618593728 -->\n",
       "<g id=\"node7\" class=\"node\">\n",
       "<title>node4618593728</title>\n",
       "<polygon fill=\"#fefecd\" stroke=\"#444443\" stroke-width=\".5\" points=\"449,-64 374,-64 374,-17 449,-17 449,-64\"/>\n",
       "<polygon fill=\"#fefecd\" stroke=\"transparent\" points=\"376.5,-48.5 376.5,-61.5 447.5,-61.5 447.5,-48.5 376.5,-48.5\"/>\n",
       "<polyline fill=\"none\" stroke=\"#444443\" points=\"376.5,-48.5 447.5,-48.5 \"/>\n",
       "<text text-anchor=\"start\" x=\"396.4185\" y=\"-51.7\" font-family=\"Times,serif\" font-style=\"italic\" font-size=\"11.00\" fill=\"#444443\">GNode</text>\n",
       "<polygon fill=\"#fefecd\" stroke=\"transparent\" points=\"376.5,-46.5 376.5,-48.5 447.5,-48.5 447.5,-46.5 376.5,-46.5\"/>\n",
       "<polygon fill=\"#fefecd\" stroke=\"transparent\" points=\"376.5,-33.5 376.5,-46.5 411.5,-46.5 411.5,-33.5 376.5,-33.5\"/>\n",
       "<polyline fill=\"none\" stroke=\"#444443\" points=\"411.5,-33.5 411.5,-46.5 \"/>\n",
       "<text text-anchor=\"start\" x=\"381.147\" y=\"-36.7\" font-family=\"Helvetica,sans-Serif\" font-size=\"11.00\" fill=\"#444443\">value </text>\n",
       "<polygon fill=\"#fefecd\" stroke=\"transparent\" points=\"411.5,-33.5 411.5,-46.5 447.5,-46.5 447.5,-33.5 411.5,-33.5\"/>\n",
       "<text text-anchor=\"start\" x=\"412.1138\" y=\"-36.7\" font-family=\"Helvetica,sans-Serif\" font-size=\"11.00\" fill=\"#444443\"> &#39;zebra&#39;</text>\n",
       "<polygon fill=\"#fefecd\" stroke=\"transparent\" points=\"376.5,-31.5 376.5,-33.5 447.5,-33.5 447.5,-31.5 376.5,-31.5\"/>\n",
       "<polygon fill=\"#fefecd\" stroke=\"transparent\" points=\"376.5,-18.5 376.5,-31.5 411.5,-31.5 411.5,-18.5 376.5,-18.5\"/>\n",
       "<polyline fill=\"none\" stroke=\"#444443\" points=\"411.5,-18.5 411.5,-31.5 \"/>\n",
       "<text text-anchor=\"start\" x=\"377.4866\" y=\"-21.7\" font-family=\"Helvetica,sans-Serif\" font-size=\"11.00\" fill=\"#444443\">edges </text>\n",
       "<polygon fill=\"#fefecd\" stroke=\"transparent\" points=\"411.5,-18.5 411.5,-31.5 447.5,-31.5 447.5,-18.5 411.5,-18.5\"/>\n",
       "<text text-anchor=\"start\" x=\"412.5\" y=\"-21.7\" font-family=\"Helvetica,sans-Serif\" font-size=\"11.00\" fill=\"#444443\"> &#160;&#160;&#160;</text>\n",
       "</g>\n",
       "<!-- node4484331912&#45;&gt;node4618593728 -->\n",
       "<g id=\"edge6\" class=\"edge\">\n",
       "<title>node4484331912:2&#45;&gt;node4618593728:w</title>\n",
       "<path fill=\"none\" stroke=\"#444443\" stroke-width=\".5\" d=\"M219.5,-40.5C229.5394,-40.5 231.9704,-38.9449 242,-38.5 290.8409,-36.3336 303.1613,-36.2846 352,-38.5 360.2755,-38.8754 363.2586,-40.0411 369.8862,-40.3963\"/>\n",
       "<polygon fill=\"#444443\" stroke=\"#444443\" stroke-width=\".5\" points=\"369.9659,-41.7986 374,-40.5 370.0366,-38.9995 369.9659,-41.7986\"/>\n",
       "</g>\n",
       "<!-- node4618556616 -->\n",
       "<g id=\"node6\" class=\"node\">\n",
       "<title>node4618556616</title>\n",
       "<polygon fill=\"#cfe2d4\" stroke=\"#444443\" stroke-width=\".5\" points=\"352,-59 339,-59 339,-42 352,-42 352,-59\"/>\n",
       "<polygon fill=\"#cfe2d4\" stroke=\"transparent\" points=\"340.5,-42.5 340.5,-57.5 351.5,-57.5 351.5,-42.5 340.5,-42.5\"/>\n",
       "<text text-anchor=\"start\" x=\"343.4973\" y=\"-47.3\" font-family=\"Helvetica,sans-Serif\" font-size=\"9.00\" fill=\"#444443\">0</text>\n",
       "</g>\n",
       "<!-- node4618593952&#45;&gt;node4618556616 -->\n",
       "<g id=\"edge7\" class=\"edge\">\n",
       "<title>node4618593952:c&#45;&gt;node4618556616</title>\n",
       "<path fill=\"none\" stroke=\"#444443\" stroke-width=\".5\" d=\"M301.0882,-49.5748C308.0937,-49.7207 323.8435,-50.0488 334.5743,-50.2724\"/>\n",
       "<ellipse fill=\"#444443\" stroke=\"#444443\" stroke-width=\".5\" cx=\"299.0997\" cy=\"-49.5334\" rx=\"1.6\" ry=\"1.6\"/>\n",
       "<polygon fill=\"#444443\" stroke=\"#444443\" stroke-width=\".5\" points=\"334.7975,-51.6772 338.8258,-50.361 334.8559,-48.8779 334.7975,-51.6772\"/>\n",
       "</g>\n",
       "<!-- node4618556616&#45;&gt;node4618593728 -->\n",
       "<g id=\"edge8\" class=\"edge\">\n",
       "<title>node4618556616:0&#45;&gt;node4618593728:w</title>\n",
       "<path fill=\"none\" stroke=\"#444443\" stroke-width=\".5\" d=\"M351.8103,-46.6523C356.2982,-44.4688 363.0584,-41.6825 369.8144,-40.7893\"/>\n",
       "<polygon fill=\"#444443\" stroke=\"#444443\" stroke-width=\".5\" points=\"370.1061,-42.1725 374,-40.5 369.913,-39.3792 370.1061,-42.1725\"/>\n",
       "</g>\n",
       "<!-- node4618526216 -->\n",
       "<g id=\"node8\" class=\"node\">\n",
       "<title>node4618526216</title>\n",
       "<polygon fill=\"#cfe2d4\" stroke=\"#444443\" stroke-width=\".5\" points=\"484,-33 471,-33 471,-16 484,-16 484,-33\"/>\n",
       "<polygon fill=\"#cfe2d4\" stroke=\"transparent\" points=\"472.5,-16.5 472.5,-31.5 483.5,-31.5 483.5,-16.5 472.5,-16.5\"/>\n",
       "<text text-anchor=\"start\" x=\"475.4973\" y=\"-21.3\" font-family=\"Helvetica,sans-Serif\" font-size=\"9.00\" fill=\"#444443\">0</text>\n",
       "</g>\n",
       "<!-- node4618593728&#45;&gt;node4618526216 -->\n",
       "<g id=\"edge9\" class=\"edge\">\n",
       "<title>node4618593728:c&#45;&gt;node4618526216</title>\n",
       "<path fill=\"none\" stroke=\"#444443\" stroke-width=\".5\" d=\"M433.0882,-24.5C440.0937,-24.5 455.8435,-24.5 466.5743,-24.5\"/>\n",
       "<ellipse fill=\"#444443\" stroke=\"#444443\" stroke-width=\".5\" cx=\"431.1\" cy=\"-24.5\" rx=\"1.6\" ry=\"1.6\"/>\n",
       "<polygon fill=\"#444443\" stroke=\"#444443\" stroke-width=\".5\" points=\"466.8258,-25.9001 470.8258,-24.5 466.8258,-23.1001 466.8258,-25.9001\"/>\n",
       "</g>\n",
       "<!-- node4618594288 -->\n",
       "<g id=\"node9\" class=\"node\">\n",
       "<title>node4618594288</title>\n",
       "<polygon fill=\"#fefecd\" stroke=\"#444443\" stroke-width=\".5\" points=\"580,-47 506,-47 506,0 580,0 580,-47\"/>\n",
       "<polygon fill=\"#fefecd\" stroke=\"transparent\" points=\"508,-31.5 508,-44.5 578,-44.5 578,-31.5 508,-31.5\"/>\n",
       "<polyline fill=\"none\" stroke=\"#444443\" points=\"508,-31.5 578,-31.5 \"/>\n",
       "<text text-anchor=\"start\" x=\"527.4185\" y=\"-34.7\" font-family=\"Times,serif\" font-style=\"italic\" font-size=\"11.00\" fill=\"#444443\">GNode</text>\n",
       "<polygon fill=\"#fefecd\" stroke=\"transparent\" points=\"508,-29.5 508,-31.5 578,-31.5 578,-29.5 508,-29.5\"/>\n",
       "<polygon fill=\"#fefecd\" stroke=\"transparent\" points=\"508,-16.5 508,-29.5 543,-29.5 543,-16.5 508,-16.5\"/>\n",
       "<polyline fill=\"none\" stroke=\"#444443\" points=\"543,-16.5 543,-29.5 \"/>\n",
       "<text text-anchor=\"start\" x=\"512.647\" y=\"-19.7\" font-family=\"Helvetica,sans-Serif\" font-size=\"11.00\" fill=\"#444443\">value </text>\n",
       "<polygon fill=\"#fefecd\" stroke=\"transparent\" points=\"543,-16.5 543,-29.5 578,-29.5 578,-16.5 543,-16.5\"/>\n",
       "<text text-anchor=\"start\" x=\"543.7288\" y=\"-19.7\" font-family=\"Helvetica,sans-Serif\" font-size=\"11.00\" fill=\"#444443\"> &#39;llama&#39;</text>\n",
       "<polygon fill=\"#fefecd\" stroke=\"transparent\" points=\"508,-14.5 508,-16.5 578,-16.5 578,-14.5 508,-14.5\"/>\n",
       "<polygon fill=\"#fefecd\" stroke=\"transparent\" points=\"508,-1.5 508,-14.5 543,-14.5 543,-1.5 508,-1.5\"/>\n",
       "<polyline fill=\"none\" stroke=\"#444443\" points=\"543,-1.5 543,-14.5 \"/>\n",
       "<text text-anchor=\"start\" x=\"508.9866\" y=\"-4.7\" font-family=\"Helvetica,sans-Serif\" font-size=\"11.00\" fill=\"#444443\">edges </text>\n",
       "<polygon fill=\"#fefecd\" stroke=\"transparent\" points=\"543,-1.5 543,-14.5 578,-14.5 578,-1.5 543,-1.5\"/>\n",
       "<text text-anchor=\"start\" x=\"544\" y=\"-4.7\" font-family=\"Helvetica,sans-Serif\" font-size=\"11.00\" fill=\"#444443\"> &#160;&#160;&#160;</text>\n",
       "</g>\n",
       "<!-- node4618526216&#45;&gt;node4618594288 -->\n",
       "<g id=\"edge10\" class=\"edge\">\n",
       "<title>node4618526216:0&#45;&gt;node4618594288:w</title>\n",
       "<path fill=\"none\" stroke=\"#444443\" stroke-width=\".5\" d=\"M483.5685,-23.5C488.1379,-23.5 495.1529,-23.5 501.8761,-23.5\"/>\n",
       "<polygon fill=\"#444443\" stroke=\"#444443\" stroke-width=\".5\" points=\"502,-24.9001 506,-23.5 502,-22.1001 502,-24.9001\"/>\n",
       "</g>\n",
       "<!-- node4618375368 -->\n",
       "<g id=\"node10\" class=\"node\">\n",
       "<title>node4618375368</title>\n",
       "<text text-anchor=\"start\" x=\"604\" y=\"-4.8\" font-family=\"Times,serif\" font-style=\"italic\" font-size=\"9.00\" fill=\"#444443\">empty list</text>\n",
       "</g>\n",
       "<!-- node4618594288&#45;&gt;node4618375368 -->\n",
       "<g id=\"edge11\" class=\"edge\">\n",
       "<title>node4618594288:c&#45;&gt;node4618375368</title>\n",
       "<path fill=\"none\" stroke=\"#444443\" stroke-width=\".5\" d=\"M564.4654,-7.5C570.8815,-7.5 585.1087,-7.5 597.7316,-7.5\"/>\n",
       "<ellipse fill=\"#444443\" stroke=\"#444443\" stroke-width=\".5\" cx=\"562.6\" cy=\"-7.5\" rx=\"1.6\" ry=\"1.6\"/>\n",
       "<polygon fill=\"#444443\" stroke=\"#444443\" stroke-width=\".5\" points=\"597.9374,-8.9001 601.9373,-7.5 597.9373,-6.1001 597.9374,-8.9001\"/>\n",
       "</g>\n",
       "</g>\n",
       "</svg>\n"
      ],
      "text/plain": [
       "<graphviz.files.Source at 0x1134a28d0>"
      ]
     },
     "execution_count": 98,
     "metadata": {},
     "output_type": "execute_result"
    }
   ],
   "source": [
    "cat = GNode('cat')\n",
    "dog = GNode('dog')\n",
    "horse = GNode('horse')\n",
    "zebra = GNode('zebra')\n",
    "llama = GNode('llama')\n",
    "\n",
    "cat.connect(dog)\n",
    "dog.connect(cat)\n",
    "dog.connect(horse)\n",
    "dog.connect(zebra)\n",
    "horse.connect(zebra)\n",
    "zebra.connect(llama)\n",
    "\n",
    "objviz(cat)"
   ]
  },
  {
   "cell_type": "markdown",
   "metadata": {},
   "source": [
    "# Rationale and general thoughts"
   ]
  },
  {
   "cell_type": "markdown",
   "metadata": {},
   "source": [
    "Because the mind of a hunter-gatherer views the world as a collection\n",
    "of objects that interact by sending messages, an OO programming paradigm\n",
    "maps well to the real world problems we try to simulate via computer.\n",
    "Further, we are at our best when programming the way our minds are\n",
    "hardwired to think.\n",
    "\n",
    "In general when writing software, we try to map real-world entities onto programming constructs. If we take a word problem, the nouns typically become objects and the verbs typically become methods within these objects.\n",
    "\n",
    "Because we can specify how differently-typed objects are similar,\n",
    "we can define new objects as they differ from existing objects.\n",
    "By correctly relating similar classes by their category/commonality/\n",
    "similarity, code reuse occurs as a side-effect of inheritance.\n",
    "\n",
    "Non-OO languages are inflexible/brittle because the exact type\n",
    "of variables must be specified.  In OO languages, *polymorphism* is the ability to refer to groups of similar but different types using a single type reference."
   ]
  }
 ],
 "metadata": {
  "kernelspec": {
   "display_name": "Python 3",
   "language": "python",
   "name": "python3"
  },
  "language_info": {
   "codemirror_mode": {
    "name": "ipython",
    "version": 3
   },
   "file_extension": ".py",
   "mimetype": "text/x-python",
   "name": "python",
   "nbconvert_exporter": "python",
   "pygments_lexer": "ipython3",
   "version": "3.6.5"
  },
  "toc": {
   "colors": {
    "hover_highlight": "#DAA520",
    "navigate_num": "#000000",
    "navigate_text": "#333333",
    "running_highlight": "#FF0000",
    "selected_highlight": "#FFD700",
    "sidebar_border": "#EEEEEE",
    "wrapper_background": "#FFFFFF"
   },
   "moveMenuLeft": true,
   "nav_menu": {
    "height": "178px",
    "width": "252px"
   },
   "navigate_menu": true,
   "number_sections": true,
   "sideBar": true,
   "threshold": 4,
   "toc_cell": false,
   "toc_section_display": "block",
   "toc_window_display": false,
   "widenNotebook": false
  }
 },
 "nbformat": 4,
 "nbformat_minor": 2
}
