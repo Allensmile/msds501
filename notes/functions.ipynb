{
 "cells": [
  {
   "cell_type": "markdown",
   "metadata": {},
   "source": [
    "# Organizing your code with functions\n",
    "\n",
    "<img src=\"images/pestle.png\" width=\"75\" align=\"right\">Years ago I learned to make Thai red curry paste from scratch, including roasting then grinding seeds and pounding stuff in a giant mortar and pestle. It takes forever and so I generally buy curry paste ready-made from the store.\n",
    "\n",
    "<img src=\"images/redcurry.jpeg\" width=\"70\" align=\"right\">Similarly, most cookbooks provide a number of fundamental recipes, such as making sauces, that are used by other recipes. A cookbook is organized into a series of executable recipes, some of which \"invoke\" other recipes. To make dinner, I open a cookbook, acquire some raw ingredients, then execute one or more recipes, usually in a specific sequence.\n",
    "\n",
    "Writing a program proceeds in the same way. Opening a cookbook is the same as importing libraries. Acquiring raw ingredients could mean loading data into the memory. The main program  invokes functions (recipes) to accomplish a particular task. As part of writing a program, we will typically break out logical sections of code into functions specific to our problem, whereas the functions in libraries tend to be broadly-applicable. \n",
    "\n",
    "The way we organize our code is important. Programs quickly become an incomprehensible rats nest if we are not strict about style and organization. Here is the general structure of the Python programs we will write:\n",
    "\n",
    "*import any libraries*<br>\n",
    "*define any constants, simple data values*<br>\n",
    "*define any functions*<br>\n",
    "*main program body*"
   ]
  },
  {
   "cell_type": "markdown",
   "metadata": {},
   "source": [
    "## Functions are subprograms\n",
    "\n",
    "A sequence of operations grouped into a single, named entity is called a **function**. Functions are like mini programs or subprograms that we can plan out just like full programs.  \n",
    "\n",
    "Python **programs** consist of zero or more functions and the so-called \"main\" program, consisting of a sequence of operations that gets the ball rolling.\n",
    "\n",
    "Instead of loading data from the disk, functions operate on data given to them from the invoking program. This incoming data is analogous to a recipe's list of ingredients and is specified in the form of one or more named *parameters* (also called *arguments*). Instead of printing a result or displaying a graph, as a program would, functions *return* values. Functions are meant as helper routines that are generically useful.\n",
    "\n",
    "We begin planning a function by identifying:\n",
    " \n",
    "1. a descriptive function name\n",
    "2. the kind of value(s) it operates on (parameter types)\n",
    "3. the kind of value it returns (return type)\n",
    "4. what the function does and the value it returns\n",
    "\n",
    "If we can't specifying exactly what goes in and out of the function, there's no hope of determining the processing steps, let alone Python code, to implement that function.\n",
    "\n",
    "As with a program's work plan, we then manually write out some sample function invocations to show what data goes in and what data comes out. \n",
    "\n",
    "Once we fully understand our goal, we plan out the sequence of operations needed by the function to compute the desired result.  As when designing a whole program, we start with the return value and work our way backwards, identifying operations in reverse order. Note: The operations should be purely a function of the data passed to them as parameters---functions should be completely ignorant of any other data. (More on this when we actually translate function pseudocode to Python.) "
   ]
  },
  {
   "cell_type": "markdown",
   "metadata": {},
   "source": [
    "## Function templates\n",
    "\n",
    "Python functions are like black boxes that, in general, accept input data and yield (return) values. Each invocation of a function triggers the execution of the code associated with that function and returns a result value or values. For example, here is a function called `pi` that takes no parameters but returns value 3.14159 each time it is called:"
   ]
  },
  {
   "cell_type": "code",
   "execution_count": 1,
   "metadata": {
    "collapsed": true
   },
   "outputs": [],
   "source": [
    "def pi():\n",
    "    return 3.14159"
   ]
  },
  {
   "cell_type": "markdown",
   "metadata": {},
   "source": [
    "The code template for a function with no arguments is:\n",
    "\n",
    "`def` *<ins>funcname</ins>*`()`:<br>\n",
    "&nbsp;&nbsp;&nbsp;&nbsp;*<ins>statement 1</ins>*<br>\n",
    "&nbsp;&nbsp;&nbsp;&nbsp;*<ins>statement 2</ins>*<br>\n",
    "&nbsp;&nbsp;&nbsp;&nbsp;*...*<br>\n",
    "&nbsp;&nbsp;&nbsp;&nbsp;`return` *<ins>expression</ins>*<br>\n",
    "\n",
    "with holes for the function name, statements associated with a function, and an expression describing the return value. Functions that have no return value skip the `return` statement.\n",
    "\n",
    "<img src=\"images/redbang.png\" width=\"30\" align=\"left\"> The way that we associate statements with a function in Python is by indentation.  So `return 3.14159` is part of the function because it is indented after the function header. The first statement that begins in the same column as the `def` is first statement outside of the function."
   ]
  },
  {
   "cell_type": "code",
   "execution_count": 2,
   "metadata": {},
   "outputs": [
    {
     "name": "stdout",
     "output_type": "stream",
     "text": [
      "this is not part of function\n"
     ]
    }
   ],
   "source": [
    "def pi():\n",
    "    return 3.14159\n",
    "print(\"this is not part of function\")"
   ]
  },
  {
   "cell_type": "markdown",
   "metadata": {},
   "source": [
    "<img src=\"images/redbang.png\" width=\"30\" align=\"left\">*The Python interpreter does not execute the code inside the function unless we directly invoke that function.*  Python sees the function definition as just that: a \"recipe\" definition that we can call if we want."
   ]
  },
  {
   "cell_type": "markdown",
   "metadata": {},
   "source": [
    "The *definition* of a function is different than invoking  or *calling* a function. Calling a function requires the function name and any argument values. In this case, we don't have any arguments so we call the function as just `pi()`:"
   ]
  },
  {
   "cell_type": "code",
   "execution_count": 3,
   "metadata": {
    "collapsed": false
   },
   "outputs": [
    {
     "data": {
      "text/plain": [
       "3.14159"
      ]
     },
     "execution_count": 3,
     "metadata": {},
     "output_type": "execute_result"
    }
   ],
   "source": [
    "pi()"
   ]
  },
  {
   "cell_type": "code",
   "execution_count": 4,
   "metadata": {},
   "outputs": [
    {
     "data": {
      "text/plain": [
       "<function __main__.pi()>"
      ]
     },
     "execution_count": 4,
     "metadata": {},
     "output_type": "execute_result"
    }
   ],
   "source": [
    "pi"
   ]
  },
  {
   "cell_type": "markdown",
   "metadata": {},
   "source": [
    "We don't need a print statement because we are executing inside a notebook, not a Python program.  If this were in a regular Python program, we would need a print statement: `print(pi())`, but of course that also works here. \n",
    "\n",
    "Every invocation of that function evaluates to the value 3.14159.  The function `return`s a value but `print`s nothing. For example, Jupyter notebooks or the Python interactive shell does not print anything if we assign the result to variable:"
   ]
  },
  {
   "cell_type": "code",
   "execution_count": 5,
   "metadata": {
    "collapsed": true
   },
   "outputs": [],
   "source": [
    "x = pi()"
   ]
  },
  {
   "cell_type": "markdown",
   "metadata": {},
   "source": [
    "We distinguish between functions and variables syntactically by always putting the parentheses next to the function name. I.e., `pi` is a variable reference but `pi()` is a function call.\n",
    "\n",
    "Some functions don't have return values, such as a function that displays an image in a window. It has a *side effect* of altering the display but does not really have a return value.  The `return` statement is omitted if the function does not return a value. Here's a contrived side-effecting example that does not need to return a value:"
   ]
  },
  {
   "cell_type": "code",
   "execution_count": 6,
   "metadata": {
    "collapsed": false
   },
   "outputs": [
    {
     "name": "stdout",
     "output_type": "stream",
     "text": [
      "hi\n"
     ]
    }
   ],
   "source": [
    "def hi():\n",
    "    print('hi')\n",
    "\n",
    "hi()"
   ]
  },
  {
   "cell_type": "markdown",
   "metadata": {},
   "source": [
    "If you try to use the value of a function that lacks a `return`, Python gives you the so-called `None` value."
   ]
  },
  {
   "cell_type": "code",
   "execution_count": 7,
   "metadata": {
    "collapsed": false
   },
   "outputs": [
    {
     "name": "stdout",
     "output_type": "stream",
     "text": [
      "hi\n",
      "None\n"
     ]
    }
   ],
   "source": [
    "x = hi()\n",
    "print(x)"
   ]
  },
  {
   "cell_type": "markdown",
   "metadata": {},
   "source": [
    "Naturally, we can also return strings, not just numbers. For example here's a function called `hello` that does nothing but return string `'hello'`:"
   ]
  },
  {
   "cell_type": "code",
   "execution_count": 8,
   "metadata": {
    "collapsed": true
   },
   "outputs": [],
   "source": [
    "def hello():\n",
    "    return \"hello\""
   ]
  },
  {
   "cell_type": "code",
   "execution_count": 9,
   "metadata": {},
   "outputs": [
    {
     "name": "stdout",
     "output_type": "stream",
     "text": [
      "parrt 5707\n"
     ]
    }
   ],
   "source": [
    "def parrt():\n",
    "    return \"parrt\", 5707\n",
    "\n",
    "id, phone = parrt()\n",
    "\n",
    "print(id, phone)"
   ]
  },
  {
   "cell_type": "markdown",
   "metadata": {},
   "source": [
    "Turning to the more interesting cases now, here is the template for a function with one argument:\n",
    "\n",
    "`def` *funcname*`(`*argname*`)`:<br>\n",
    "&nbsp;&nbsp;&nbsp;&nbsp;*statement 1*<br>\n",
    "&nbsp;&nbsp;&nbsp;&nbsp;*statement 2*<br>\n",
    "&nbsp;&nbsp;&nbsp;&nbsp;*...*<br>\n",
    "&nbsp;&nbsp;&nbsp;&nbsp;`return` *expression*<br>\n",
    "\n",
    "If there are two arguments, the function header looks like:\n",
    "\n",
    "`def` *funcname*`(`*argname1*, *argname2*`)`:<br>\n",
    "\n",
    "Our job as programmers is to pick a descriptive function name, argument name(s), and statements within the function as per our function workplan.\n",
    "\n",
    "**Invoking a function** with arguments looks like *funcname*`(`*expression*`)` or *funcname*`(`*expression1*`,` *expression2*`)` etc... The order of the arguments matters. Python matches the first expression with the first argument name given in the function definition.\n",
    "\n",
    "Let's take a look at some of the code snippets from [Programming Patterns in Python](python-patterns.ipynb) and see if we can abstract some useful functions."
   ]
  },
  {
   "cell_type": "markdown",
   "metadata": {},
   "source": [
    "## Sum function\n",
    "\n",
    "In [Model of Computation](computation.ipynb), we saw code to translate mathematical Sigma notation to python and so this code to sum the values in a list should be pretty familiar to you:"
   ]
  },
  {
   "cell_type": "code",
   "execution_count": 10,
   "metadata": {
    "collapsed": false
   },
   "outputs": [
    {
     "data": {
      "text/plain": [
       "207"
      ]
     },
     "execution_count": 10,
     "metadata": {},
     "output_type": "execute_result"
    }
   ],
   "source": [
    "Quantity = [6, 49, 27, 30, 19, 21, 12, 22, 21]\n",
    "sum = 0\n",
    "for q in Quantity:\n",
    "    sum = sum + q\n",
    "sum"
   ]
  },
  {
   "cell_type": "markdown",
   "metadata": {},
   "source": [
    "This operation is accumulator and there is an associated code template, which you should memorize. Any time somebody says accumulator, you should think loop around a partial result update preceded by initialization of that result."
   ]
  },
  {
   "cell_type": "markdown",
   "metadata": {},
   "source": [
    "Summing values is very common so let's encapsulate the functionality in a function to avoid  having to cut-and-paste the code template all the time. Our black box with a few sample \"input-output\" pairs from a function plan looks like:\n",
    "\n",
    "<img src=\"images/sum-func.png\" width=\"180\">\n",
    "\n",
    "(Laying out the examples like that made us realize that we need to worry about empty lists.)\n",
    "\n",
    "We group the summing functionality into a function by indenting it and then adding a function header:"
   ]
  },
  {
   "cell_type": "code",
   "execution_count": 11,
   "metadata": {
    "collapsed": false
   },
   "outputs": [
    {
     "data": {
      "text/plain": [
       "207"
      ]
     },
     "execution_count": 11,
     "metadata": {},
     "output_type": "execute_result"
    }
   ],
   "source": [
    "def sum(data):\n",
    "    s = 0\n",
    "    for q in data:\n",
    "        s = s + q\n",
    "    return s # return accumulated value s to invoker (this is not a print statement!)\n",
    "\n",
    "Quantity = [6, 49, 27, 30, 19, 21, 12, 22, 21]\n",
    "sum(Quantity) # call sum with a specific list\n",
    "sum(data=Quantity) # implicit assignment here"
   ]
  },
  {
   "cell_type": "markdown",
   "metadata": {},
   "source": [
    "The key benefit of this function version is that now we have some generic code that we can invoke with a simple call to `sum`. The argument to the function is the list of data to sum and so the for loop refers to it than the specific `Quantity` variable. (Notice that the variable inside the function is now `s` not `sum` to avoid confusion with the function name.) "
   ]
  },
  {
   "cell_type": "code",
   "execution_count": 12,
   "metadata": {},
   "outputs": [
    {
     "data": {
      "text/plain": [
       "6"
      ]
     },
     "execution_count": 12,
     "metadata": {},
     "output_type": "execute_result"
    }
   ],
   "source": [
    "sum([1,2,3])"
   ]
  },
  {
   "cell_type": "markdown",
   "metadata": {},
   "source": [
    "You might be tempted to build a function that directly references the `Quantity` global list instead of a parameter:\n",
    "\n",
    "```python\n",
    "# OMG, this is so horrible I find it difficult to type!\n",
    "def sum():\n",
    "    s = 0\n",
    "    for q in Quantity:\n",
    "        s = s + q\n",
    "    return s\n",
    "```\n",
    "\n",
    "The problem is this function now only works with one list and is in no way generically useful. This defeats the purpose of creating the function because it's not reusable.\n",
    " \n",
    "Since the real function accepts a list parameter, we can pass another list to the function:"
   ]
  },
  {
   "cell_type": "code",
   "execution_count": 13,
   "metadata": {
    "collapsed": false
   },
   "outputs": [
    {
     "name": "stdout",
     "output_type": "stream",
     "text": [
      "44\n",
      "25\n",
      "0\n"
     ]
    }
   ],
   "source": [
    "ages = [10, 21, 13]\n",
    "print(sum(ages))\n",
    "print(sum([1,3,5,7,9]))\n",
    "print(sum([ ])) # Empty list"
   ]
  },
  {
   "cell_type": "markdown",
   "metadata": {},
   "source": [
    "Another thing to learn is that Python allows us to name the arguments as we passed them to a function:"
   ]
  },
  {
   "cell_type": "code",
   "execution_count": 14,
   "metadata": {},
   "outputs": [
    {
     "data": {
      "text/plain": [
       "44"
      ]
     },
     "execution_count": 14,
     "metadata": {},
     "output_type": "execute_result"
    }
   ],
   "source": [
    "sum(data=ages)"
   ]
  },
  {
   "cell_type": "markdown",
   "metadata": {},
   "source": [
    "The function call, or invocation, `sum(Quantity)` passes the data to the function. The function returns a value and so the function call is considered to evaluate to a value, which we can print out as shown above. Like any value, we can assign the result of calling a function to a variable:"
   ]
  },
  {
   "cell_type": "code",
   "execution_count": 15,
   "metadata": {
    "collapsed": false
   },
   "outputs": [
    {
     "data": {
      "text/plain": [
       "207"
      ]
     },
     "execution_count": 15,
     "metadata": {},
     "output_type": "execute_result"
    }
   ],
   "source": [
    "x = sum(Quantity)  # call sum and save result in x\n",
    "x"
   ]
  },
  {
   "cell_type": "markdown",
   "metadata": {},
   "source": [
    "Please remember that returning a value from a function is not the same thing as printing, which is a side-effect. Only the `print` statement prints a value to the console when running a program. *Don't confuse executing a program with the interactive Python console (or this notebook), which automatically prints out the value of each expression we type.* For example:\n",
    "\n",
    "```python\n",
    ">>> 34\n",
    "34\n",
    ">>> 34+100\n",
    "134\n",
    ">>> \n",
    "```"
   ]
  },
  {
   "cell_type": "markdown",
   "metadata": {},
   "source": [
    "The `sum` function has one parameter but it's also common to have functions with two parameters."
   ]
  },
  {
   "cell_type": "markdown",
   "metadata": {
    "heading_collapsed": true
   },
   "source": [
    "### Exercise\n",
    "\n",
    "Write a function called `neg` that takes one number parameter `x` and returns the negative of `x`."
   ]
  },
  {
   "cell_type": "code",
   "execution_count": 16,
   "metadata": {
    "collapsed": true,
    "hidden": true
   },
   "outputs": [],
   "source": [
    "def neg(x): return -x"
   ]
  },
  {
   "cell_type": "markdown",
   "metadata": {
    "heading_collapsed": true
   },
   "source": [
    "### Exercise\n",
    "\n",
    "Write a function called `add` the takes 2 number parameters, `x` and `y`, and returns the addition of the two parameters."
   ]
  },
  {
   "cell_type": "code",
   "execution_count": 17,
   "metadata": {
    "collapsed": false,
    "hidden": true
   },
   "outputs": [
    {
     "name": "stdout",
     "output_type": "stream",
     "text": [
      "99\n",
      "99\n"
     ]
    }
   ],
   "source": [
    "def max(x,y): return x if x>y else y\n",
    "\n",
    "#same as:\n",
    "#if x>y: return x\n",
    "#else: return y\n",
    "\n",
    "# test it\n",
    "print(max(10,99))\n",
    "print(max(99,10))"
   ]
  },
  {
   "cell_type": "markdown",
   "metadata": {},
   "source": [
    "Notice that once we use the argument names, the order does not matter:"
   ]
  },
  {
   "cell_type": "code",
   "execution_count": 18,
   "metadata": {},
   "outputs": [
    {
     "name": "stdout",
     "output_type": "stream",
     "text": [
      "99\n",
      "99\n"
     ]
    }
   ],
   "source": [
    "print(max(x=10, y=99))\n",
    "print(max(y=99, x=10))"
   ]
  },
  {
   "cell_type": "markdown",
   "metadata": {
    "heading_collapsed": true
   },
   "source": [
    "### Exercise\n",
    "\n",
    "Write a function called `area` that takes a radius `r` parameter and returns the area of a circle with that radius (&pi;`r`<sup>2</sup>). Hint: Recall that the `math` package has a variable called `pi`."
   ]
  },
  {
   "cell_type": "code",
   "execution_count": 19,
   "metadata": {
    "collapsed": false,
    "hidden": true
   },
   "outputs": [
    {
     "data": {
      "text/plain": [
       "(3.141592653589793, 12.566370614359172)"
      ]
     },
     "execution_count": 19,
     "metadata": {},
     "output_type": "execute_result"
    }
   ],
   "source": [
    "import math\n",
    "def area(r): return math.pi * r**2  # ** is the power operator\n",
    "\n",
    "# test it\n",
    "area(1), area(r=2)"
   ]
  },
  {
   "cell_type": "markdown",
   "metadata": {
    "heading_collapsed": true
   },
   "source": [
    "### Exercise\n",
    "\n",
    "Write a Python function called `words` that accepts a string, `doc`, containing a sequence of words separated by a single space character and returns a list of words in lowercase. An argument of `'X Y z'` should return a list with value `['x', 'y', 'z']`. Hint: `'HI'.lower()` evaluates to `'hi'`."
   ]
  },
  {
   "cell_type": "code",
   "execution_count": 20,
   "metadata": {
    "collapsed": false,
    "hidden": true
   },
   "outputs": [
    {
     "data": {
      "text/plain": [
       "['terence', 'parr', 'is', 'the', 'instructor', 'of', 'msan501']"
      ]
     },
     "execution_count": 20,
     "metadata": {},
     "output_type": "execute_result"
    }
   ],
   "source": [
    "def words(doc:str) -> list:\n",
    "    words = doc.split(' ')\n",
    "    return [w.lower() for w in words]\n",
    "\n",
    "# OR\n",
    "\n",
    "def words(doc):\n",
    "    doc = doc.lower()\n",
    "    return doc.split(' ')\n",
    "\n",
    "# OR\n",
    "\n",
    "def words(doc): return doc.lower().split(' ')\n",
    "\n",
    "words('Terence Parr is the instructor of MSAN501')"
   ]
  },
  {
   "cell_type": "markdown",
   "metadata": {},
   "source": [
    "## Search function\n",
    "\n",
    "We've seen code to search for a list element, but the specific element and specific list were *hardcoded*.  That is to say, the code only worked with specific values and was not generic:"
   ]
  },
  {
   "cell_type": "code",
   "execution_count": 21,
   "metadata": {
    "collapsed": false
   },
   "outputs": [
    {
     "data": {
      "text/plain": [
       "1"
      ]
     },
     "execution_count": 21,
     "metadata": {},
     "output_type": "execute_result"
    }
   ],
   "source": [
    "first=['Xue', 'Mary', 'Robert']     # our given input\n",
    "target = 'Mary'                     # searching for Mary\n",
    "index = -1\n",
    "for i in range(len(first)):         # i is in range [0..n-1] or [0..n)\n",
    "    if first[i]==target:\n",
    "        index = i\n",
    "        break\n",
    "index"
   ]
  },
  {
   "cell_type": "markdown",
   "metadata": {},
   "source": [
    "It would be nice to have a function we can call because searching is so common. To get started, we can just wrap the logic associated with searching in a function by indenting and adding a function header. But, we should also change the name of the list so that it is more generic and make it a parameter (same with the search target)."
   ]
  },
  {
   "cell_type": "code",
   "execution_count": 22,
   "metadata": {
    "collapsed": false
   },
   "outputs": [
    {
     "name": "stdout",
     "output_type": "stream",
     "text": [
      "1\n"
     ]
    }
   ],
   "source": [
    "def search(x, data):\n",
    "    index = -1\n",
    "    for i in range(len(data)):         # i is in range [0..n-1] or [0..n)\n",
    "        if data[i]==x:\n",
    "            index = i\n",
    "            break\n",
    "    print(index)\n",
    "\n",
    "first=['Xue', 'Mary', 'Robert']\n",
    "search('Mary', first) # invoke search with 2 parameters"
   ]
  },
  {
   "cell_type": "markdown",
   "metadata": {},
   "source": [
    "We are now passing two arguments to the function: `x` is the element to find and `data` is the list to search. Anytime we want, we can search a list for an element just by calling `search`:"
   ]
  },
  {
   "cell_type": "code",
   "execution_count": 23,
   "metadata": {
    "collapsed": false
   },
   "outputs": [
    {
     "name": "stdout",
     "output_type": "stream",
     "text": [
      "0\n",
      "2\n"
     ]
    },
    {
     "data": {
      "text/plain": [
       "(None, None)"
      ]
     },
     "execution_count": 23,
     "metadata": {},
     "output_type": "execute_result"
    }
   ],
   "source": [
    "search('Xue', first), search('Robert', first)"
   ]
  },
  {
   "cell_type": "code",
   "execution_count": 24,
   "metadata": {
    "collapsed": false
   },
   "outputs": [
    {
     "name": "stdout",
     "output_type": "stream",
     "text": [
      "-1\n"
     ]
    }
   ],
   "source": [
    "# It is a good idea to test the failure case\n",
    "search('Jim', first)"
   ]
  },
  {
   "cell_type": "markdown",
   "metadata": {},
   "source": [
    "It turns out we can simplify that function by replacing the `break` statement with a `return` statement. Whereas a break statement breaks out of the immediately enclosing loop, the return statement returns from the function no matter where it appears in the function. In the current version, if we find the element, the `break` statement breaks out of the loop and forces the processor to execute the statement following the loop, which is the `return` statement. Because the return statement takes an expression argument, we don't need to track the index in a separate variable. *The `return` statement forces the processor to immediately exit the function and return the specified value.* In effect, then the `return` breaks out of the loop first then the function.\n",
    "\n",
    "Here is the way the cool kids would write that function:"
   ]
  },
  {
   "cell_type": "code",
   "execution_count": 25,
   "metadata": {
    "collapsed": false
   },
   "outputs": [
    {
     "name": "stdout",
     "output_type": "stream",
     "text": [
      "1\n",
      "0\n",
      "-1\n"
     ]
    }
   ],
   "source": [
    "def search(x, data):\n",
    "    for i in range(len(data)):  # i is in range [0..n-1] or [0..n)\n",
    "        if data[i]==x:\n",
    "            return i            # found element, return the current index i\n",
    "    return -1                   # failure case; we did not return from inside loop\n",
    "\n",
    "print(search('Mary', first))\n",
    "print(search('Xue', first))\n",
    "print(search('foo', first))"
   ]
  },
  {
   "cell_type": "markdown",
   "metadata": {},
   "source": [
    "## Visibility of symbols\n",
    "\n",
    "Variables created outside of a function are so-called *global variables* because they live in the global space (or frame). For example, let's revisit the non-function version of the sum accumulator where I have added a call to lolviz library to display three global variables inside the loop:"
   ]
  },
  {
   "cell_type": "code",
   "execution_count": 33,
   "metadata": {
    "collapsed": true
   },
   "outputs": [
    {
     "data": {
      "image/svg+xml": [
       "<?xml version=\"1.0\" encoding=\"UTF-8\" standalone=\"no\"?>\n",
       "<!DOCTYPE svg PUBLIC \"-//W3C//DTD SVG 1.1//EN\"\n",
       " \"http://www.w3.org/Graphics/SVG/1.1/DTD/svg11.dtd\">\n",
       "<!-- Generated by graphviz version 2.40.1 (20161225.0304)\n",
       " -->\n",
       "<!-- Title: G Pages: 1 -->\n",
       "<svg width=\"236pt\" height=\"63pt\"\n",
       " viewBox=\"0.00 0.00 236.00 62.50\" xmlns=\"http://www.w3.org/2000/svg\" xmlns:xlink=\"http://www.w3.org/1999/xlink\">\n",
       "<g id=\"graph0\" class=\"graph\" transform=\"scale(1 1) rotate(0) translate(4 58.5)\">\n",
       "<title>G</title>\n",
       "<polygon fill=\"#ffffff\" stroke=\"transparent\" points=\"-4,4 -4,-58.5 232,-58.5 232,4 -4,4\"/>\n",
       "<!-- node4400737640 -->\n",
       "<g id=\"node1\" class=\"node\">\n",
       "<title>node4400737640</title>\n",
       "<polygon fill=\"#d9e6f5\" stroke=\"#444443\" stroke-width=\".5\" points=\"64,-54.5 0,-54.5 0,-7.5 64,-7.5 64,-54.5\"/>\n",
       "<polygon fill=\"#d9e6f5\" stroke=\"transparent\" points=\"2,-39 2,-52 62,-52 62,-39 2,-39\"/>\n",
       "<polyline fill=\"none\" stroke=\"#444443\" points=\"2,-39 62,-39 \"/>\n",
       "<text text-anchor=\"start\" x=\"15.8035\" y=\"-42.2\" font-family=\"Times,serif\" font-style=\"italic\" font-size=\"11.00\" fill=\"#444443\">globals</text>\n",
       "<polygon fill=\"#d9e6f5\" stroke=\"transparent\" points=\"2,-37 2,-39 62,-39 62,-37 2,-37\"/>\n",
       "<polygon fill=\"#d9e6f5\" stroke=\"transparent\" points=\"2,-24 2,-37 48,-37 48,-24 2,-24\"/>\n",
       "<polyline fill=\"none\" stroke=\"#444443\" points=\"48,-24 48,-37 \"/>\n",
       "<text text-anchor=\"start\" x=\"23.1631\" y=\"-27.2\" font-family=\"Helvetica,sans-Serif\" font-size=\"11.00\" fill=\"#444443\">sum </text>\n",
       "<polygon fill=\"#d9e6f5\" stroke=\"transparent\" points=\"48,-24 48,-37 62,-37 62,-24 48,-24\"/>\n",
       "<text text-anchor=\"start\" x=\"49\" y=\"-27.2\" font-family=\"Helvetica,sans-Serif\" font-size=\"11.00\" fill=\"#444443\"> 0</text>\n",
       "<polygon fill=\"#d9e6f5\" stroke=\"transparent\" points=\"2,-22 2,-24 62,-24 62,-22 2,-22\"/>\n",
       "<polygon fill=\"#d9e6f5\" stroke=\"transparent\" points=\"2,-9 2,-22 48,-22 48,-9 2,-9\"/>\n",
       "<polyline fill=\"none\" stroke=\"#444443\" points=\"48,-9 48,-22 \"/>\n",
       "<text text-anchor=\"start\" x=\"2.9893\" y=\"-12.2\" font-family=\"Helvetica,sans-Serif\" font-size=\"11.00\" fill=\"#444443\">Quantity </text>\n",
       "<polygon fill=\"#d9e6f5\" stroke=\"transparent\" points=\"48,-9 48,-22 62,-22 62,-9 48,-9\"/>\n",
       "<text text-anchor=\"start\" x=\"48.8877\" y=\"-12.2\" font-family=\"Helvetica,sans-Serif\" font-size=\"11.00\" fill=\"#444443\"> &#160;&#160;&#160;</text>\n",
       "</g>\n",
       "<!-- node4399267208 -->\n",
       "<g id=\"node2\" class=\"node\">\n",
       "<title>node4399267208</title>\n",
       "<polygon fill=\"none\" stroke=\"#000000\" stroke-width=\".5\" points=\"228,-30 72,-30 72,0 228,0 228,-30\"/>\n",
       "<polygon fill=\"#fefecd\" stroke=\"transparent\" points=\"73,-18 73,-29 85,-29 85,-18 73,-18\"/>\n",
       "<polyline fill=\"none\" stroke=\"#000000\" points=\"73,-18 85,-18 85,-29 \"/>\n",
       "<text text-anchor=\"start\" x=\"76.4973\" y=\"-20.8\" font-family=\"Helvetica,sans-Serif\" font-size=\"9.00\" fill=\"#444443\">0</text>\n",
       "<polygon fill=\"#fefecd\" stroke=\"transparent\" points=\"85,-18 85,-29 103,-29 103,-18 85,-18\"/>\n",
       "<polyline fill=\"none\" stroke=\"#000000\" points=\"85,-18 103,-18 103,-29 \"/>\n",
       "<text text-anchor=\"start\" x=\"91.4973\" y=\"-20.8\" font-family=\"Helvetica,sans-Serif\" font-size=\"9.00\" fill=\"#444443\">1</text>\n",
       "<polygon fill=\"#fefecd\" stroke=\"transparent\" points=\"103,-18 103,-29 121,-29 121,-18 103,-18\"/>\n",
       "<polyline fill=\"none\" stroke=\"#000000\" points=\"103,-18 121,-18 121,-29 \"/>\n",
       "<text text-anchor=\"start\" x=\"109.4973\" y=\"-20.8\" font-family=\"Helvetica,sans-Serif\" font-size=\"9.00\" fill=\"#444443\">2</text>\n",
       "<polygon fill=\"#fefecd\" stroke=\"transparent\" points=\"121,-18 121,-29 139,-29 139,-18 121,-18\"/>\n",
       "<polyline fill=\"none\" stroke=\"#000000\" points=\"121,-18 139,-18 139,-29 \"/>\n",
       "<text text-anchor=\"start\" x=\"127.4973\" y=\"-20.8\" font-family=\"Helvetica,sans-Serif\" font-size=\"9.00\" fill=\"#444443\">3</text>\n",
       "<polygon fill=\"#fefecd\" stroke=\"transparent\" points=\"139,-18 139,-29 157,-29 157,-18 139,-18\"/>\n",
       "<polyline fill=\"none\" stroke=\"#000000\" points=\"139,-18 157,-18 157,-29 \"/>\n",
       "<text text-anchor=\"start\" x=\"145.4973\" y=\"-20.8\" font-family=\"Helvetica,sans-Serif\" font-size=\"9.00\" fill=\"#444443\">4</text>\n",
       "<polygon fill=\"#fefecd\" stroke=\"transparent\" points=\"157,-18 157,-29 175,-29 175,-18 157,-18\"/>\n",
       "<polyline fill=\"none\" stroke=\"#000000\" points=\"157,-18 175,-18 175,-29 \"/>\n",
       "<text text-anchor=\"start\" x=\"163.4973\" y=\"-20.8\" font-family=\"Helvetica,sans-Serif\" font-size=\"9.00\" fill=\"#444443\">5</text>\n",
       "<polygon fill=\"#fefecd\" stroke=\"transparent\" points=\"175,-18 175,-29 193,-29 193,-18 175,-18\"/>\n",
       "<polyline fill=\"none\" stroke=\"#000000\" points=\"175,-18 193,-18 193,-29 \"/>\n",
       "<text text-anchor=\"start\" x=\"181.4973\" y=\"-20.8\" font-family=\"Helvetica,sans-Serif\" font-size=\"9.00\" fill=\"#444443\">6</text>\n",
       "<polygon fill=\"#fefecd\" stroke=\"transparent\" points=\"193,-18 193,-29 211,-29 211,-18 193,-18\"/>\n",
       "<polyline fill=\"none\" stroke=\"#000000\" points=\"193,-18 211,-18 211,-29 \"/>\n",
       "<text text-anchor=\"start\" x=\"199.4973\" y=\"-20.8\" font-family=\"Helvetica,sans-Serif\" font-size=\"9.00\" fill=\"#444443\">7</text>\n",
       "<polygon fill=\"#fefecd\" stroke=\"transparent\" points=\"211,-18 211,-29 227,-29 227,-18 211,-18\"/>\n",
       "<polyline fill=\"none\" stroke=\"#000000\" points=\"211,-18 227,-18 \"/>\n",
       "<text text-anchor=\"start\" x=\"216.4973\" y=\"-20.8\" font-family=\"Helvetica,sans-Serif\" font-size=\"9.00\" fill=\"#444443\">8</text>\n",
       "<polygon fill=\"#fefecd\" stroke=\"transparent\" points=\"73,-1 73,-18 85,-18 85,-1 73,-1\"/>\n",
       "<polyline fill=\"none\" stroke=\"#000000\" points=\"85,-1 85,-18 \"/>\n",
       "<text text-anchor=\"start\" x=\"75.9412\" y=\"-6.2\" font-family=\"Helvetica,sans-Serif\" font-size=\"11.00\" fill=\"#444443\">6</text>\n",
       "<polygon fill=\"#fefecd\" stroke=\"transparent\" points=\"85,-1 85,-18 103,-18 103,-1 85,-1\"/>\n",
       "<polyline fill=\"none\" stroke=\"#000000\" points=\"103,-1 103,-18 \"/>\n",
       "<text text-anchor=\"start\" x=\"87.8823\" y=\"-6.2\" font-family=\"Helvetica,sans-Serif\" font-size=\"11.00\" fill=\"#444443\">49</text>\n",
       "<polygon fill=\"#fefecd\" stroke=\"transparent\" points=\"103,-1 103,-18 121,-18 121,-1 103,-1\"/>\n",
       "<polyline fill=\"none\" stroke=\"#000000\" points=\"121,-1 121,-18 \"/>\n",
       "<text text-anchor=\"start\" x=\"105.8823\" y=\"-6.2\" font-family=\"Helvetica,sans-Serif\" font-size=\"11.00\" fill=\"#444443\">27</text>\n",
       "<polygon fill=\"#fefecd\" stroke=\"transparent\" points=\"121,-1 121,-18 139,-18 139,-1 121,-1\"/>\n",
       "<polyline fill=\"none\" stroke=\"#000000\" points=\"139,-1 139,-18 \"/>\n",
       "<text text-anchor=\"start\" x=\"123.8823\" y=\"-6.2\" font-family=\"Helvetica,sans-Serif\" font-size=\"11.00\" fill=\"#444443\">30</text>\n",
       "<polygon fill=\"#fefecd\" stroke=\"transparent\" points=\"139,-1 139,-18 157,-18 157,-1 139,-1\"/>\n",
       "<polyline fill=\"none\" stroke=\"#000000\" points=\"157,-1 157,-18 \"/>\n",
       "<text text-anchor=\"start\" x=\"141.8823\" y=\"-6.2\" font-family=\"Helvetica,sans-Serif\" font-size=\"11.00\" fill=\"#444443\">19</text>\n",
       "<polygon fill=\"#fefecd\" stroke=\"transparent\" points=\"157,-1 157,-18 175,-18 175,-1 157,-1\"/>\n",
       "<polyline fill=\"none\" stroke=\"#000000\" points=\"175,-1 175,-18 \"/>\n",
       "<text text-anchor=\"start\" x=\"159.8823\" y=\"-6.2\" font-family=\"Helvetica,sans-Serif\" font-size=\"11.00\" fill=\"#444443\">21</text>\n",
       "<polygon fill=\"#fefecd\" stroke=\"transparent\" points=\"175,-1 175,-18 193,-18 193,-1 175,-1\"/>\n",
       "<polyline fill=\"none\" stroke=\"#000000\" points=\"193,-1 193,-18 \"/>\n",
       "<text text-anchor=\"start\" x=\"177.8823\" y=\"-6.2\" font-family=\"Helvetica,sans-Serif\" font-size=\"11.00\" fill=\"#444443\">12</text>\n",
       "<polygon fill=\"#fefecd\" stroke=\"transparent\" points=\"193,-1 193,-18 211,-18 211,-1 193,-1\"/>\n",
       "<polyline fill=\"none\" stroke=\"#000000\" points=\"211,-1 211,-18 \"/>\n",
       "<text text-anchor=\"start\" x=\"195.8823\" y=\"-6.2\" font-family=\"Helvetica,sans-Serif\" font-size=\"11.00\" fill=\"#444443\">22</text>\n",
       "<polygon fill=\"#fefecd\" stroke=\"transparent\" points=\"211,-1 211,-18 227,-18 227,-1 211,-1\"/>\n",
       "<text text-anchor=\"start\" x=\"212.8823\" y=\"-6.2\" font-family=\"Helvetica,sans-Serif\" font-size=\"11.00\" fill=\"#444443\">21</text>\n",
       "</g>\n",
       "<!-- node4400737640&#45;&gt;node4399267208 -->\n",
       "<g id=\"edge1\" class=\"edge\">\n",
       "<title>node4400737640:c&#45;&gt;node4399267208</title>\n",
       "<path fill=\"none\" stroke=\"#444443\" stroke-width=\".5\" d=\"M58.6514,-15C60.8986,-15 64.0844,-15 67.9296,-15\"/>\n",
       "<ellipse fill=\"#444443\" stroke=\"#444443\" stroke-width=\".5\" cx=\"56.6\" cy=\"-15\" rx=\"1.6\" ry=\"1.6\"/>\n",
       "<polygon fill=\"#444443\" stroke=\"#444443\" stroke-width=\".5\" points=\"67.9841,-16.4001 71.9841,-15 67.9841,-13.6001 67.9841,-16.4001\"/>\n",
       "</g>\n",
       "</g>\n",
       "</svg>\n"
      ],
      "text/plain": [
       "<graphviz.files.Source at 0x1064e5fd0>"
      ]
     },
     "metadata": {},
     "output_type": "display_data"
    },
    {
     "data": {
      "image/svg+xml": [
       "<?xml version=\"1.0\" encoding=\"UTF-8\" standalone=\"no\"?>\n",
       "<!DOCTYPE svg PUBLIC \"-//W3C//DTD SVG 1.1//EN\"\n",
       " \"http://www.w3.org/Graphics/SVG/1.1/DTD/svg11.dtd\">\n",
       "<!-- Generated by graphviz version 2.40.1 (20161225.0304)\n",
       " -->\n",
       "<!-- Title: G Pages: 1 -->\n",
       "<svg width=\"245pt\" height=\"77pt\"\n",
       " viewBox=\"0.00 0.00 245.00 77.00\" xmlns=\"http://www.w3.org/2000/svg\" xmlns:xlink=\"http://www.w3.org/1999/xlink\">\n",
       "<g id=\"graph0\" class=\"graph\" transform=\"scale(1 1) rotate(0) translate(4 73)\">\n",
       "<title>G</title>\n",
       "<polygon fill=\"#ffffff\" stroke=\"transparent\" points=\"-4,4 -4,-73 241,-73 241,4 -4,4\"/>\n",
       "<!-- node4399237384 -->\n",
       "<g id=\"node1\" class=\"node\">\n",
       "<title>node4399237384</title>\n",
       "<polygon fill=\"#d9e6f5\" stroke=\"#444443\" stroke-width=\".5\" points=\"73,-69 0,-69 0,-7 73,-7 73,-69\"/>\n",
       "<polygon fill=\"#d9e6f5\" stroke=\"transparent\" points=\"2.5,-54 2.5,-67 71.5,-67 71.5,-54 2.5,-54\"/>\n",
       "<polyline fill=\"none\" stroke=\"#444443\" points=\"2.5,-54 71.5,-54 \"/>\n",
       "<text text-anchor=\"start\" x=\"20.8035\" y=\"-57.2\" font-family=\"Times,serif\" font-style=\"italic\" font-size=\"11.00\" fill=\"#444443\">globals</text>\n",
       "<polygon fill=\"#d9e6f5\" stroke=\"transparent\" points=\"2.5,-52 2.5,-54 71.5,-54 71.5,-52 2.5,-52\"/>\n",
       "<polygon fill=\"#d9e6f5\" stroke=\"transparent\" points=\"2.5,-39 2.5,-52 48.5,-52 48.5,-39 2.5,-39\"/>\n",
       "<polyline fill=\"none\" stroke=\"#444443\" points=\"48.5,-39 48.5,-52 \"/>\n",
       "<text text-anchor=\"start\" x=\"23.6631\" y=\"-42.2\" font-family=\"Helvetica,sans-Serif\" font-size=\"11.00\" fill=\"#444443\">sum </text>\n",
       "<polygon fill=\"#d9e6f5\" stroke=\"transparent\" points=\"48.5,-39 48.5,-52 71.5,-52 71.5,-39 48.5,-39\"/>\n",
       "<text text-anchor=\"start\" x=\"49.2954\" y=\"-42.2\" font-family=\"Helvetica,sans-Serif\" font-size=\"11.00\" fill=\"#444443\"> 207</text>\n",
       "<polygon fill=\"#d9e6f5\" stroke=\"transparent\" points=\"2.5,-37 2.5,-39 71.5,-39 71.5,-37 2.5,-37\"/>\n",
       "<polygon fill=\"#d9e6f5\" stroke=\"transparent\" points=\"2.5,-24 2.5,-37 48.5,-37 48.5,-24 2.5,-24\"/>\n",
       "<polyline fill=\"none\" stroke=\"#444443\" points=\"48.5,-24 48.5,-37 \"/>\n",
       "<text text-anchor=\"start\" x=\"38.3262\" y=\"-27.2\" font-family=\"Helvetica,sans-Serif\" font-size=\"11.00\" fill=\"#444443\">q </text>\n",
       "<polygon fill=\"#d9e6f5\" stroke=\"transparent\" points=\"48.5,-24 48.5,-37 71.5,-37 71.5,-24 48.5,-24\"/>\n",
       "<text text-anchor=\"start\" x=\"49.5\" y=\"-27.2\" font-family=\"Helvetica,sans-Serif\" font-size=\"11.00\" fill=\"#444443\"> 21</text>\n",
       "<polygon fill=\"#d9e6f5\" stroke=\"transparent\" points=\"2.5,-22 2.5,-24 71.5,-24 71.5,-22 2.5,-22\"/>\n",
       "<polygon fill=\"#d9e6f5\" stroke=\"transparent\" points=\"2.5,-9 2.5,-22 48.5,-22 48.5,-9 2.5,-9\"/>\n",
       "<polyline fill=\"none\" stroke=\"#444443\" points=\"48.5,-9 48.5,-22 \"/>\n",
       "<text text-anchor=\"start\" x=\"3.4893\" y=\"-12.2\" font-family=\"Helvetica,sans-Serif\" font-size=\"11.00\" fill=\"#444443\">Quantity </text>\n",
       "<polygon fill=\"#d9e6f5\" stroke=\"transparent\" points=\"48.5,-9 48.5,-22 71.5,-22 71.5,-9 48.5,-9\"/>\n",
       "<text text-anchor=\"start\" x=\"49.5\" y=\"-12.2\" font-family=\"Helvetica,sans-Serif\" font-size=\"11.00\" fill=\"#444443\"> &#160;&#160;&#160;</text>\n",
       "</g>\n",
       "<!-- node4399267208 -->\n",
       "<g id=\"node2\" class=\"node\">\n",
       "<title>node4399267208</title>\n",
       "<polygon fill=\"none\" stroke=\"#000000\" stroke-width=\".5\" points=\"237,-30 81,-30 81,0 237,0 237,-30\"/>\n",
       "<polygon fill=\"#fefecd\" stroke=\"transparent\" points=\"82,-18 82,-29 94,-29 94,-18 82,-18\"/>\n",
       "<polyline fill=\"none\" stroke=\"#000000\" points=\"82,-18 94,-18 94,-29 \"/>\n",
       "<text text-anchor=\"start\" x=\"85.4973\" y=\"-20.8\" font-family=\"Helvetica,sans-Serif\" font-size=\"9.00\" fill=\"#444443\">0</text>\n",
       "<polygon fill=\"#fefecd\" stroke=\"transparent\" points=\"94,-18 94,-29 112,-29 112,-18 94,-18\"/>\n",
       "<polyline fill=\"none\" stroke=\"#000000\" points=\"94,-18 112,-18 112,-29 \"/>\n",
       "<text text-anchor=\"start\" x=\"100.4973\" y=\"-20.8\" font-family=\"Helvetica,sans-Serif\" font-size=\"9.00\" fill=\"#444443\">1</text>\n",
       "<polygon fill=\"#fefecd\" stroke=\"transparent\" points=\"112,-18 112,-29 130,-29 130,-18 112,-18\"/>\n",
       "<polyline fill=\"none\" stroke=\"#000000\" points=\"112,-18 130,-18 130,-29 \"/>\n",
       "<text text-anchor=\"start\" x=\"118.4973\" y=\"-20.8\" font-family=\"Helvetica,sans-Serif\" font-size=\"9.00\" fill=\"#444443\">2</text>\n",
       "<polygon fill=\"#fefecd\" stroke=\"transparent\" points=\"130,-18 130,-29 148,-29 148,-18 130,-18\"/>\n",
       "<polyline fill=\"none\" stroke=\"#000000\" points=\"130,-18 148,-18 148,-29 \"/>\n",
       "<text text-anchor=\"start\" x=\"136.4973\" y=\"-20.8\" font-family=\"Helvetica,sans-Serif\" font-size=\"9.00\" fill=\"#444443\">3</text>\n",
       "<polygon fill=\"#fefecd\" stroke=\"transparent\" points=\"148,-18 148,-29 166,-29 166,-18 148,-18\"/>\n",
       "<polyline fill=\"none\" stroke=\"#000000\" points=\"148,-18 166,-18 166,-29 \"/>\n",
       "<text text-anchor=\"start\" x=\"154.4973\" y=\"-20.8\" font-family=\"Helvetica,sans-Serif\" font-size=\"9.00\" fill=\"#444443\">4</text>\n",
       "<polygon fill=\"#fefecd\" stroke=\"transparent\" points=\"166,-18 166,-29 184,-29 184,-18 166,-18\"/>\n",
       "<polyline fill=\"none\" stroke=\"#000000\" points=\"166,-18 184,-18 184,-29 \"/>\n",
       "<text text-anchor=\"start\" x=\"172.4973\" y=\"-20.8\" font-family=\"Helvetica,sans-Serif\" font-size=\"9.00\" fill=\"#444443\">5</text>\n",
       "<polygon fill=\"#fefecd\" stroke=\"transparent\" points=\"184,-18 184,-29 202,-29 202,-18 184,-18\"/>\n",
       "<polyline fill=\"none\" stroke=\"#000000\" points=\"184,-18 202,-18 202,-29 \"/>\n",
       "<text text-anchor=\"start\" x=\"190.4973\" y=\"-20.8\" font-family=\"Helvetica,sans-Serif\" font-size=\"9.00\" fill=\"#444443\">6</text>\n",
       "<polygon fill=\"#fefecd\" stroke=\"transparent\" points=\"202,-18 202,-29 220,-29 220,-18 202,-18\"/>\n",
       "<polyline fill=\"none\" stroke=\"#000000\" points=\"202,-18 220,-18 220,-29 \"/>\n",
       "<text text-anchor=\"start\" x=\"208.4973\" y=\"-20.8\" font-family=\"Helvetica,sans-Serif\" font-size=\"9.00\" fill=\"#444443\">7</text>\n",
       "<polygon fill=\"#fefecd\" stroke=\"transparent\" points=\"220,-18 220,-29 236,-29 236,-18 220,-18\"/>\n",
       "<polyline fill=\"none\" stroke=\"#000000\" points=\"220,-18 236,-18 \"/>\n",
       "<text text-anchor=\"start\" x=\"225.4973\" y=\"-20.8\" font-family=\"Helvetica,sans-Serif\" font-size=\"9.00\" fill=\"#444443\">8</text>\n",
       "<polygon fill=\"#fefecd\" stroke=\"transparent\" points=\"82,-1 82,-18 94,-18 94,-1 82,-1\"/>\n",
       "<polyline fill=\"none\" stroke=\"#000000\" points=\"94,-1 94,-18 \"/>\n",
       "<text text-anchor=\"start\" x=\"84.9412\" y=\"-6.2\" font-family=\"Helvetica,sans-Serif\" font-size=\"11.00\" fill=\"#444443\">6</text>\n",
       "<polygon fill=\"#fefecd\" stroke=\"transparent\" points=\"94,-1 94,-18 112,-18 112,-1 94,-1\"/>\n",
       "<polyline fill=\"none\" stroke=\"#000000\" points=\"112,-1 112,-18 \"/>\n",
       "<text text-anchor=\"start\" x=\"96.8823\" y=\"-6.2\" font-family=\"Helvetica,sans-Serif\" font-size=\"11.00\" fill=\"#444443\">49</text>\n",
       "<polygon fill=\"#fefecd\" stroke=\"transparent\" points=\"112,-1 112,-18 130,-18 130,-1 112,-1\"/>\n",
       "<polyline fill=\"none\" stroke=\"#000000\" points=\"130,-1 130,-18 \"/>\n",
       "<text text-anchor=\"start\" x=\"114.8823\" y=\"-6.2\" font-family=\"Helvetica,sans-Serif\" font-size=\"11.00\" fill=\"#444443\">27</text>\n",
       "<polygon fill=\"#fefecd\" stroke=\"transparent\" points=\"130,-1 130,-18 148,-18 148,-1 130,-1\"/>\n",
       "<polyline fill=\"none\" stroke=\"#000000\" points=\"148,-1 148,-18 \"/>\n",
       "<text text-anchor=\"start\" x=\"132.8823\" y=\"-6.2\" font-family=\"Helvetica,sans-Serif\" font-size=\"11.00\" fill=\"#444443\">30</text>\n",
       "<polygon fill=\"#fefecd\" stroke=\"transparent\" points=\"148,-1 148,-18 166,-18 166,-1 148,-1\"/>\n",
       "<polyline fill=\"none\" stroke=\"#000000\" points=\"166,-1 166,-18 \"/>\n",
       "<text text-anchor=\"start\" x=\"150.8823\" y=\"-6.2\" font-family=\"Helvetica,sans-Serif\" font-size=\"11.00\" fill=\"#444443\">19</text>\n",
       "<polygon fill=\"#fefecd\" stroke=\"transparent\" points=\"166,-1 166,-18 184,-18 184,-1 166,-1\"/>\n",
       "<polyline fill=\"none\" stroke=\"#000000\" points=\"184,-1 184,-18 \"/>\n",
       "<text text-anchor=\"start\" x=\"168.8823\" y=\"-6.2\" font-family=\"Helvetica,sans-Serif\" font-size=\"11.00\" fill=\"#444443\">21</text>\n",
       "<polygon fill=\"#fefecd\" stroke=\"transparent\" points=\"184,-1 184,-18 202,-18 202,-1 184,-1\"/>\n",
       "<polyline fill=\"none\" stroke=\"#000000\" points=\"202,-1 202,-18 \"/>\n",
       "<text text-anchor=\"start\" x=\"186.8823\" y=\"-6.2\" font-family=\"Helvetica,sans-Serif\" font-size=\"11.00\" fill=\"#444443\">12</text>\n",
       "<polygon fill=\"#fefecd\" stroke=\"transparent\" points=\"202,-1 202,-18 220,-18 220,-1 202,-1\"/>\n",
       "<polyline fill=\"none\" stroke=\"#000000\" points=\"220,-1 220,-18 \"/>\n",
       "<text text-anchor=\"start\" x=\"204.8823\" y=\"-6.2\" font-family=\"Helvetica,sans-Serif\" font-size=\"11.00\" fill=\"#444443\">22</text>\n",
       "<polygon fill=\"#fefecd\" stroke=\"transparent\" points=\"220,-1 220,-18 236,-18 236,-1 220,-1\"/>\n",
       "<text text-anchor=\"start\" x=\"221.8823\" y=\"-6.2\" font-family=\"Helvetica,sans-Serif\" font-size=\"11.00\" fill=\"#444443\">21</text>\n",
       "</g>\n",
       "<!-- node4399237384&#45;&gt;node4399267208 -->\n",
       "<g id=\"edge1\" class=\"edge\">\n",
       "<title>node4399237384:c&#45;&gt;node4399267208</title>\n",
       "<path fill=\"none\" stroke=\"#444443\" stroke-width=\".5\" d=\"M63.8054,-15C66.6716,-15 71.2389,-15 76.8585,-15\"/>\n",
       "<ellipse fill=\"#444443\" stroke=\"#444443\" stroke-width=\".5\" cx=\"62.1\" cy=\"-15\" rx=\"1.6\" ry=\"1.6\"/>\n",
       "<polygon fill=\"#444443\" stroke=\"#444443\" stroke-width=\".5\" points=\"76.9093,-16.4001 80.9093,-15 76.9092,-13.6001 76.9093,-16.4001\"/>\n",
       "</g>\n",
       "</g>\n",
       "</svg>\n"
      ],
      "text/plain": [
       "<graphviz.files.Source at 0x10638b668>"
      ]
     },
     "metadata": {},
     "output_type": "display_data"
    },
    {
     "data": {
      "text/plain": [
       "207"
      ]
     },
     "execution_count": 33,
     "metadata": {},
     "output_type": "execute_result"
    }
   ],
   "source": [
    "from lolviz import *\n",
    "\n",
    "Quantity = [6, 49, 27, 30, 19, 21, 12, 22, 21]\n",
    "sum = 0\n",
    "display(callviz(varnames=['Quantity','sum','q']))\n",
    "for q in Quantity:\n",
    "    sum = sum + q\n",
    "display(callviz(varnames=['Quantity','sum','q']))\n",
    "sum"
   ]
  },
  {
   "cell_type": "markdown",
   "metadata": {},
   "source": [
    "There are three (global) variables here: `Quantity`, `sum`, and `q`. The program uses all of those to compute the result.\n",
    "\n",
    "Let's see what the \"call stack\" looks like using the function version of the accumulator."
   ]
  },
  {
   "cell_type": "code",
   "execution_count": 27,
   "metadata": {},
   "outputs": [],
   "source": [
    "reset -f"
   ]
  },
  {
   "cell_type": "code",
   "execution_count": 35,
   "metadata": {
    "collapsed": false
   },
   "outputs": [
    {
     "data": {
      "image/svg+xml": [
       "<?xml version=\"1.0\" encoding=\"UTF-8\" standalone=\"no\"?>\n",
       "<!DOCTYPE svg PUBLIC \"-//W3C//DTD SVG 1.1//EN\"\n",
       " \"http://www.w3.org/Graphics/SVG/1.1/DTD/svg11.dtd\">\n",
       "<!-- Generated by graphviz version 2.40.1 (20161225.0304)\n",
       " -->\n",
       "<!-- Title: G Pages: 1 -->\n",
       "<svg width=\"236pt\" height=\"95pt\"\n",
       " viewBox=\"0.00 0.00 236.00 94.50\" xmlns=\"http://www.w3.org/2000/svg\" xmlns:xlink=\"http://www.w3.org/1999/xlink\">\n",
       "<g id=\"graph0\" class=\"graph\" transform=\"scale(1 1) rotate(0) translate(4 90.5)\">\n",
       "<title>G</title>\n",
       "<polygon fill=\"#ffffff\" stroke=\"transparent\" points=\"-4,4 -4,-90.5 232,-90.5 232,4 -4,4\"/>\n",
       "<!-- node4400734760 -->\n",
       "<g id=\"node1\" class=\"node\">\n",
       "<title>node4400734760</title>\n",
       "<polygon fill=\"#d9e6f5\" stroke=\"#444443\" stroke-width=\".5\" points=\"64,-86.5 0,-86.5 0,-54.5 64,-54.5 64,-86.5\"/>\n",
       "<polygon fill=\"#d9e6f5\" stroke=\"transparent\" points=\"2,-71.5 2,-84.5 62,-84.5 62,-71.5 2,-71.5\"/>\n",
       "<polyline fill=\"none\" stroke=\"#444443\" points=\"2,-71.5 62,-71.5 \"/>\n",
       "<text text-anchor=\"start\" x=\"15.8035\" y=\"-74.7\" font-family=\"Times,serif\" font-style=\"italic\" font-size=\"11.00\" fill=\"#444443\">globals</text>\n",
       "<polygon fill=\"#d9e6f5\" stroke=\"transparent\" points=\"2,-69.5 2,-71.5 62,-71.5 62,-69.5 2,-69.5\"/>\n",
       "<polygon fill=\"#d9e6f5\" stroke=\"transparent\" points=\"2,-56.5 2,-69.5 48,-69.5 48,-56.5 2,-56.5\"/>\n",
       "<polyline fill=\"none\" stroke=\"#444443\" points=\"48,-56.5 48,-69.5 \"/>\n",
       "<text text-anchor=\"start\" x=\"2.9893\" y=\"-59.7\" font-family=\"Helvetica,sans-Serif\" font-size=\"11.00\" fill=\"#444443\">Quantity </text>\n",
       "<polygon fill=\"#d9e6f5\" stroke=\"transparent\" points=\"48,-56.5 48,-69.5 62,-69.5 62,-56.5 48,-56.5\"/>\n",
       "<text text-anchor=\"start\" x=\"48.8877\" y=\"-59.7\" font-family=\"Helvetica,sans-Serif\" font-size=\"11.00\" fill=\"#444443\"> &#160;&#160;&#160;</text>\n",
       "</g>\n",
       "<!-- node4400737640 -->\n",
       "<g id=\"node2\" class=\"node\">\n",
       "<title>node4400737640</title>\n",
       "<polygon fill=\"#d9e6f5\" stroke=\"#444443\" stroke-width=\".5\" points=\"53,-47 11,-47 11,0 53,0 53,-47\"/>\n",
       "<polygon fill=\"#d9e6f5\" stroke=\"transparent\" points=\"13,-31.5 13,-44.5 51,-44.5 51,-31.5 13,-31.5\"/>\n",
       "<polyline fill=\"none\" stroke=\"#444443\" points=\"13,-31.5 51,-31.5 \"/>\n",
       "<text text-anchor=\"start\" x=\"23.1377\" y=\"-34.7\" font-family=\"Times,serif\" font-style=\"italic\" font-size=\"11.00\" fill=\"#444443\">sum</text>\n",
       "<polygon fill=\"#d9e6f5\" stroke=\"transparent\" points=\"13,-29.5 13,-31.5 51,-31.5 51,-29.5 13,-29.5\"/>\n",
       "<polygon fill=\"#d9e6f5\" stroke=\"transparent\" points=\"13,-16.5 13,-29.5 37,-29.5 37,-16.5 13,-16.5\"/>\n",
       "<polyline fill=\"none\" stroke=\"#444443\" points=\"37,-16.5 37,-29.5 \"/>\n",
       "<text text-anchor=\"start\" x=\"27.4438\" y=\"-19.7\" font-family=\"Helvetica,sans-Serif\" font-size=\"11.00\" fill=\"#444443\">s </text>\n",
       "<polygon fill=\"#d9e6f5\" stroke=\"transparent\" points=\"37,-16.5 37,-29.5 51,-29.5 51,-16.5 37,-16.5\"/>\n",
       "<text text-anchor=\"start\" x=\"38\" y=\"-19.7\" font-family=\"Helvetica,sans-Serif\" font-size=\"11.00\" fill=\"#444443\"> 0</text>\n",
       "<polygon fill=\"#d9e6f5\" stroke=\"transparent\" points=\"13,-14.5 13,-16.5 51,-16.5 51,-14.5 13,-14.5\"/>\n",
       "<polygon fill=\"#d9e6f5\" stroke=\"transparent\" points=\"13,-1.5 13,-14.5 37,-14.5 37,-1.5 13,-1.5\"/>\n",
       "<polyline fill=\"none\" stroke=\"#444443\" points=\"37,-1.5 37,-14.5 \"/>\n",
       "<text text-anchor=\"start\" x=\"13.8469\" y=\"-4.7\" font-family=\"Times,serif\" font-style=\"italic\" font-size=\"11.00\" fill=\"#444443\">data </text>\n",
       "<polygon fill=\"#d9e6f5\" stroke=\"transparent\" points=\"37,-1.5 37,-14.5 51,-14.5 51,-1.5 37,-1.5\"/>\n",
       "<text text-anchor=\"start\" x=\"37.8877\" y=\"-4.7\" font-family=\"Helvetica,sans-Serif\" font-size=\"11.00\" fill=\"#444443\"> &#160;&#160;&#160;</text>\n",
       "</g>\n",
       "<!-- node4400734760&#45;&gt;node4400737640 -->\n",
       "<!-- node4399617416 -->\n",
       "<g id=\"node3\" class=\"node\">\n",
       "<title>node4399617416</title>\n",
       "<polygon fill=\"none\" stroke=\"#000000\" stroke-width=\".5\" points=\"228,-49.5 72,-49.5 72,-19.5 228,-19.5 228,-49.5\"/>\n",
       "<polygon fill=\"#fefecd\" stroke=\"transparent\" points=\"73,-37.5 73,-48.5 85,-48.5 85,-37.5 73,-37.5\"/>\n",
       "<polyline fill=\"none\" stroke=\"#000000\" points=\"73,-37.5 85,-37.5 85,-48.5 \"/>\n",
       "<text text-anchor=\"start\" x=\"76.4973\" y=\"-40.3\" font-family=\"Helvetica,sans-Serif\" font-size=\"9.00\" fill=\"#444443\">0</text>\n",
       "<polygon fill=\"#fefecd\" stroke=\"transparent\" points=\"85,-37.5 85,-48.5 103,-48.5 103,-37.5 85,-37.5\"/>\n",
       "<polyline fill=\"none\" stroke=\"#000000\" points=\"85,-37.5 103,-37.5 103,-48.5 \"/>\n",
       "<text text-anchor=\"start\" x=\"91.4973\" y=\"-40.3\" font-family=\"Helvetica,sans-Serif\" font-size=\"9.00\" fill=\"#444443\">1</text>\n",
       "<polygon fill=\"#fefecd\" stroke=\"transparent\" points=\"103,-37.5 103,-48.5 121,-48.5 121,-37.5 103,-37.5\"/>\n",
       "<polyline fill=\"none\" stroke=\"#000000\" points=\"103,-37.5 121,-37.5 121,-48.5 \"/>\n",
       "<text text-anchor=\"start\" x=\"109.4973\" y=\"-40.3\" font-family=\"Helvetica,sans-Serif\" font-size=\"9.00\" fill=\"#444443\">2</text>\n",
       "<polygon fill=\"#fefecd\" stroke=\"transparent\" points=\"121,-37.5 121,-48.5 139,-48.5 139,-37.5 121,-37.5\"/>\n",
       "<polyline fill=\"none\" stroke=\"#000000\" points=\"121,-37.5 139,-37.5 139,-48.5 \"/>\n",
       "<text text-anchor=\"start\" x=\"127.4973\" y=\"-40.3\" font-family=\"Helvetica,sans-Serif\" font-size=\"9.00\" fill=\"#444443\">3</text>\n",
       "<polygon fill=\"#fefecd\" stroke=\"transparent\" points=\"139,-37.5 139,-48.5 157,-48.5 157,-37.5 139,-37.5\"/>\n",
       "<polyline fill=\"none\" stroke=\"#000000\" points=\"139,-37.5 157,-37.5 157,-48.5 \"/>\n",
       "<text text-anchor=\"start\" x=\"145.4973\" y=\"-40.3\" font-family=\"Helvetica,sans-Serif\" font-size=\"9.00\" fill=\"#444443\">4</text>\n",
       "<polygon fill=\"#fefecd\" stroke=\"transparent\" points=\"157,-37.5 157,-48.5 175,-48.5 175,-37.5 157,-37.5\"/>\n",
       "<polyline fill=\"none\" stroke=\"#000000\" points=\"157,-37.5 175,-37.5 175,-48.5 \"/>\n",
       "<text text-anchor=\"start\" x=\"163.4973\" y=\"-40.3\" font-family=\"Helvetica,sans-Serif\" font-size=\"9.00\" fill=\"#444443\">5</text>\n",
       "<polygon fill=\"#fefecd\" stroke=\"transparent\" points=\"175,-37.5 175,-48.5 193,-48.5 193,-37.5 175,-37.5\"/>\n",
       "<polyline fill=\"none\" stroke=\"#000000\" points=\"175,-37.5 193,-37.5 193,-48.5 \"/>\n",
       "<text text-anchor=\"start\" x=\"181.4973\" y=\"-40.3\" font-family=\"Helvetica,sans-Serif\" font-size=\"9.00\" fill=\"#444443\">6</text>\n",
       "<polygon fill=\"#fefecd\" stroke=\"transparent\" points=\"193,-37.5 193,-48.5 211,-48.5 211,-37.5 193,-37.5\"/>\n",
       "<polyline fill=\"none\" stroke=\"#000000\" points=\"193,-37.5 211,-37.5 211,-48.5 \"/>\n",
       "<text text-anchor=\"start\" x=\"199.4973\" y=\"-40.3\" font-family=\"Helvetica,sans-Serif\" font-size=\"9.00\" fill=\"#444443\">7</text>\n",
       "<polygon fill=\"#fefecd\" stroke=\"transparent\" points=\"211,-37.5 211,-48.5 227,-48.5 227,-37.5 211,-37.5\"/>\n",
       "<polyline fill=\"none\" stroke=\"#000000\" points=\"211,-37.5 227,-37.5 \"/>\n",
       "<text text-anchor=\"start\" x=\"216.4973\" y=\"-40.3\" font-family=\"Helvetica,sans-Serif\" font-size=\"9.00\" fill=\"#444443\">8</text>\n",
       "<polygon fill=\"#fefecd\" stroke=\"transparent\" points=\"73,-20.5 73,-37.5 85,-37.5 85,-20.5 73,-20.5\"/>\n",
       "<polyline fill=\"none\" stroke=\"#000000\" points=\"85,-20.5 85,-37.5 \"/>\n",
       "<text text-anchor=\"start\" x=\"75.9412\" y=\"-25.7\" font-family=\"Helvetica,sans-Serif\" font-size=\"11.00\" fill=\"#444443\">6</text>\n",
       "<polygon fill=\"#fefecd\" stroke=\"transparent\" points=\"85,-20.5 85,-37.5 103,-37.5 103,-20.5 85,-20.5\"/>\n",
       "<polyline fill=\"none\" stroke=\"#000000\" points=\"103,-20.5 103,-37.5 \"/>\n",
       "<text text-anchor=\"start\" x=\"87.8823\" y=\"-25.7\" font-family=\"Helvetica,sans-Serif\" font-size=\"11.00\" fill=\"#444443\">49</text>\n",
       "<polygon fill=\"#fefecd\" stroke=\"transparent\" points=\"103,-20.5 103,-37.5 121,-37.5 121,-20.5 103,-20.5\"/>\n",
       "<polyline fill=\"none\" stroke=\"#000000\" points=\"121,-20.5 121,-37.5 \"/>\n",
       "<text text-anchor=\"start\" x=\"105.8823\" y=\"-25.7\" font-family=\"Helvetica,sans-Serif\" font-size=\"11.00\" fill=\"#444443\">27</text>\n",
       "<polygon fill=\"#fefecd\" stroke=\"transparent\" points=\"121,-20.5 121,-37.5 139,-37.5 139,-20.5 121,-20.5\"/>\n",
       "<polyline fill=\"none\" stroke=\"#000000\" points=\"139,-20.5 139,-37.5 \"/>\n",
       "<text text-anchor=\"start\" x=\"123.8823\" y=\"-25.7\" font-family=\"Helvetica,sans-Serif\" font-size=\"11.00\" fill=\"#444443\">30</text>\n",
       "<polygon fill=\"#fefecd\" stroke=\"transparent\" points=\"139,-20.5 139,-37.5 157,-37.5 157,-20.5 139,-20.5\"/>\n",
       "<polyline fill=\"none\" stroke=\"#000000\" points=\"157,-20.5 157,-37.5 \"/>\n",
       "<text text-anchor=\"start\" x=\"141.8823\" y=\"-25.7\" font-family=\"Helvetica,sans-Serif\" font-size=\"11.00\" fill=\"#444443\">19</text>\n",
       "<polygon fill=\"#fefecd\" stroke=\"transparent\" points=\"157,-20.5 157,-37.5 175,-37.5 175,-20.5 157,-20.5\"/>\n",
       "<polyline fill=\"none\" stroke=\"#000000\" points=\"175,-20.5 175,-37.5 \"/>\n",
       "<text text-anchor=\"start\" x=\"159.8823\" y=\"-25.7\" font-family=\"Helvetica,sans-Serif\" font-size=\"11.00\" fill=\"#444443\">21</text>\n",
       "<polygon fill=\"#fefecd\" stroke=\"transparent\" points=\"175,-20.5 175,-37.5 193,-37.5 193,-20.5 175,-20.5\"/>\n",
       "<polyline fill=\"none\" stroke=\"#000000\" points=\"193,-20.5 193,-37.5 \"/>\n",
       "<text text-anchor=\"start\" x=\"177.8823\" y=\"-25.7\" font-family=\"Helvetica,sans-Serif\" font-size=\"11.00\" fill=\"#444443\">12</text>\n",
       "<polygon fill=\"#fefecd\" stroke=\"transparent\" points=\"193,-20.5 193,-37.5 211,-37.5 211,-20.5 193,-20.5\"/>\n",
       "<polyline fill=\"none\" stroke=\"#000000\" points=\"211,-20.5 211,-37.5 \"/>\n",
       "<text text-anchor=\"start\" x=\"195.8823\" y=\"-25.7\" font-family=\"Helvetica,sans-Serif\" font-size=\"11.00\" fill=\"#444443\">22</text>\n",
       "<polygon fill=\"#fefecd\" stroke=\"transparent\" points=\"211,-20.5 211,-37.5 227,-37.5 227,-20.5 211,-20.5\"/>\n",
       "<text text-anchor=\"start\" x=\"212.8823\" y=\"-25.7\" font-family=\"Helvetica,sans-Serif\" font-size=\"11.00\" fill=\"#444443\">21</text>\n",
       "</g>\n",
       "<!-- node4400734760&#45;&gt;node4399617416 -->\n",
       "<g id=\"edge2\" class=\"edge\">\n",
       "<title>node4400734760:c&#45;&gt;node4399617416</title>\n",
       "<path fill=\"none\" stroke=\"#444443\" stroke-width=\".5\" d=\"M58.265,-61.5377C64.5573,-59.6831 79.1384,-55.3855 94.866,-50.75\"/>\n",
       "<ellipse fill=\"#444443\" stroke=\"#444443\" stroke-width=\".5\" cx=\"56.5347\" cy=\"-62.0476\" rx=\"1.6\" ry=\"1.6\"/>\n",
       "<polygon fill=\"#444443\" stroke=\"#444443\" stroke-width=\".5\" points=\"95.4439,-52.0393 98.8849,-49.5655 94.6523,-49.3535 95.4439,-52.0393\"/>\n",
       "</g>\n",
       "<!-- node4400737640&#45;&gt;node4399617416 -->\n",
       "<g id=\"edge3\" class=\"edge\">\n",
       "<title>node4400737640:c&#45;&gt;node4399617416</title>\n",
       "<path fill=\"none\" stroke=\"#444443\" stroke-width=\".5\" d=\"M47.4722,-8.3844C54.2281,-10.1053 69.9943,-14.1212 87.1881,-18.5007\"/>\n",
       "<ellipse fill=\"#444443\" stroke=\"#444443\" stroke-width=\".5\" cx=\"45.5505\" cy=\"-7.895\" rx=\"1.6\" ry=\"1.6\"/>\n",
       "<polygon fill=\"#444443\" stroke=\"#444443\" stroke-width=\".5\" points=\"86.8886,-19.8691 91.1104,-19.4998 87.5798,-17.1557 86.8886,-19.8691\"/>\n",
       "</g>\n",
       "</g>\n",
       "</svg>\n"
      ],
      "text/plain": [
       "<graphviz.files.Source at 0x1064e5320>"
      ]
     },
     "metadata": {},
     "output_type": "display_data"
    },
    {
     "data": {
      "text/plain": [
       "207"
      ]
     },
     "execution_count": 35,
     "metadata": {},
     "output_type": "execute_result"
    }
   ],
   "source": [
    "from lolviz import *\n",
    "Quantity = [6, 49, 27, 30, 19, 21, 12, 22, 21]\n",
    "\n",
    "def sum(data):\n",
    "    s = 0\n",
    "    display(callsviz(varnames=['Quantity','data','s']))\n",
    "    for q in data:\n",
    "        s = s + q\n",
    "    return s\n",
    "\n",
    "sum(Quantity)"
   ]
  },
  {
   "cell_type": "code",
   "execution_count": null,
   "metadata": {},
   "outputs": [],
   "source": []
  },
  {
   "cell_type": "markdown",
   "metadata": {},
   "source": [
    "As you can see, there is a new *scope* for the `sum` function because the main program invoked a function. That function has a parameter called `data` and a local variable called `s` (from where I have called the `callsviz` function).  Notice that both `Quantity` and `data` variables point at the same shared memory location!! It's just that the names are defined in different contexts (scopes). This is the aliasing of data we talked about in the last section. By traversing `data`, the `sum` function is actually traversing the `Quantity` list from the outer context. "
   ]
  },
  {
   "cell_type": "markdown",
   "metadata": {},
   "source": [
    "### Watch out for functions modifying data arguments"
   ]
  },
  {
   "cell_type": "code",
   "execution_count": 62,
   "metadata": {},
   "outputs": [
    {
     "data": {
      "image/svg+xml": [
       "<?xml version=\"1.0\" encoding=\"UTF-8\" standalone=\"no\"?>\n",
       "<!DOCTYPE svg PUBLIC \"-//W3C//DTD SVG 1.1//EN\"\n",
       " \"http://www.w3.org/Graphics/SVG/1.1/DTD/svg11.dtd\">\n",
       "<!-- Generated by graphviz version 2.40.1 (20161225.0304)\n",
       " -->\n",
       "<!-- Title: G Pages: 1 -->\n",
       "<svg width=\"242pt\" height=\"79pt\"\n",
       " viewBox=\"0.00 0.00 242.00 79.00\" xmlns=\"http://www.w3.org/2000/svg\" xmlns:xlink=\"http://www.w3.org/1999/xlink\">\n",
       "<g id=\"graph0\" class=\"graph\" transform=\"scale(1 1) rotate(0) translate(4 75)\">\n",
       "<title>G</title>\n",
       "<polygon fill=\"#ffffff\" stroke=\"transparent\" points=\"-4,4 -4,-75 238,-75 238,4 -4,4\"/>\n",
       "<!-- node140650212471832 -->\n",
       "<g id=\"node1\" class=\"node\">\n",
       "<title>node140650212471832</title>\n",
       "<polygon fill=\"#d9e6f5\" stroke=\"#444443\" stroke-width=\".5\" points=\"64,-71 0,-71 0,-39 64,-39 64,-71\"/>\n",
       "<polygon fill=\"#d9e6f5\" stroke=\"transparent\" points=\"2,-56 2,-69 62,-69 62,-56 2,-56\"/>\n",
       "<polyline fill=\"none\" stroke=\"#444443\" points=\"2,-56 62,-56 \"/>\n",
       "<text text-anchor=\"start\" x=\"15.8035\" y=\"-59.2\" font-family=\"Times,serif\" font-style=\"italic\" font-size=\"11.00\" fill=\"#444443\">globals</text>\n",
       "<polygon fill=\"#d9e6f5\" stroke=\"transparent\" points=\"2,-54 2,-56 62,-56 62,-54 2,-54\"/>\n",
       "<polygon fill=\"#d9e6f5\" stroke=\"transparent\" points=\"2,-41 2,-54 48,-54 48,-41 2,-41\"/>\n",
       "<polyline fill=\"none\" stroke=\"#444443\" points=\"48,-41 48,-54 \"/>\n",
       "<text text-anchor=\"start\" x=\"2.9893\" y=\"-44.2\" font-family=\"Helvetica,sans-Serif\" font-size=\"11.00\" fill=\"#444443\">Quantity </text>\n",
       "<polygon fill=\"#d9e6f5\" stroke=\"transparent\" points=\"48,-41 48,-54 62,-54 62,-41 48,-41\"/>\n",
       "<text text-anchor=\"start\" x=\"48.8877\" y=\"-44.2\" font-family=\"Helvetica,sans-Serif\" font-size=\"11.00\" fill=\"#444443\"> &#160;&#160;&#160;</text>\n",
       "</g>\n",
       "<!-- node140650230221336 -->\n",
       "<g id=\"node2\" class=\"node\">\n",
       "<title>node140650230221336</title>\n",
       "<polygon fill=\"#d9e6f5\" stroke=\"#444443\" stroke-width=\".5\" points=\"53,-32 11,-32 11,0 53,0 53,-32\"/>\n",
       "<polygon fill=\"#d9e6f5\" stroke=\"transparent\" points=\"13,-17 13,-30 51,-30 51,-17 13,-17\"/>\n",
       "<polyline fill=\"none\" stroke=\"#444443\" points=\"13,-17 51,-17 \"/>\n",
       "<text text-anchor=\"start\" x=\"14.8877\" y=\"-20.2\" font-family=\"Times,serif\" font-style=\"italic\" font-size=\"11.00\" fill=\"#444443\">badsum</text>\n",
       "<polygon fill=\"#d9e6f5\" stroke=\"transparent\" points=\"13,-15 13,-17 51,-17 51,-15 13,-15\"/>\n",
       "<polygon fill=\"#d9e6f5\" stroke=\"transparent\" points=\"13,-2 13,-15 37,-15 37,-2 13,-2\"/>\n",
       "<polyline fill=\"none\" stroke=\"#444443\" points=\"37,-2 37,-15 \"/>\n",
       "<text text-anchor=\"start\" x=\"13.8469\" y=\"-5.2\" font-family=\"Times,serif\" font-style=\"italic\" font-size=\"11.00\" fill=\"#444443\">data </text>\n",
       "<polygon fill=\"#d9e6f5\" stroke=\"transparent\" points=\"37,-2 37,-15 51,-15 51,-2 37,-2\"/>\n",
       "<text text-anchor=\"start\" x=\"37.8877\" y=\"-5.2\" font-family=\"Helvetica,sans-Serif\" font-size=\"11.00\" fill=\"#444443\"> &#160;&#160;&#160;</text>\n",
       "</g>\n",
       "<!-- node140650212471832&#45;&gt;node140650230221336 -->\n",
       "<!-- node4400838280 -->\n",
       "<g id=\"node3\" class=\"node\">\n",
       "<title>node4400838280</title>\n",
       "<polygon fill=\"none\" stroke=\"#000000\" stroke-width=\".5\" points=\"234,-42 72,-42 72,-12 234,-12 234,-42\"/>\n",
       "<polygon fill=\"#fefecd\" stroke=\"transparent\" points=\"73,-30 73,-41 91,-41 91,-30 73,-30\"/>\n",
       "<polyline fill=\"none\" stroke=\"#000000\" points=\"73,-30 91,-30 91,-41 \"/>\n",
       "<text text-anchor=\"start\" x=\"79.4973\" y=\"-32.8\" font-family=\"Helvetica,sans-Serif\" font-size=\"9.00\" fill=\"#444443\">0</text>\n",
       "<polygon fill=\"#fefecd\" stroke=\"transparent\" points=\"91,-30 91,-41 109,-41 109,-30 91,-30\"/>\n",
       "<polyline fill=\"none\" stroke=\"#000000\" points=\"91,-30 109,-30 109,-41 \"/>\n",
       "<text text-anchor=\"start\" x=\"97.4973\" y=\"-32.8\" font-family=\"Helvetica,sans-Serif\" font-size=\"9.00\" fill=\"#444443\">1</text>\n",
       "<polygon fill=\"#fefecd\" stroke=\"transparent\" points=\"109,-30 109,-41 127,-41 127,-30 109,-30\"/>\n",
       "<polyline fill=\"none\" stroke=\"#000000\" points=\"109,-30 127,-30 127,-41 \"/>\n",
       "<text text-anchor=\"start\" x=\"115.4973\" y=\"-32.8\" font-family=\"Helvetica,sans-Serif\" font-size=\"9.00\" fill=\"#444443\">2</text>\n",
       "<polygon fill=\"#fefecd\" stroke=\"transparent\" points=\"127,-30 127,-41 145,-41 145,-30 127,-30\"/>\n",
       "<polyline fill=\"none\" stroke=\"#000000\" points=\"127,-30 145,-30 145,-41 \"/>\n",
       "<text text-anchor=\"start\" x=\"133.4973\" y=\"-32.8\" font-family=\"Helvetica,sans-Serif\" font-size=\"9.00\" fill=\"#444443\">3</text>\n",
       "<polygon fill=\"#fefecd\" stroke=\"transparent\" points=\"145,-30 145,-41 163,-41 163,-30 145,-30\"/>\n",
       "<polyline fill=\"none\" stroke=\"#000000\" points=\"145,-30 163,-30 163,-41 \"/>\n",
       "<text text-anchor=\"start\" x=\"151.4973\" y=\"-32.8\" font-family=\"Helvetica,sans-Serif\" font-size=\"9.00\" fill=\"#444443\">4</text>\n",
       "<polygon fill=\"#fefecd\" stroke=\"transparent\" points=\"163,-30 163,-41 181,-41 181,-30 163,-30\"/>\n",
       "<polyline fill=\"none\" stroke=\"#000000\" points=\"163,-30 181,-30 181,-41 \"/>\n",
       "<text text-anchor=\"start\" x=\"169.4973\" y=\"-32.8\" font-family=\"Helvetica,sans-Serif\" font-size=\"9.00\" fill=\"#444443\">5</text>\n",
       "<polygon fill=\"#fefecd\" stroke=\"transparent\" points=\"181,-30 181,-41 199,-41 199,-30 181,-30\"/>\n",
       "<polyline fill=\"none\" stroke=\"#000000\" points=\"181,-30 199,-30 199,-41 \"/>\n",
       "<text text-anchor=\"start\" x=\"187.4973\" y=\"-32.8\" font-family=\"Helvetica,sans-Serif\" font-size=\"9.00\" fill=\"#444443\">6</text>\n",
       "<polygon fill=\"#fefecd\" stroke=\"transparent\" points=\"199,-30 199,-41 217,-41 217,-30 199,-30\"/>\n",
       "<polyline fill=\"none\" stroke=\"#000000\" points=\"199,-30 217,-30 217,-41 \"/>\n",
       "<text text-anchor=\"start\" x=\"205.4973\" y=\"-32.8\" font-family=\"Helvetica,sans-Serif\" font-size=\"9.00\" fill=\"#444443\">7</text>\n",
       "<polygon fill=\"#fefecd\" stroke=\"transparent\" points=\"217,-30 217,-41 233,-41 233,-30 217,-30\"/>\n",
       "<polyline fill=\"none\" stroke=\"#000000\" points=\"217,-30 233,-30 \"/>\n",
       "<text text-anchor=\"start\" x=\"222.4973\" y=\"-32.8\" font-family=\"Helvetica,sans-Serif\" font-size=\"9.00\" fill=\"#444443\">8</text>\n",
       "<polygon fill=\"#fefecd\" stroke=\"transparent\" points=\"73,-13 73,-30 91,-30 91,-13 73,-13\"/>\n",
       "<polyline fill=\"none\" stroke=\"#000000\" points=\"91,-13 91,-30 \"/>\n",
       "<text text-anchor=\"start\" x=\"75.8823\" y=\"-18.2\" font-family=\"Helvetica,sans-Serif\" font-size=\"11.00\" fill=\"#444443\">99</text>\n",
       "<polygon fill=\"#fefecd\" stroke=\"transparent\" points=\"91,-13 91,-30 109,-30 109,-13 91,-13\"/>\n",
       "<polyline fill=\"none\" stroke=\"#000000\" points=\"109,-13 109,-30 \"/>\n",
       "<text text-anchor=\"start\" x=\"93.8823\" y=\"-18.2\" font-family=\"Helvetica,sans-Serif\" font-size=\"11.00\" fill=\"#444443\">49</text>\n",
       "<polygon fill=\"#fefecd\" stroke=\"transparent\" points=\"109,-13 109,-30 127,-30 127,-13 109,-13\"/>\n",
       "<polyline fill=\"none\" stroke=\"#000000\" points=\"127,-13 127,-30 \"/>\n",
       "<text text-anchor=\"start\" x=\"111.8823\" y=\"-18.2\" font-family=\"Helvetica,sans-Serif\" font-size=\"11.00\" fill=\"#444443\">27</text>\n",
       "<polygon fill=\"#fefecd\" stroke=\"transparent\" points=\"127,-13 127,-30 145,-30 145,-13 127,-13\"/>\n",
       "<polyline fill=\"none\" stroke=\"#000000\" points=\"145,-13 145,-30 \"/>\n",
       "<text text-anchor=\"start\" x=\"129.8823\" y=\"-18.2\" font-family=\"Helvetica,sans-Serif\" font-size=\"11.00\" fill=\"#444443\">30</text>\n",
       "<polygon fill=\"#fefecd\" stroke=\"transparent\" points=\"145,-13 145,-30 163,-30 163,-13 145,-13\"/>\n",
       "<polyline fill=\"none\" stroke=\"#000000\" points=\"163,-13 163,-30 \"/>\n",
       "<text text-anchor=\"start\" x=\"147.8823\" y=\"-18.2\" font-family=\"Helvetica,sans-Serif\" font-size=\"11.00\" fill=\"#444443\">19</text>\n",
       "<polygon fill=\"#fefecd\" stroke=\"transparent\" points=\"163,-13 163,-30 181,-30 181,-13 163,-13\"/>\n",
       "<polyline fill=\"none\" stroke=\"#000000\" points=\"181,-13 181,-30 \"/>\n",
       "<text text-anchor=\"start\" x=\"165.8823\" y=\"-18.2\" font-family=\"Helvetica,sans-Serif\" font-size=\"11.00\" fill=\"#444443\">21</text>\n",
       "<polygon fill=\"#fefecd\" stroke=\"transparent\" points=\"181,-13 181,-30 199,-30 199,-13 181,-13\"/>\n",
       "<polyline fill=\"none\" stroke=\"#000000\" points=\"199,-13 199,-30 \"/>\n",
       "<text text-anchor=\"start\" x=\"183.8823\" y=\"-18.2\" font-family=\"Helvetica,sans-Serif\" font-size=\"11.00\" fill=\"#444443\">12</text>\n",
       "<polygon fill=\"#fefecd\" stroke=\"transparent\" points=\"199,-13 199,-30 217,-30 217,-13 199,-13\"/>\n",
       "<polyline fill=\"none\" stroke=\"#000000\" points=\"217,-13 217,-30 \"/>\n",
       "<text text-anchor=\"start\" x=\"201.8823\" y=\"-18.2\" font-family=\"Helvetica,sans-Serif\" font-size=\"11.00\" fill=\"#444443\">22</text>\n",
       "<polygon fill=\"#fefecd\" stroke=\"transparent\" points=\"217,-13 217,-30 233,-30 233,-13 217,-13\"/>\n",
       "<text text-anchor=\"start\" x=\"218.8823\" y=\"-18.2\" font-family=\"Helvetica,sans-Serif\" font-size=\"11.00\" fill=\"#444443\">21</text>\n",
       "</g>\n",
       "<!-- node140650212471832&#45;&gt;node4400838280 -->\n",
       "<g id=\"edge2\" class=\"edge\">\n",
       "<title>node140650212471832:c&#45;&gt;node4400838280</title>\n",
       "<path fill=\"none\" stroke=\"#444443\" stroke-width=\".5\" d=\"M58.4197,-46.3021C61.9436,-45.5829 67.9473,-44.3577 75.2762,-42.862\"/>\n",
       "<ellipse fill=\"#444443\" stroke=\"#444443\" stroke-width=\".5\" cx=\"56.5677\" cy=\"-46.68\" rx=\"1.6\" ry=\"1.6\"/>\n",
       "<polygon fill=\"#444443\" stroke=\"#444443\" stroke-width=\".5\" points=\"75.8375,-44.1764 79.4767,-42.0047 75.2776,-41.4329 75.8375,-44.1764\"/>\n",
       "</g>\n",
       "<!-- node140650230221336&#45;&gt;node4400838280 -->\n",
       "<g id=\"edge3\" class=\"edge\">\n",
       "<title>node140650230221336:c&#45;&gt;node4400838280</title>\n",
       "<path fill=\"none\" stroke=\"#444443\" stroke-width=\".5\" d=\"M47.24,-8.5648C51.2444,-9.2628 58.6598,-10.5554 67.7795,-12.1451\"/>\n",
       "<ellipse fill=\"#444443\" stroke=\"#444443\" stroke-width=\".5\" cx=\"45.5762\" cy=\"-8.2748\" rx=\"1.6\" ry=\"1.6\"/>\n",
       "<polygon fill=\"#444443\" stroke=\"#444443\" stroke-width=\".5\" points=\"67.6063,-13.5359 71.7873,-12.8437 68.0872,-10.7775 67.6063,-13.5359\"/>\n",
       "</g>\n",
       "</g>\n",
       "</svg>\n"
      ],
      "text/plain": [
       "<graphviz.files.Source at 0x10638b0f0>"
      ]
     },
     "metadata": {},
     "output_type": "display_data"
    },
    {
     "name": "stdout",
     "output_type": "stream",
     "text": [
      "[99, 49, 27, 30, 19, 21, 12, 22, 21]\n"
     ]
    }
   ],
   "source": [
    "def badsum(data):\n",
    "    #data = data.copy() # must manually make copy to avoid side-effect\n",
    "    data[0] = 99\n",
    "    display(callsviz(varnames=['Quantity','data','s']))\n",
    "    s = 0\n",
    "    for q in data:\n",
    "        s = s + q\n",
    "    return s\n",
    "\n",
    "Quantity = [6, 49, 27, 30, 19, 21, 12, 22, 21]\n",
    "badsum(Quantity)\n",
    "print(Quantity)"
   ]
  },
  {
   "cell_type": "markdown",
   "metadata": {},
   "source": [
    "When the function returns, the frame for `sum` disappears, leaving only the global frame."
   ]
  },
  {
   "cell_type": "code",
   "execution_count": 29,
   "metadata": {},
   "outputs": [
    {
     "name": "stdout",
     "output_type": "stream",
     "text": [
      "207\n"
     ]
    },
    {
     "data": {
      "image/svg+xml": [
       "<?xml version=\"1.0\" encoding=\"UTF-8\" standalone=\"no\"?>\n",
       "<!DOCTYPE svg PUBLIC \"-//W3C//DTD SVG 1.1//EN\"\n",
       " \"http://www.w3.org/Graphics/SVG/1.1/DTD/svg11.dtd\">\n",
       "<!-- Generated by graphviz version 2.40.1 (20161225.0304)\n",
       " -->\n",
       "<!-- Title: G Pages: 1 -->\n",
       "<svg width=\"236pt\" height=\"47pt\"\n",
       " viewBox=\"0.00 0.00 236.00 47.00\" xmlns=\"http://www.w3.org/2000/svg\" xmlns:xlink=\"http://www.w3.org/1999/xlink\">\n",
       "<g id=\"graph0\" class=\"graph\" transform=\"scale(1 1) rotate(0) translate(4 43)\">\n",
       "<title>G</title>\n",
       "<polygon fill=\"#ffffff\" stroke=\"transparent\" points=\"-4,4 -4,-43 232,-43 232,4 -4,4\"/>\n",
       "<!-- node4400734760 -->\n",
       "<g id=\"node1\" class=\"node\">\n",
       "<title>node4400734760</title>\n",
       "<polygon fill=\"#d9e6f5\" stroke=\"#444443\" stroke-width=\".5\" points=\"64,-39 0,-39 0,-7 64,-7 64,-39\"/>\n",
       "<polygon fill=\"#d9e6f5\" stroke=\"transparent\" points=\"2,-24 2,-37 62,-37 62,-24 2,-24\"/>\n",
       "<polyline fill=\"none\" stroke=\"#444443\" points=\"2,-24 62,-24 \"/>\n",
       "<text text-anchor=\"start\" x=\"15.8035\" y=\"-27.2\" font-family=\"Times,serif\" font-style=\"italic\" font-size=\"11.00\" fill=\"#444443\">globals</text>\n",
       "<polygon fill=\"#d9e6f5\" stroke=\"transparent\" points=\"2,-22 2,-24 62,-24 62,-22 2,-22\"/>\n",
       "<polygon fill=\"#d9e6f5\" stroke=\"transparent\" points=\"2,-9 2,-22 48,-22 48,-9 2,-9\"/>\n",
       "<polyline fill=\"none\" stroke=\"#444443\" points=\"48,-9 48,-22 \"/>\n",
       "<text text-anchor=\"start\" x=\"2.9893\" y=\"-12.2\" font-family=\"Helvetica,sans-Serif\" font-size=\"11.00\" fill=\"#444443\">Quantity </text>\n",
       "<polygon fill=\"#d9e6f5\" stroke=\"transparent\" points=\"48,-9 48,-22 62,-22 62,-9 48,-9\"/>\n",
       "<text text-anchor=\"start\" x=\"48.8877\" y=\"-12.2\" font-family=\"Helvetica,sans-Serif\" font-size=\"11.00\" fill=\"#444443\"> &#160;&#160;&#160;</text>\n",
       "</g>\n",
       "<!-- node4397861960 -->\n",
       "<g id=\"node2\" class=\"node\">\n",
       "<title>node4397861960</title>\n",
       "<polygon fill=\"none\" stroke=\"#000000\" stroke-width=\".5\" points=\"228,-30 72,-30 72,0 228,0 228,-30\"/>\n",
       "<polygon fill=\"#fefecd\" stroke=\"transparent\" points=\"73,-18 73,-29 85,-29 85,-18 73,-18\"/>\n",
       "<polyline fill=\"none\" stroke=\"#000000\" points=\"73,-18 85,-18 85,-29 \"/>\n",
       "<text text-anchor=\"start\" x=\"76.4973\" y=\"-20.8\" font-family=\"Helvetica,sans-Serif\" font-size=\"9.00\" fill=\"#444443\">0</text>\n",
       "<polygon fill=\"#fefecd\" stroke=\"transparent\" points=\"85,-18 85,-29 103,-29 103,-18 85,-18\"/>\n",
       "<polyline fill=\"none\" stroke=\"#000000\" points=\"85,-18 103,-18 103,-29 \"/>\n",
       "<text text-anchor=\"start\" x=\"91.4973\" y=\"-20.8\" font-family=\"Helvetica,sans-Serif\" font-size=\"9.00\" fill=\"#444443\">1</text>\n",
       "<polygon fill=\"#fefecd\" stroke=\"transparent\" points=\"103,-18 103,-29 121,-29 121,-18 103,-18\"/>\n",
       "<polyline fill=\"none\" stroke=\"#000000\" points=\"103,-18 121,-18 121,-29 \"/>\n",
       "<text text-anchor=\"start\" x=\"109.4973\" y=\"-20.8\" font-family=\"Helvetica,sans-Serif\" font-size=\"9.00\" fill=\"#444443\">2</text>\n",
       "<polygon fill=\"#fefecd\" stroke=\"transparent\" points=\"121,-18 121,-29 139,-29 139,-18 121,-18\"/>\n",
       "<polyline fill=\"none\" stroke=\"#000000\" points=\"121,-18 139,-18 139,-29 \"/>\n",
       "<text text-anchor=\"start\" x=\"127.4973\" y=\"-20.8\" font-family=\"Helvetica,sans-Serif\" font-size=\"9.00\" fill=\"#444443\">3</text>\n",
       "<polygon fill=\"#fefecd\" stroke=\"transparent\" points=\"139,-18 139,-29 157,-29 157,-18 139,-18\"/>\n",
       "<polyline fill=\"none\" stroke=\"#000000\" points=\"139,-18 157,-18 157,-29 \"/>\n",
       "<text text-anchor=\"start\" x=\"145.4973\" y=\"-20.8\" font-family=\"Helvetica,sans-Serif\" font-size=\"9.00\" fill=\"#444443\">4</text>\n",
       "<polygon fill=\"#fefecd\" stroke=\"transparent\" points=\"157,-18 157,-29 175,-29 175,-18 157,-18\"/>\n",
       "<polyline fill=\"none\" stroke=\"#000000\" points=\"157,-18 175,-18 175,-29 \"/>\n",
       "<text text-anchor=\"start\" x=\"163.4973\" y=\"-20.8\" font-family=\"Helvetica,sans-Serif\" font-size=\"9.00\" fill=\"#444443\">5</text>\n",
       "<polygon fill=\"#fefecd\" stroke=\"transparent\" points=\"175,-18 175,-29 193,-29 193,-18 175,-18\"/>\n",
       "<polyline fill=\"none\" stroke=\"#000000\" points=\"175,-18 193,-18 193,-29 \"/>\n",
       "<text text-anchor=\"start\" x=\"181.4973\" y=\"-20.8\" font-family=\"Helvetica,sans-Serif\" font-size=\"9.00\" fill=\"#444443\">6</text>\n",
       "<polygon fill=\"#fefecd\" stroke=\"transparent\" points=\"193,-18 193,-29 211,-29 211,-18 193,-18\"/>\n",
       "<polyline fill=\"none\" stroke=\"#000000\" points=\"193,-18 211,-18 211,-29 \"/>\n",
       "<text text-anchor=\"start\" x=\"199.4973\" y=\"-20.8\" font-family=\"Helvetica,sans-Serif\" font-size=\"9.00\" fill=\"#444443\">7</text>\n",
       "<polygon fill=\"#fefecd\" stroke=\"transparent\" points=\"211,-18 211,-29 227,-29 227,-18 211,-18\"/>\n",
       "<polyline fill=\"none\" stroke=\"#000000\" points=\"211,-18 227,-18 \"/>\n",
       "<text text-anchor=\"start\" x=\"216.4973\" y=\"-20.8\" font-family=\"Helvetica,sans-Serif\" font-size=\"9.00\" fill=\"#444443\">8</text>\n",
       "<polygon fill=\"#fefecd\" stroke=\"transparent\" points=\"73,-1 73,-18 85,-18 85,-1 73,-1\"/>\n",
       "<polyline fill=\"none\" stroke=\"#000000\" points=\"85,-1 85,-18 \"/>\n",
       "<text text-anchor=\"start\" x=\"75.9412\" y=\"-6.2\" font-family=\"Helvetica,sans-Serif\" font-size=\"11.00\" fill=\"#444443\">6</text>\n",
       "<polygon fill=\"#fefecd\" stroke=\"transparent\" points=\"85,-1 85,-18 103,-18 103,-1 85,-1\"/>\n",
       "<polyline fill=\"none\" stroke=\"#000000\" points=\"103,-1 103,-18 \"/>\n",
       "<text text-anchor=\"start\" x=\"87.8823\" y=\"-6.2\" font-family=\"Helvetica,sans-Serif\" font-size=\"11.00\" fill=\"#444443\">49</text>\n",
       "<polygon fill=\"#fefecd\" stroke=\"transparent\" points=\"103,-1 103,-18 121,-18 121,-1 103,-1\"/>\n",
       "<polyline fill=\"none\" stroke=\"#000000\" points=\"121,-1 121,-18 \"/>\n",
       "<text text-anchor=\"start\" x=\"105.8823\" y=\"-6.2\" font-family=\"Helvetica,sans-Serif\" font-size=\"11.00\" fill=\"#444443\">27</text>\n",
       "<polygon fill=\"#fefecd\" stroke=\"transparent\" points=\"121,-1 121,-18 139,-18 139,-1 121,-1\"/>\n",
       "<polyline fill=\"none\" stroke=\"#000000\" points=\"139,-1 139,-18 \"/>\n",
       "<text text-anchor=\"start\" x=\"123.8823\" y=\"-6.2\" font-family=\"Helvetica,sans-Serif\" font-size=\"11.00\" fill=\"#444443\">30</text>\n",
       "<polygon fill=\"#fefecd\" stroke=\"transparent\" points=\"139,-1 139,-18 157,-18 157,-1 139,-1\"/>\n",
       "<polyline fill=\"none\" stroke=\"#000000\" points=\"157,-1 157,-18 \"/>\n",
       "<text text-anchor=\"start\" x=\"141.8823\" y=\"-6.2\" font-family=\"Helvetica,sans-Serif\" font-size=\"11.00\" fill=\"#444443\">19</text>\n",
       "<polygon fill=\"#fefecd\" stroke=\"transparent\" points=\"157,-1 157,-18 175,-18 175,-1 157,-1\"/>\n",
       "<polyline fill=\"none\" stroke=\"#000000\" points=\"175,-1 175,-18 \"/>\n",
       "<text text-anchor=\"start\" x=\"159.8823\" y=\"-6.2\" font-family=\"Helvetica,sans-Serif\" font-size=\"11.00\" fill=\"#444443\">21</text>\n",
       "<polygon fill=\"#fefecd\" stroke=\"transparent\" points=\"175,-1 175,-18 193,-18 193,-1 175,-1\"/>\n",
       "<polyline fill=\"none\" stroke=\"#000000\" points=\"193,-1 193,-18 \"/>\n",
       "<text text-anchor=\"start\" x=\"177.8823\" y=\"-6.2\" font-family=\"Helvetica,sans-Serif\" font-size=\"11.00\" fill=\"#444443\">12</text>\n",
       "<polygon fill=\"#fefecd\" stroke=\"transparent\" points=\"193,-1 193,-18 211,-18 211,-1 193,-1\"/>\n",
       "<polyline fill=\"none\" stroke=\"#000000\" points=\"211,-1 211,-18 \"/>\n",
       "<text text-anchor=\"start\" x=\"195.8823\" y=\"-6.2\" font-family=\"Helvetica,sans-Serif\" font-size=\"11.00\" fill=\"#444443\">22</text>\n",
       "<polygon fill=\"#fefecd\" stroke=\"transparent\" points=\"211,-1 211,-18 227,-18 227,-1 211,-1\"/>\n",
       "<text text-anchor=\"start\" x=\"212.8823\" y=\"-6.2\" font-family=\"Helvetica,sans-Serif\" font-size=\"11.00\" fill=\"#444443\">21</text>\n",
       "</g>\n",
       "<!-- node4400734760&#45;&gt;node4397861960 -->\n",
       "<g id=\"edge1\" class=\"edge\">\n",
       "<title>node4400734760:c&#45;&gt;node4397861960</title>\n",
       "<path fill=\"none\" stroke=\"#444443\" stroke-width=\".5\" d=\"M58.6514,-15C60.8986,-15 64.0844,-15 67.9296,-15\"/>\n",
       "<ellipse fill=\"#444443\" stroke=\"#444443\" stroke-width=\".5\" cx=\"56.6\" cy=\"-15\" rx=\"1.6\" ry=\"1.6\"/>\n",
       "<polygon fill=\"#444443\" stroke=\"#444443\" stroke-width=\".5\" points=\"67.9841,-16.4001 71.9841,-15 67.9841,-13.6001 67.9841,-16.4001\"/>\n",
       "</g>\n",
       "</g>\n",
       "</svg>\n"
      ],
      "text/plain": [
       "<graphviz.files.Source at 0x106460da0>"
      ]
     },
     "execution_count": 29,
     "metadata": {},
     "output_type": "execute_result"
    }
   ],
   "source": [
    "def sum(data):\n",
    "    s = 0\n",
    "    for q in data:\n",
    "        s = s + q\n",
    "    return s\n",
    "\n",
    "print(sum(Quantity))\n",
    "callsviz(varnames=['Quantity','data','s'])"
   ]
  },
  {
   "cell_type": "code",
   "execution_count": 41,
   "metadata": {},
   "outputs": [],
   "source": [
    "reset -f"
   ]
  },
  {
   "cell_type": "code",
   "execution_count": 49,
   "metadata": {},
   "outputs": [
    {
     "name": "stdout",
     "output_type": "stream",
     "text": [
      "33\n"
     ]
    },
    {
     "data": {
      "image/svg+xml": [
       "<?xml version=\"1.0\" encoding=\"UTF-8\" standalone=\"no\"?>\n",
       "<!DOCTYPE svg PUBLIC \"-//W3C//DTD SVG 1.1//EN\"\n",
       " \"http://www.w3.org/Graphics/SVG/1.1/DTD/svg11.dtd\">\n",
       "<!-- Generated by graphviz version 2.40.1 (20161225.0304)\n",
       " -->\n",
       "<!-- Title: G Pages: 1 -->\n",
       "<svg width=\"46pt\" height=\"134pt\"\n",
       " viewBox=\"0.00 0.00 46.00 134.00\" xmlns=\"http://www.w3.org/2000/svg\" xmlns:xlink=\"http://www.w3.org/1999/xlink\">\n",
       "<g id=\"graph0\" class=\"graph\" transform=\"scale(1 1) rotate(0) translate(4 130)\">\n",
       "<title>G</title>\n",
       "<polygon fill=\"#ffffff\" stroke=\"transparent\" points=\"-4,4 -4,-130 42,-130 42,4 -4,4\"/>\n",
       "<!-- node4400719816 -->\n",
       "<g id=\"node1\" class=\"node\">\n",
       "<title>node4400719816</title>\n",
       "<polygon fill=\"#d9e6f5\" stroke=\"#444443\" stroke-width=\".5\" points=\"38,-126 0,-126 0,-94 38,-94 38,-126\"/>\n",
       "<polygon fill=\"#d9e6f5\" stroke=\"transparent\" points=\"2,-111 2,-124 36,-124 36,-111 2,-111\"/>\n",
       "<polyline fill=\"none\" stroke=\"#444443\" points=\"2,-111 36,-111 \"/>\n",
       "<text text-anchor=\"start\" x=\"2.8035\" y=\"-114.2\" font-family=\"Times,serif\" font-style=\"italic\" font-size=\"11.00\" fill=\"#444443\">globals</text>\n",
       "<polygon fill=\"#d9e6f5\" stroke=\"transparent\" points=\"2,-109 2,-111 36,-111 36,-109 2,-109\"/>\n",
       "<polygon fill=\"#d9e6f5\" stroke=\"transparent\" points=\"2,-96 2,-109 15,-109 15,-96 2,-96\"/>\n",
       "<polyline fill=\"none\" stroke=\"#444443\" points=\"15,-96 15,-109 \"/>\n",
       "<text text-anchor=\"start\" x=\"5.4438\" y=\"-99.2\" font-family=\"Helvetica,sans-Serif\" font-size=\"11.00\" fill=\"#444443\">z </text>\n",
       "<polygon fill=\"#d9e6f5\" stroke=\"transparent\" points=\"17,-96 17,-109 36,-109 36,-96 17,-96\"/>\n",
       "<text text-anchor=\"start\" x=\"18\" y=\"-99.2\" font-family=\"Helvetica,sans-Serif\" font-size=\"11.00\" fill=\"#444443\"> 99</text>\n",
       "</g>\n",
       "<!-- node140650211574408 -->\n",
       "<g id=\"node2\" class=\"node\">\n",
       "<title>node140650211574408</title>\n",
       "<polygon fill=\"#d9e6f5\" stroke=\"#444443\" stroke-width=\".5\" points=\"35,-86.5 3,-86.5 3,-39.5 35,-39.5 35,-86.5\"/>\n",
       "<polygon fill=\"#d9e6f5\" stroke=\"transparent\" points=\"5,-71 5,-84 33,-84 33,-71 5,-71\"/>\n",
       "<polyline fill=\"none\" stroke=\"#444443\" points=\"5,-71 33,-71 \"/>\n",
       "<text text-anchor=\"start\" x=\"17.4719\" y=\"-74.2\" font-family=\"Times,serif\" font-style=\"italic\" font-size=\"11.00\" fill=\"#444443\">f</text>\n",
       "<polygon fill=\"#d9e6f5\" stroke=\"transparent\" points=\"5,-69 5,-71 33,-71 33,-69 5,-69\"/>\n",
       "<polygon fill=\"#d9e6f5\" stroke=\"transparent\" points=\"5,-56 5,-69 16,-69 16,-56 5,-56\"/>\n",
       "<polyline fill=\"none\" stroke=\"#444443\" points=\"16,-56 16,-69 \"/>\n",
       "<text text-anchor=\"start\" x=\"7.3677\" y=\"-59.2\" font-family=\"Times,serif\" font-style=\"italic\" font-size=\"11.00\" fill=\"#444443\">x </text>\n",
       "<polygon fill=\"#d9e6f5\" stroke=\"transparent\" points=\"16,-56 16,-69 33,-69 33,-56 16,-56\"/>\n",
       "<text text-anchor=\"start\" x=\"16.8542\" y=\"-59.2\" font-family=\"Helvetica,sans-Serif\" font-size=\"11.00\" fill=\"#444443\"> 33</text>\n",
       "<polygon fill=\"#d9e6f5\" stroke=\"transparent\" points=\"5,-54 5,-56 33,-56 33,-54 5,-54\"/>\n",
       "<polygon fill=\"#d9e6f5\" stroke=\"transparent\" points=\"5,-41 5,-54 16,-54 16,-41 5,-41\"/>\n",
       "<polyline fill=\"none\" stroke=\"#444443\" points=\"16,-41 16,-54 \"/>\n",
       "<text text-anchor=\"start\" x=\"5.9131\" y=\"-44.2\" font-family=\"Helvetica,sans-Serif\" font-size=\"11.00\" fill=\"#444443\">q </text>\n",
       "<polygon fill=\"#d9e6f5\" stroke=\"transparent\" points=\"16,-41 16,-54 33,-54 33,-41 16,-41\"/>\n",
       "<text text-anchor=\"start\" x=\"17\" y=\"-44.2\" font-family=\"Helvetica,sans-Serif\" font-size=\"11.00\" fill=\"#444443\"> 0</text>\n",
       "</g>\n",
       "<!-- node4400719816&#45;&gt;node140650211574408 -->\n",
       "<!-- node140650212456888 -->\n",
       "<g id=\"node3\" class=\"node\">\n",
       "<title>node140650212456888</title>\n",
       "<polygon fill=\"#d9e6f5\" stroke=\"#444443\" stroke-width=\".5\" points=\"34,-32 4,-32 4,0 34,0 34,-32\"/>\n",
       "<polygon fill=\"#d9e6f5\" stroke=\"transparent\" points=\"6,-17 6,-30 32,-30 32,-17 6,-17\"/>\n",
       "<polyline fill=\"none\" stroke=\"#444443\" points=\"6,-17 32,-17 \"/>\n",
       "<text text-anchor=\"start\" x=\"16.25\" y=\"-20.2\" font-family=\"Times,serif\" font-style=\"italic\" font-size=\"11.00\" fill=\"#444443\">g</text>\n",
       "<polygon fill=\"#d9e6f5\" stroke=\"transparent\" points=\"6,-15 6,-17 32,-17 32,-15 6,-15\"/>\n",
       "<polygon fill=\"#d9e6f5\" stroke=\"transparent\" points=\"6,-2 6,-15 15,-15 15,-2 6,-2\"/>\n",
       "<polyline fill=\"none\" stroke=\"#444443\" points=\"15,-2 15,-15 \"/>\n",
       "<text text-anchor=\"start\" x=\"6.6838\" y=\"-5.2\" font-family=\"Times,serif\" font-style=\"italic\" font-size=\"11.00\" fill=\"#444443\">y </text>\n",
       "<polygon fill=\"#d9e6f5\" stroke=\"transparent\" points=\"15,-2 15,-15 32,-15 32,-2 15,-2\"/>\n",
       "<text text-anchor=\"start\" x=\"15.8542\" y=\"-5.2\" font-family=\"Helvetica,sans-Serif\" font-size=\"11.00\" fill=\"#444443\"> 33</text>\n",
       "</g>\n",
       "<!-- node140650211574408&#45;&gt;node140650212456888 -->\n",
       "</g>\n",
       "</svg>\n"
      ],
      "text/plain": [
       "<graphviz.files.Source at 0x106399160>"
      ]
     },
     "metadata": {},
     "output_type": "display_data"
    },
    {
     "name": "stdout",
     "output_type": "stream",
     "text": [
      "back from g\n"
     ]
    },
    {
     "data": {
      "image/svg+xml": [
       "<?xml version=\"1.0\" encoding=\"UTF-8\" standalone=\"no\"?>\n",
       "<!DOCTYPE svg PUBLIC \"-//W3C//DTD SVG 1.1//EN\"\n",
       " \"http://www.w3.org/Graphics/SVG/1.1/DTD/svg11.dtd\">\n",
       "<!-- Generated by graphviz version 2.40.1 (20161225.0304)\n",
       " -->\n",
       "<!-- Title: G Pages: 1 -->\n",
       "<svg width=\"46pt\" height=\"95pt\"\n",
       " viewBox=\"0.00 0.00 46.00 94.50\" xmlns=\"http://www.w3.org/2000/svg\" xmlns:xlink=\"http://www.w3.org/1999/xlink\">\n",
       "<g id=\"graph0\" class=\"graph\" transform=\"scale(1 1) rotate(0) translate(4 90.5)\">\n",
       "<title>G</title>\n",
       "<polygon fill=\"#ffffff\" stroke=\"transparent\" points=\"-4,4 -4,-90.5 42,-90.5 42,4 -4,4\"/>\n",
       "<!-- node4400719816 -->\n",
       "<g id=\"node1\" class=\"node\">\n",
       "<title>node4400719816</title>\n",
       "<polygon fill=\"#d9e6f5\" stroke=\"#444443\" stroke-width=\".5\" points=\"38,-86.5 0,-86.5 0,-54.5 38,-54.5 38,-86.5\"/>\n",
       "<polygon fill=\"#d9e6f5\" stroke=\"transparent\" points=\"2,-71.5 2,-84.5 36,-84.5 36,-71.5 2,-71.5\"/>\n",
       "<polyline fill=\"none\" stroke=\"#444443\" points=\"2,-71.5 36,-71.5 \"/>\n",
       "<text text-anchor=\"start\" x=\"2.8035\" y=\"-74.7\" font-family=\"Times,serif\" font-style=\"italic\" font-size=\"11.00\" fill=\"#444443\">globals</text>\n",
       "<polygon fill=\"#d9e6f5\" stroke=\"transparent\" points=\"2,-69.5 2,-71.5 36,-71.5 36,-69.5 2,-69.5\"/>\n",
       "<polygon fill=\"#d9e6f5\" stroke=\"transparent\" points=\"2,-56.5 2,-69.5 15,-69.5 15,-56.5 2,-56.5\"/>\n",
       "<polyline fill=\"none\" stroke=\"#444443\" points=\"15,-56.5 15,-69.5 \"/>\n",
       "<text text-anchor=\"start\" x=\"5.4438\" y=\"-59.7\" font-family=\"Helvetica,sans-Serif\" font-size=\"11.00\" fill=\"#444443\">z </text>\n",
       "<polygon fill=\"#d9e6f5\" stroke=\"transparent\" points=\"17,-56.5 17,-69.5 36,-69.5 36,-56.5 17,-56.5\"/>\n",
       "<text text-anchor=\"start\" x=\"18\" y=\"-59.7\" font-family=\"Helvetica,sans-Serif\" font-size=\"11.00\" fill=\"#444443\"> 99</text>\n",
       "</g>\n",
       "<!-- node140650211574408 -->\n",
       "<g id=\"node2\" class=\"node\">\n",
       "<title>node140650211574408</title>\n",
       "<polygon fill=\"#d9e6f5\" stroke=\"#444443\" stroke-width=\".5\" points=\"35,-47 3,-47 3,0 35,0 35,-47\"/>\n",
       "<polygon fill=\"#d9e6f5\" stroke=\"transparent\" points=\"5,-31.5 5,-44.5 33,-44.5 33,-31.5 5,-31.5\"/>\n",
       "<polyline fill=\"none\" stroke=\"#444443\" points=\"5,-31.5 33,-31.5 \"/>\n",
       "<text text-anchor=\"start\" x=\"17.4719\" y=\"-34.7\" font-family=\"Times,serif\" font-style=\"italic\" font-size=\"11.00\" fill=\"#444443\">f</text>\n",
       "<polygon fill=\"#d9e6f5\" stroke=\"transparent\" points=\"5,-29.5 5,-31.5 33,-31.5 33,-29.5 5,-29.5\"/>\n",
       "<polygon fill=\"#d9e6f5\" stroke=\"transparent\" points=\"5,-16.5 5,-29.5 16,-29.5 16,-16.5 5,-16.5\"/>\n",
       "<polyline fill=\"none\" stroke=\"#444443\" points=\"16,-16.5 16,-29.5 \"/>\n",
       "<text text-anchor=\"start\" x=\"7.3677\" y=\"-19.7\" font-family=\"Times,serif\" font-style=\"italic\" font-size=\"11.00\" fill=\"#444443\">x </text>\n",
       "<polygon fill=\"#d9e6f5\" stroke=\"transparent\" points=\"16,-16.5 16,-29.5 33,-29.5 33,-16.5 16,-16.5\"/>\n",
       "<text text-anchor=\"start\" x=\"16.8542\" y=\"-19.7\" font-family=\"Helvetica,sans-Serif\" font-size=\"11.00\" fill=\"#444443\"> 33</text>\n",
       "<polygon fill=\"#d9e6f5\" stroke=\"transparent\" points=\"5,-14.5 5,-16.5 33,-16.5 33,-14.5 5,-14.5\"/>\n",
       "<polygon fill=\"#d9e6f5\" stroke=\"transparent\" points=\"5,-1.5 5,-14.5 16,-14.5 16,-1.5 5,-1.5\"/>\n",
       "<polyline fill=\"none\" stroke=\"#444443\" points=\"16,-1.5 16,-14.5 \"/>\n",
       "<text text-anchor=\"start\" x=\"5.9131\" y=\"-4.7\" font-family=\"Helvetica,sans-Serif\" font-size=\"11.00\" fill=\"#444443\">q </text>\n",
       "<polygon fill=\"#d9e6f5\" stroke=\"transparent\" points=\"16,-1.5 16,-14.5 33,-14.5 33,-1.5 16,-1.5\"/>\n",
       "<text text-anchor=\"start\" x=\"17\" y=\"-4.7\" font-family=\"Helvetica,sans-Serif\" font-size=\"11.00\" fill=\"#444443\"> 0</text>\n",
       "</g>\n",
       "<!-- node4400719816&#45;&gt;node140650211574408 -->\n",
       "</g>\n",
       "</svg>\n"
      ],
      "text/plain": [
       "<graphviz.files.Source at 0x106399160>"
      ]
     },
     "metadata": {},
     "output_type": "display_data"
    },
    {
     "name": "stdout",
     "output_type": "stream",
     "text": [
      "back from f\n"
     ]
    },
    {
     "data": {
      "image/svg+xml": [
       "<?xml version=\"1.0\" encoding=\"UTF-8\" standalone=\"no\"?>\n",
       "<!DOCTYPE svg PUBLIC \"-//W3C//DTD SVG 1.1//EN\"\n",
       " \"http://www.w3.org/Graphics/SVG/1.1/DTD/svg11.dtd\">\n",
       "<!-- Generated by graphviz version 2.40.1 (20161225.0304)\n",
       " -->\n",
       "<!-- Title: G Pages: 1 -->\n",
       "<svg width=\"46pt\" height=\"40pt\"\n",
       " viewBox=\"0.00 0.00 46.00 40.00\" xmlns=\"http://www.w3.org/2000/svg\" xmlns:xlink=\"http://www.w3.org/1999/xlink\">\n",
       "<g id=\"graph0\" class=\"graph\" transform=\"scale(1 1) rotate(0) translate(4 36)\">\n",
       "<title>G</title>\n",
       "<polygon fill=\"#ffffff\" stroke=\"transparent\" points=\"-4,4 -4,-36 42,-36 42,4 -4,4\"/>\n",
       "<!-- node4400722448 -->\n",
       "<g id=\"node1\" class=\"node\">\n",
       "<title>node4400722448</title>\n",
       "<polygon fill=\"#d9e6f5\" stroke=\"#444443\" stroke-width=\".5\" points=\"38,-32 0,-32 0,0 38,0 38,-32\"/>\n",
       "<polygon fill=\"#d9e6f5\" stroke=\"transparent\" points=\"2,-17 2,-30 36,-30 36,-17 2,-17\"/>\n",
       "<polyline fill=\"none\" stroke=\"#444443\" points=\"2,-17 36,-17 \"/>\n",
       "<text text-anchor=\"start\" x=\"2.8035\" y=\"-20.2\" font-family=\"Times,serif\" font-style=\"italic\" font-size=\"11.00\" fill=\"#444443\">globals</text>\n",
       "<polygon fill=\"#d9e6f5\" stroke=\"transparent\" points=\"2,-15 2,-17 36,-17 36,-15 2,-15\"/>\n",
       "<polygon fill=\"#d9e6f5\" stroke=\"transparent\" points=\"2,-2 2,-15 15,-15 15,-2 2,-2\"/>\n",
       "<polyline fill=\"none\" stroke=\"#444443\" points=\"15,-2 15,-15 \"/>\n",
       "<text text-anchor=\"start\" x=\"5.4438\" y=\"-5.2\" font-family=\"Helvetica,sans-Serif\" font-size=\"11.00\" fill=\"#444443\">z </text>\n",
       "<polygon fill=\"#d9e6f5\" stroke=\"transparent\" points=\"17,-2 17,-15 36,-15 36,-2 17,-2\"/>\n",
       "<text text-anchor=\"start\" x=\"18\" y=\"-5.2\" font-family=\"Helvetica,sans-Serif\" font-size=\"11.00\" fill=\"#444443\"> 99</text>\n",
       "</g>\n",
       "</g>\n",
       "</svg>\n"
      ],
      "text/plain": [
       "<graphviz.files.Source at 0x106399160>"
      ]
     },
     "metadata": {},
     "output_type": "display_data"
    }
   ],
   "source": [
    "from lolviz import *\n",
    "def f(x):\n",
    "    q = 0\n",
    "    g(x)\n",
    "    print(\"back from g\")\n",
    "    display(callsviz(varnames=['x','q','y','z']))\n",
    "    \n",
    "def g(y):\n",
    "    print(y)\n",
    "    display(callsviz(varnames=['x','q','y','z']))\n",
    "\n",
    "z = 99\n",
    "f(33)\n",
    "print(\"back from f\")\n",
    "display(callsviz(varnames=['x','q','y','z']))"
   ]
  },
  {
   "cell_type": "markdown",
   "metadata": {},
   "source": [
    "### Visibility rules\n",
    "\n",
    "Now that you have the idea of context in mind, let's establish some rules for the visibility of variables according to context:\n",
    "\n",
    "* Main programs cannot see variables and arguments inside functions; just because a main program can call a function, doesn't mean it can see the inner workings. Think of functions as black boxes that take parameters and return values.\n",
    "* Functions can technically see global variables but don't do this as a general rule.  Pass the global variables that you need to each function as arguments.\n",
    "\n",
    "The latter rule is a good one because violating it generally means you're doing something \"wrong\". For example, if we tweak the `sum` accumulator function to refer directly to the global variable `Quantity`, we get:\n",
    "\n",
    "```python\n",
    "Quantity = [6, 49, 27, 30, 19, 21, 12, 22, 21]\n",
    "def sum(data):         # parameter not used!\n",
    "    s = 0\n",
    "    for q in Quantity: # uh oh!\n",
    "        s = s + q\n",
    "    return s\n",
    "```\n",
    "\n",
    "The problem is that, now, `sum` only works on that global data. It's not generically useful. The clue is that the function ignores the `data` argument. So, technically the function can see global data, but it's not a good idea. (Violating this rule to alter a global variable is also a good way to get a subtle bug that's difficult to find.)"
   ]
  },
  {
   "cell_type": "markdown",
   "metadata": {},
   "source": [
    "### Technically we need to see global symbols (functions)"
   ]
  },
  {
   "cell_type": "code",
   "execution_count": 51,
   "metadata": {},
   "outputs": [
    {
     "name": "stdout",
     "output_type": "stream",
     "text": [
      "hi mom!\n"
     ]
    }
   ],
   "source": [
    "def f():\n",
    "    g()\n",
    "    \n",
    "def g():\n",
    "    print(\"hi mom!\")\n",
    "    \n",
    "f()"
   ]
  },
  {
   "cell_type": "markdown",
   "metadata": {},
   "source": [
    "## Return values versus printing\n",
    "\n",
    "Just to pound this concept into your heads...\n",
    "\n",
    "One of the big confusion points for students is the difference between return values and printing results. We'll look at this again when we translate plans to Python code, but it's important to understand this difference right away. \n",
    "\n",
    "Programs in the analytics world typically read data from a file and emit output or write data to another file. In other words, programs interact with the world outside of the program.  The world outside of the program is usually the network, the disk, or the screen.  In contrast, most functions that we write won't interact with the outside world.  \n",
    "\n",
    "<img src=\"images/redbang.png\" width=\"30\" align=\"left\">Functions compute and return (give values back) to their caller. They don't print anything to the user unless explicitly asked to do so with a `print` statement.  "
   ]
  },
  {
   "cell_type": "code",
   "execution_count": 55,
   "metadata": {},
   "outputs": [
    {
     "name": "stdout",
     "output_type": "stream",
     "text": [
      "3.14159\n",
      "None\n"
     ]
    }
   ],
   "source": [
    "def pi():\n",
    "    print(3.14159) # This is not a return statement!\n",
    "    \n",
    "print(pi())"
   ]
  }
 ],
 "metadata": {
  "anaconda-cloud": {},
  "kernelspec": {
   "display_name": "Python 3",
   "language": "python",
   "name": "python3"
  },
  "language_info": {
   "codemirror_mode": {
    "name": "ipython",
    "version": 3
   },
   "file_extension": ".py",
   "mimetype": "text/x-python",
   "name": "python",
   "nbconvert_exporter": "python",
   "pygments_lexer": "ipython3",
   "version": "3.6.6"
  },
  "toc": {
   "colors": {
    "hover_highlight": "#DAA520",
    "navigate_num": "#000000",
    "navigate_text": "#333333",
    "running_highlight": "#FF0000",
    "selected_highlight": "#FFD700",
    "sidebar_border": "#EEEEEE",
    "wrapper_background": "#FFFFFF"
   },
   "moveMenuLeft": true,
   "nav_menu": {
    "height": "208px",
    "width": "252px"
   },
   "navigate_menu": true,
   "number_sections": true,
   "sideBar": true,
   "threshold": 4,
   "toc_cell": false,
   "toc_section_display": "block",
   "toc_window_display": false,
   "widenNotebook": false
  }
 },
 "nbformat": 4,
 "nbformat_minor": 2
}
